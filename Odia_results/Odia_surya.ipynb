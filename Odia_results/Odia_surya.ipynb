{
  "nbformat": 4,
  "nbformat_minor": 0,
  "metadata": {
    "colab": {
      "provenance": []
    },
    "kernelspec": {
      "name": "python3",
      "display_name": "Python 3"
    },
    "language_info": {
      "name": "python"
    }
  },
  "cells": [
    {
      "cell_type": "code",
      "execution_count": 1,
      "metadata": {
        "colab": {
          "base_uri": "https://localhost:8080/"
        },
        "id": "nEBf-RocZ08V",
        "outputId": "9bb0ddfb-af35-4f65-c259-ca7667aa76e1"
      },
      "outputs": [
        {
          "output_type": "stream",
          "name": "stdout",
          "text": [
            "Python 3.11.11\n"
          ]
        }
      ],
      "source": [
        "!python --version"
      ]
    },
    {
      "cell_type": "code",
      "source": [
        "!pip install -U torch"
      ],
      "metadata": {
        "colab": {
          "base_uri": "https://localhost:8080/"
        },
        "id": "bXH2fld9Z2W0",
        "outputId": "e87523c9-6f71-4e4c-a0ea-51ac8f4080c8"
      },
      "execution_count": 3,
      "outputs": [
        {
          "output_type": "stream",
          "name": "stdout",
          "text": [
            "Requirement already satisfied: torch in /usr/local/lib/python3.11/dist-packages (2.6.0)\n",
            "Requirement already satisfied: filelock in /usr/local/lib/python3.11/dist-packages (from torch) (3.17.0)\n",
            "Requirement already satisfied: typing-extensions>=4.10.0 in /usr/local/lib/python3.11/dist-packages (from torch) (4.12.2)\n",
            "Requirement already satisfied: networkx in /usr/local/lib/python3.11/dist-packages (from torch) (3.4.2)\n",
            "Requirement already satisfied: jinja2 in /usr/local/lib/python3.11/dist-packages (from torch) (3.1.5)\n",
            "Requirement already satisfied: fsspec in /usr/local/lib/python3.11/dist-packages (from torch) (2024.10.0)\n",
            "Requirement already satisfied: nvidia-cuda-nvrtc-cu12==12.4.127 in /usr/local/lib/python3.11/dist-packages (from torch) (12.4.127)\n",
            "Requirement already satisfied: nvidia-cuda-runtime-cu12==12.4.127 in /usr/local/lib/python3.11/dist-packages (from torch) (12.4.127)\n",
            "Requirement already satisfied: nvidia-cuda-cupti-cu12==12.4.127 in /usr/local/lib/python3.11/dist-packages (from torch) (12.4.127)\n",
            "Requirement already satisfied: nvidia-cudnn-cu12==9.1.0.70 in /usr/local/lib/python3.11/dist-packages (from torch) (9.1.0.70)\n",
            "Requirement already satisfied: nvidia-cublas-cu12==12.4.5.8 in /usr/local/lib/python3.11/dist-packages (from torch) (12.4.5.8)\n",
            "Requirement already satisfied: nvidia-cufft-cu12==11.2.1.3 in /usr/local/lib/python3.11/dist-packages (from torch) (11.2.1.3)\n",
            "Requirement already satisfied: nvidia-curand-cu12==10.3.5.147 in /usr/local/lib/python3.11/dist-packages (from torch) (10.3.5.147)\n",
            "Requirement already satisfied: nvidia-cusolver-cu12==11.6.1.9 in /usr/local/lib/python3.11/dist-packages (from torch) (11.6.1.9)\n",
            "Requirement already satisfied: nvidia-cusparse-cu12==12.3.1.170 in /usr/local/lib/python3.11/dist-packages (from torch) (12.3.1.170)\n",
            "Requirement already satisfied: nvidia-cusparselt-cu12==0.6.2 in /usr/local/lib/python3.11/dist-packages (from torch) (0.6.2)\n",
            "Requirement already satisfied: nvidia-nccl-cu12==2.21.5 in /usr/local/lib/python3.11/dist-packages (from torch) (2.21.5)\n",
            "Requirement already satisfied: nvidia-nvtx-cu12==12.4.127 in /usr/local/lib/python3.11/dist-packages (from torch) (12.4.127)\n",
            "Requirement already satisfied: nvidia-nvjitlink-cu12==12.4.127 in /usr/local/lib/python3.11/dist-packages (from torch) (12.4.127)\n",
            "Requirement already satisfied: triton==3.2.0 in /usr/local/lib/python3.11/dist-packages (from torch) (3.2.0)\n",
            "Requirement already satisfied: sympy==1.13.1 in /usr/local/lib/python3.11/dist-packages (from torch) (1.13.1)\n",
            "Requirement already satisfied: mpmath<1.4,>=1.1.0 in /usr/local/lib/python3.11/dist-packages (from sympy==1.13.1->torch) (1.3.0)\n",
            "Requirement already satisfied: MarkupSafe>=2.0 in /usr/local/lib/python3.11/dist-packages (from jinja2->torch) (3.0.2)\n"
          ]
        }
      ]
    },
    {
      "cell_type": "code",
      "source": [
        "!pip3 install torch --upgrade torchvision torchaudio --index-url https://download.pytorch.org/whl/cu118"
      ],
      "metadata": {
        "colab": {
          "base_uri": "https://localhost:8080/"
        },
        "id": "6ZbmZF6qZ2TX",
        "outputId": "290a9a44-cec9-40b6-842a-f4e29082230e"
      },
      "execution_count": 5,
      "outputs": [
        {
          "output_type": "stream",
          "name": "stdout",
          "text": [
            "Looking in indexes: https://download.pytorch.org/whl/cu118\n",
            "Requirement already satisfied: torch in /usr/local/lib/python3.11/dist-packages (2.6.0+cu118)\n",
            "Requirement already satisfied: torchvision in /usr/local/lib/python3.11/dist-packages (0.21.0+cu118)\n",
            "Requirement already satisfied: torchaudio in /usr/local/lib/python3.11/dist-packages (2.6.0+cu118)\n",
            "Requirement already satisfied: filelock in /usr/local/lib/python3.11/dist-packages (from torch) (3.17.0)\n",
            "Requirement already satisfied: typing-extensions>=4.10.0 in /usr/local/lib/python3.11/dist-packages (from torch) (4.12.2)\n",
            "Requirement already satisfied: networkx in /usr/local/lib/python3.11/dist-packages (from torch) (3.4.2)\n",
            "Requirement already satisfied: jinja2 in /usr/local/lib/python3.11/dist-packages (from torch) (3.1.5)\n",
            "Requirement already satisfied: fsspec in /usr/local/lib/python3.11/dist-packages (from torch) (2024.10.0)\n",
            "Requirement already satisfied: nvidia-cuda-nvrtc-cu11==11.8.89 in /usr/local/lib/python3.11/dist-packages (from torch) (11.8.89)\n",
            "Requirement already satisfied: nvidia-cuda-runtime-cu11==11.8.89 in /usr/local/lib/python3.11/dist-packages (from torch) (11.8.89)\n",
            "Requirement already satisfied: nvidia-cuda-cupti-cu11==11.8.87 in /usr/local/lib/python3.11/dist-packages (from torch) (11.8.87)\n",
            "Requirement already satisfied: nvidia-cudnn-cu11==9.1.0.70 in /usr/local/lib/python3.11/dist-packages (from torch) (9.1.0.70)\n",
            "Requirement already satisfied: nvidia-cublas-cu11==11.11.3.6 in /usr/local/lib/python3.11/dist-packages (from torch) (11.11.3.6)\n",
            "Requirement already satisfied: nvidia-cufft-cu11==10.9.0.58 in /usr/local/lib/python3.11/dist-packages (from torch) (10.9.0.58)\n",
            "Requirement already satisfied: nvidia-curand-cu11==10.3.0.86 in /usr/local/lib/python3.11/dist-packages (from torch) (10.3.0.86)\n",
            "Requirement already satisfied: nvidia-cusolver-cu11==11.4.1.48 in /usr/local/lib/python3.11/dist-packages (from torch) (11.4.1.48)\n",
            "Requirement already satisfied: nvidia-cusparse-cu11==11.7.5.86 in /usr/local/lib/python3.11/dist-packages (from torch) (11.7.5.86)\n",
            "Requirement already satisfied: nvidia-nccl-cu11==2.21.5 in /usr/local/lib/python3.11/dist-packages (from torch) (2.21.5)\n",
            "Requirement already satisfied: nvidia-nvtx-cu11==11.8.86 in /usr/local/lib/python3.11/dist-packages (from torch) (11.8.86)\n",
            "Requirement already satisfied: triton==3.2.0 in /usr/local/lib/python3.11/dist-packages (from torch) (3.2.0)\n",
            "Requirement already satisfied: sympy==1.13.1 in /usr/local/lib/python3.11/dist-packages (from torch) (1.13.1)\n",
            "Requirement already satisfied: mpmath<1.4,>=1.1.0 in /usr/local/lib/python3.11/dist-packages (from sympy==1.13.1->torch) (1.3.0)\n",
            "Requirement already satisfied: numpy in /usr/local/lib/python3.11/dist-packages (from torchvision) (1.26.4)\n",
            "Requirement already satisfied: pillow!=8.3.*,>=5.3.0 in /usr/local/lib/python3.11/dist-packages (from torchvision) (11.1.0)\n",
            "Requirement already satisfied: MarkupSafe>=2.0 in /usr/local/lib/python3.11/dist-packages (from jinja2->torch) (3.0.2)\n"
          ]
        }
      ]
    },
    {
      "cell_type": "code",
      "source": [
        "!pip install surya-ocr"
      ],
      "metadata": {
        "colab": {
          "base_uri": "https://localhost:8080/"
        },
        "id": "8rBb2_qnZ2QX",
        "outputId": "768f6c32-969f-4d85-fcb8-6eccd12629c2"
      },
      "execution_count": 1,
      "outputs": [
        {
          "output_type": "stream",
          "name": "stdout",
          "text": [
            "Requirement already satisfied: surya-ocr in /usr/local/lib/python3.11/dist-packages (0.12.0)\n",
            "Requirement already satisfied: click<9.0.0,>=8.1.8 in /usr/local/lib/python3.11/dist-packages (from surya-ocr) (8.1.8)\n",
            "Requirement already satisfied: filetype<2.0.0,>=1.2.0 in /usr/local/lib/python3.11/dist-packages (from surya-ocr) (1.2.0)\n",
            "Requirement already satisfied: opencv-python-headless<5.0.0.0,>=4.11.0.86 in /usr/local/lib/python3.11/dist-packages (from surya-ocr) (4.11.0.86)\n",
            "Requirement already satisfied: pillow<11.0.0,>=10.2.0 in /usr/local/lib/python3.11/dist-packages (from surya-ocr) (10.4.0)\n",
            "Requirement already satisfied: platformdirs<5.0.0,>=4.3.6 in /usr/local/lib/python3.11/dist-packages (from surya-ocr) (4.3.6)\n",
            "Requirement already satisfied: pydantic<3.0.0,>=2.5.3 in /usr/local/lib/python3.11/dist-packages (from surya-ocr) (2.10.6)\n",
            "Requirement already satisfied: pydantic-settings<3.0.0,>=2.1.0 in /usr/local/lib/python3.11/dist-packages (from surya-ocr) (2.8.0)\n",
            "Requirement already satisfied: pypdfium2==4.30.0 in /usr/local/lib/python3.11/dist-packages (from surya-ocr) (4.30.0)\n",
            "Requirement already satisfied: python-dotenv<2.0.0,>=1.0.0 in /usr/local/lib/python3.11/dist-packages (from surya-ocr) (1.0.1)\n",
            "Requirement already satisfied: torch<3.0.0,>=2.5.1 in /usr/local/lib/python3.11/dist-packages (from surya-ocr) (2.6.0+cu118)\n",
            "Requirement already satisfied: transformers<5.0.0,>=4.41.0 in /usr/local/lib/python3.11/dist-packages (from surya-ocr) (4.48.3)\n",
            "Requirement already satisfied: numpy>=1.21.2 in /usr/local/lib/python3.11/dist-packages (from opencv-python-headless<5.0.0.0,>=4.11.0.86->surya-ocr) (1.26.4)\n",
            "Requirement already satisfied: annotated-types>=0.6.0 in /usr/local/lib/python3.11/dist-packages (from pydantic<3.0.0,>=2.5.3->surya-ocr) (0.7.0)\n",
            "Requirement already satisfied: pydantic-core==2.27.2 in /usr/local/lib/python3.11/dist-packages (from pydantic<3.0.0,>=2.5.3->surya-ocr) (2.27.2)\n",
            "Requirement already satisfied: typing-extensions>=4.12.2 in /usr/local/lib/python3.11/dist-packages (from pydantic<3.0.0,>=2.5.3->surya-ocr) (4.12.2)\n",
            "Requirement already satisfied: filelock in /usr/local/lib/python3.11/dist-packages (from torch<3.0.0,>=2.5.1->surya-ocr) (3.17.0)\n",
            "Requirement already satisfied: networkx in /usr/local/lib/python3.11/dist-packages (from torch<3.0.0,>=2.5.1->surya-ocr) (3.4.2)\n",
            "Requirement already satisfied: jinja2 in /usr/local/lib/python3.11/dist-packages (from torch<3.0.0,>=2.5.1->surya-ocr) (3.1.5)\n",
            "Requirement already satisfied: fsspec in /usr/local/lib/python3.11/dist-packages (from torch<3.0.0,>=2.5.1->surya-ocr) (2024.10.0)\n",
            "Requirement already satisfied: nvidia-cuda-nvrtc-cu11==11.8.89 in /usr/local/lib/python3.11/dist-packages (from torch<3.0.0,>=2.5.1->surya-ocr) (11.8.89)\n",
            "Requirement already satisfied: nvidia-cuda-runtime-cu11==11.8.89 in /usr/local/lib/python3.11/dist-packages (from torch<3.0.0,>=2.5.1->surya-ocr) (11.8.89)\n",
            "Requirement already satisfied: nvidia-cuda-cupti-cu11==11.8.87 in /usr/local/lib/python3.11/dist-packages (from torch<3.0.0,>=2.5.1->surya-ocr) (11.8.87)\n",
            "Requirement already satisfied: nvidia-cudnn-cu11==9.1.0.70 in /usr/local/lib/python3.11/dist-packages (from torch<3.0.0,>=2.5.1->surya-ocr) (9.1.0.70)\n",
            "Requirement already satisfied: nvidia-cublas-cu11==11.11.3.6 in /usr/local/lib/python3.11/dist-packages (from torch<3.0.0,>=2.5.1->surya-ocr) (11.11.3.6)\n",
            "Requirement already satisfied: nvidia-cufft-cu11==10.9.0.58 in /usr/local/lib/python3.11/dist-packages (from torch<3.0.0,>=2.5.1->surya-ocr) (10.9.0.58)\n",
            "Requirement already satisfied: nvidia-curand-cu11==10.3.0.86 in /usr/local/lib/python3.11/dist-packages (from torch<3.0.0,>=2.5.1->surya-ocr) (10.3.0.86)\n",
            "Requirement already satisfied: nvidia-cusolver-cu11==11.4.1.48 in /usr/local/lib/python3.11/dist-packages (from torch<3.0.0,>=2.5.1->surya-ocr) (11.4.1.48)\n",
            "Requirement already satisfied: nvidia-cusparse-cu11==11.7.5.86 in /usr/local/lib/python3.11/dist-packages (from torch<3.0.0,>=2.5.1->surya-ocr) (11.7.5.86)\n",
            "Requirement already satisfied: nvidia-nccl-cu11==2.21.5 in /usr/local/lib/python3.11/dist-packages (from torch<3.0.0,>=2.5.1->surya-ocr) (2.21.5)\n",
            "Requirement already satisfied: nvidia-nvtx-cu11==11.8.86 in /usr/local/lib/python3.11/dist-packages (from torch<3.0.0,>=2.5.1->surya-ocr) (11.8.86)\n",
            "Requirement already satisfied: triton==3.2.0 in /usr/local/lib/python3.11/dist-packages (from torch<3.0.0,>=2.5.1->surya-ocr) (3.2.0)\n",
            "Requirement already satisfied: sympy==1.13.1 in /usr/local/lib/python3.11/dist-packages (from torch<3.0.0,>=2.5.1->surya-ocr) (1.13.1)\n",
            "Requirement already satisfied: mpmath<1.4,>=1.1.0 in /usr/local/lib/python3.11/dist-packages (from sympy==1.13.1->torch<3.0.0,>=2.5.1->surya-ocr) (1.3.0)\n",
            "Requirement already satisfied: huggingface-hub<1.0,>=0.24.0 in /usr/local/lib/python3.11/dist-packages (from transformers<5.0.0,>=4.41.0->surya-ocr) (0.28.1)\n",
            "Requirement already satisfied: packaging>=20.0 in /usr/local/lib/python3.11/dist-packages (from transformers<5.0.0,>=4.41.0->surya-ocr) (24.2)\n",
            "Requirement already satisfied: pyyaml>=5.1 in /usr/local/lib/python3.11/dist-packages (from transformers<5.0.0,>=4.41.0->surya-ocr) (6.0.2)\n",
            "Requirement already satisfied: regex!=2019.12.17 in /usr/local/lib/python3.11/dist-packages (from transformers<5.0.0,>=4.41.0->surya-ocr) (2024.11.6)\n",
            "Requirement already satisfied: requests in /usr/local/lib/python3.11/dist-packages (from transformers<5.0.0,>=4.41.0->surya-ocr) (2.32.3)\n",
            "Requirement already satisfied: tokenizers<0.22,>=0.21 in /usr/local/lib/python3.11/dist-packages (from transformers<5.0.0,>=4.41.0->surya-ocr) (0.21.0)\n",
            "Requirement already satisfied: safetensors>=0.4.1 in /usr/local/lib/python3.11/dist-packages (from transformers<5.0.0,>=4.41.0->surya-ocr) (0.5.2)\n",
            "Requirement already satisfied: tqdm>=4.27 in /usr/local/lib/python3.11/dist-packages (from transformers<5.0.0,>=4.41.0->surya-ocr) (4.67.1)\n",
            "Requirement already satisfied: MarkupSafe>=2.0 in /usr/local/lib/python3.11/dist-packages (from jinja2->torch<3.0.0,>=2.5.1->surya-ocr) (3.0.2)\n",
            "Requirement already satisfied: charset-normalizer<4,>=2 in /usr/local/lib/python3.11/dist-packages (from requests->transformers<5.0.0,>=4.41.0->surya-ocr) (3.4.1)\n",
            "Requirement already satisfied: idna<4,>=2.5 in /usr/local/lib/python3.11/dist-packages (from requests->transformers<5.0.0,>=4.41.0->surya-ocr) (3.10)\n",
            "Requirement already satisfied: urllib3<3,>=1.21.1 in /usr/local/lib/python3.11/dist-packages (from requests->transformers<5.0.0,>=4.41.0->surya-ocr) (2.3.0)\n",
            "Requirement already satisfied: certifi>=2017.4.17 in /usr/local/lib/python3.11/dist-packages (from requests->transformers<5.0.0,>=4.41.0->surya-ocr) (2025.1.31)\n"
          ]
        }
      ]
    },
    {
      "cell_type": "code",
      "source": [
        "from surya.recognition import RecognitionPredictor\n",
        "from surya.detection import DetectionPredictor\n",
        "import os\n",
        "import json"
      ],
      "metadata": {
        "id": "VmItKUg_Z2Nn"
      },
      "execution_count": 2,
      "outputs": []
    },
    {
      "cell_type": "code",
      "source": [
        "recognition_predictor = RecognitionPredictor()\n",
        "detection_predictor = DetectionPredictor()"
      ],
      "metadata": {
        "colab": {
          "base_uri": "https://localhost:8080/"
        },
        "id": "4eTp0Wf5Z2LP",
        "outputId": "26918e4c-816a-4aae-8f0f-35a7b7c41991"
      },
      "execution_count": 3,
      "outputs": [
        {
          "output_type": "stream",
          "name": "stderr",
          "text": [
            "Downloading text_recognition model...: 100%|██████████| 9/9 [00:08<00:00,  1.08it/s]\n"
          ]
        },
        {
          "output_type": "stream",
          "name": "stdout",
          "text": [
            "Loaded recognition model s3://text_recognition/2025_02_18 on device cpu with dtype torch.float32\n"
          ]
        },
        {
          "output_type": "stream",
          "name": "stderr",
          "text": [
            "Downloading text_detection model...: 100%|██████████| 6/6 [00:00<00:00,  9.18it/s]"
          ]
        },
        {
          "output_type": "stream",
          "name": "stdout",
          "text": [
            "Loaded detection model s3://text_detection/2025_02_18 on device cpu with dtype torch.float32\n"
          ]
        },
        {
          "output_type": "stream",
          "name": "stderr",
          "text": [
            "\n"
          ]
        }
      ]
    },
    {
      "cell_type": "code",
      "source": [
        "from google.colab import drive\n",
        "drive.mount('/content/drive')"
      ],
      "metadata": {
        "colab": {
          "base_uri": "https://localhost:8080/"
        },
        "id": "-fFrV-e5Z2IZ",
        "outputId": "95263d00-f86b-45a1-cd1f-eae90c49a9b4"
      },
      "execution_count": 4,
      "outputs": [
        {
          "output_type": "stream",
          "name": "stdout",
          "text": [
            "Mounted at /content/drive\n"
          ]
        }
      ]
    },
    {
      "cell_type": "code",
      "source": [
        "image_folder = \"/content/drive/MyDrive/Odia\"\n",
        "output_file = \"Odia_ocr_text_results.json\""
      ],
      "metadata": {
        "id": "3fzQcxJyZ2Fn"
      },
      "execution_count": 5,
      "outputs": []
    },
    {
      "cell_type": "code",
      "source": [
        "ocr_results = []"
      ],
      "metadata": {
        "id": "M5HeqRXRZ2Ct"
      },
      "execution_count": 6,
      "outputs": []
    },
    {
      "cell_type": "code",
      "source": [
        "for image_name in sorted(os.listdir(image_folder)):\n",
        "    if image_name.endswith(('.png', '.jpg', '.jpeg')):\n",
        "        image_path = os.path.join(image_folder, image_name)\n",
        "\n",
        "\n",
        "\n",
        "\n",
        "        from PIL import Image\n",
        "        image = Image.open(image_path).convert(\"RGB\")\n",
        "        predictions = recognition_predictor([image], [[\"or\"]], detection_predictor)\n",
        "\n",
        "\n",
        "\n",
        "        print(f\"\\n🖼 Image: {image_name}\")\n",
        "        print(f\"📜  Prediction: {predictions}\\n\")\n",
        "\n",
        "\n",
        "\n",
        "        extracted_text = \"\\n\".join([line.text.strip() for line in predictions[0].text_lines])\n",
        "\n",
        "\n",
        "\n",
        "\n",
        "        ocr_results.append({\"image\": image_name, \"text\": extracted_text})"
      ],
      "metadata": {
        "colab": {
          "base_uri": "https://localhost:8080/"
        },
        "id": "8SAAvjtMZ2AE",
        "outputId": "708a25d6-f809-4558-de6d-26b6bef399fa"
      },
      "execution_count": 7,
      "outputs": [
        {
          "output_type": "stream",
          "name": "stderr",
          "text": [
            "Detecting bboxes: 100%|██████████| 1/1 [00:12<00:00, 12.09s/it]\n",
            "Recognizing Text: 100%|██████████| 1/1 [00:10<00:00, 10.22s/it]\n"
          ]
        },
        {
          "output_type": "stream",
          "name": "stdout",
          "text": [
            "\n",
            "🖼 Image: 10_odi.png\n",
            "📜  Prediction: [OCRResult(text_lines=[TextLine(polygon=[[6.0, 8.0], [375.0, 8.0], [375.0, 44.0], [6.0, 44.0]], confidence=0.9427013993263245, text='ଜୀବନାରେ କେବେ କାହା', bbox=[6.0, 8.0, 375.0, 44.0]), TextLine(polygon=[[27.0, 60.0], [362.0, 60.0], [362.0, 107.0], [27.0, 107.0]], confidence=0.9917372465133667, text='ପଛରେ ଦୌଡନାହିଁ ତା', bbox=[27.0, 60.0, 362.0, 107.0])], languages=['or'], image_bbox=[0.0, 0.0, 390.0, 117.0])]\n",
            "\n"
          ]
        },
        {
          "output_type": "stream",
          "name": "stderr",
          "text": [
            "Detecting bboxes: 100%|██████████| 1/1 [00:11<00:00, 11.28s/it]\n",
            "Recognizing Text: 100%|██████████| 1/1 [00:07<00:00,  7.29s/it]\n"
          ]
        },
        {
          "output_type": "stream",
          "name": "stdout",
          "text": [
            "\n",
            "🖼 Image: 11_odi.png\n",
            "📜  Prediction: [OCRResult(text_lines=[TextLine(polygon=[[0.0, 2.0], [659.0, 2.0], [659.0, 53.0], [0.0, 53.0]], confidence=0.96577388048172, text='ରାଜ୍ୟ କ୍ୟାବିନେଟ୍\\u200cରେ ୧୦ ପ୍ରସ୍ତାବ୍ଦରେ ମୋହର', bbox=[0.0, 2.0, 659.0, 53.0])], languages=['or'], image_bbox=[0.0, 0.0, 660.0, 56.0])]\n",
            "\n"
          ]
        },
        {
          "output_type": "stream",
          "name": "stderr",
          "text": [
            "Detecting bboxes: 100%|██████████| 1/1 [00:11<00:00, 11.76s/it]\n",
            "Recognizing Text: 100%|██████████| 1/1 [00:15<00:00, 15.36s/it]\n"
          ]
        },
        {
          "output_type": "stream",
          "name": "stdout",
          "text": [
            "\n",
            "🖼 Image: 12_odi.png\n",
            "📜  Prediction: [OCRResult(text_lines=[TextLine(polygon=[[0.0, 2.0], [271.0, 0.0], [272.0, 65.0], [0.0, 67.0]], confidence=0.9761468768119812, text='ସୁଭଦ୍ରା ଯୋଜନାରେ', bbox=[0.0, 0.0, 272.0, 67.0]), TextLine(polygon=[[0.0, 67.0], [255.0, 64.0], [256.0, 122.0], [0.0, 125.0]], confidence=0.99724942445755, text='ଆବେଦନ କରିଛନ୍ତି', bbox=[0.0, 64.0, 256.0, 125.0]), TextLine(polygon=[[0.0, 135.0], [178.0, 142.0], [174.0, 209.0], [0.0, 203.0]], confidence=0.8460196256637573, text='୧୫୭ ପୁରୁଷ', bbox=[0.0, 135.0, 178.0, 209.0])], languages=['or'], image_bbox=[0.0, 0.0, 272.0, 209.0])]\n",
            "\n"
          ]
        },
        {
          "output_type": "stream",
          "name": "stderr",
          "text": [
            "Detecting bboxes: 100%|██████████| 1/1 [00:10<00:00, 10.26s/it]\n",
            "Recognizing Text: 100%|██████████| 1/1 [00:10<00:00, 10.78s/it]\n"
          ]
        },
        {
          "output_type": "stream",
          "name": "stdout",
          "text": [
            "\n",
            "🖼 Image: 13_odi.png\n",
            "📜  Prediction: [OCRResult(text_lines=[TextLine(polygon=[[0.0, 6.0], [166.0, 6.0], [166.0, 22.0], [0.0, 22.0]], confidence=0.9081165194511414, text='କସ ହନୁମାନ ଜ୍ଞାନ ଗୁନ ସାଗର ।', bbox=[0.0, 6.0, 166.0, 22.0]), TextLine(polygon=[[3.0, 21.0], [196.0, 28.0], [186.0, 46.0], [0.0, 40.0]], confidence=0.9333359599113464, text='ଜଯ କପୀସ ତିହୁଁ ଲୋକ ଉଜ୍ଜାଗର II୧II', bbox=[0.0, 21.0, 196.0, 46.0])], languages=['or'], image_bbox=[0.0, 0.0, 202.0, 50.0])]\n",
            "\n"
          ]
        },
        {
          "output_type": "stream",
          "name": "stderr",
          "text": [
            "Detecting bboxes: 100%|██████████| 1/1 [00:10<00:00, 10.93s/it]\n",
            "Recognizing Text: 100%|██████████| 1/1 [00:05<00:00,  5.34s/it]\n"
          ]
        },
        {
          "output_type": "stream",
          "name": "stdout",
          "text": [
            "\n",
            "🖼 Image: 14_odi.png\n",
            "📜  Prediction: [OCRResult(text_lines=[TextLine(polygon=[[0.0, 22.0], [655.0, 0.0], [682.0, 87.0], [37.0, 106.0]], confidence=0.9969016313552856, text='ବାଲୁ ଭାଇନା -ଓଡିଆ', bbox=[0.0, 0.0, 682.0, 106.0])], languages=['or'], image_bbox=[0.0, 0.0, 682.0, 106.0])]\n",
            "\n"
          ]
        },
        {
          "output_type": "stream",
          "name": "stderr",
          "text": [
            "Detecting bboxes: 100%|██████████| 1/1 [00:10<00:00, 10.20s/it]\n",
            "Recognizing Text: 100%|██████████| 1/1 [00:12<00:00, 12.62s/it]\n"
          ]
        },
        {
          "output_type": "stream",
          "name": "stdout",
          "text": [
            "\n",
            "🖼 Image: 15_odi.png\n",
            "📜  Prediction: [OCRResult(text_lines=[TextLine(polygon=[[0.0, 10.0], [808.0, 10.0], [808.0, 45.0], [0.0, 45.0]], confidence=0.9382162094116211, text='ଭାରତ ମୋର ଦେଶ । ଆମେ ସବୁ ଭାରତୀୟ ଭାଇ ଓ ଭଉଣୀ । ', bbox=[0.0, 10.0, 808.0, 45.0]), TextLine(polygon=[[0.0, 60.0], [809.0, 61.0], [807.0, 103.0], [0.0, 102.0]], confidence=0.987627387046814, text='ମୁଁ ମୋ ଦେଶକୁ ଭଲ ପାଏ । ଏହାର ସମୃଦ୍ଧି ଏବଂ ବିବିଧ ସଂସ୍କୃତି ', bbox=[0.0, 60.0, 809.0, 103.0])], languages=['or'], image_bbox=[0.0, 0.0, 809.0, 104.0])]\n",
            "\n"
          ]
        },
        {
          "output_type": "stream",
          "name": "stderr",
          "text": [
            "Detecting bboxes: 100%|██████████| 1/1 [00:11<00:00, 11.07s/it]\n",
            "Recognizing Text: 100%|██████████| 1/1 [00:12<00:00, 12.92s/it]\n"
          ]
        },
        {
          "output_type": "stream",
          "name": "stdout",
          "text": [
            "\n",
            "🖼 Image: 16_odi.png\n",
            "📜  Prediction: [OCRResult(text_lines=[TextLine(polygon=[[0.0, 3.0], [807.0, 3.0], [807.0, 45.0], [0.0, 45.0]], confidence=0.9508944749832153, text='ଭାରତ ମୋର ଦେଶ । ଆମେ ସବୁ ଭାରତୀୟ ଭାଇ ଓ ଭଉଣୀ । ମୁଁ ମୋ ', bbox=[0.0, 3.0, 807.0, 45.0]), TextLine(polygon=[[0.0, 59.0], [804.0, 54.0], [808.0, 99.0], [6.0, 103.0]], confidence=0.9908412098884583, text='ଦେଶକୁ ଭଲ ପାଏ । ଏହାର ସମୃଦ୍ଧି ଏବଂ ବିବିଧ ସଂସ୍କୃତି ପାଇଁ ମୋତେ ଗର୍ଜ ', bbox=[0.0, 54.0, 808.0, 103.0])], languages=['or'], image_bbox=[0.0, 0.0, 808.0, 103.0])]\n",
            "\n"
          ]
        },
        {
          "output_type": "stream",
          "name": "stderr",
          "text": [
            "Detecting bboxes: 100%|██████████| 1/1 [00:10<00:00, 10.59s/it]\n",
            "Recognizing Text: 100%|██████████| 1/1 [00:10<00:00, 10.78s/it]\n"
          ]
        },
        {
          "output_type": "stream",
          "name": "stdout",
          "text": [
            "\n",
            "🖼 Image: 17_odi.png\n",
            "📜  Prediction: [OCRResult(text_lines=[TextLine(polygon=[[0.0, 1.0], [290.0, 2.0], [288.0, 17.0], [0.0, 16.0]], confidence=0.9495618939399719, text='ଭାରତ ମୋର ଦେଶ । ଆମେ ସବୁ ଭାରତୀୟ ଭାଇ ଓ ଭଉଣୀ', bbox=[0.0, 1.0, 290.0, 17.0]), TextLine(polygon=[[0.0, 21.0], [269.0, 21.0], [269.0, 37.0], [0.0, 37.0]], confidence=0.9857457280158997, text='। ମୁଁ ମୋ ଦେଶକୁ ଭଲ ପାଏ । ଏହାର ସମୂଦ୍ଧି ଏବଂ ବିବିଧ', bbox=[0.0, 21.0, 269.0, 37.0])], languages=['or'], image_bbox=[0.0, 0.0, 290.0, 38.0])]\n",
            "\n"
          ]
        },
        {
          "output_type": "stream",
          "name": "stderr",
          "text": [
            "Detecting bboxes: 100%|██████████| 1/1 [00:10<00:00, 10.37s/it]\n",
            "Recognizing Text: 100%|██████████| 1/1 [00:15<00:00, 15.58s/it]\n"
          ]
        },
        {
          "output_type": "stream",
          "name": "stdout",
          "text": [
            "\n",
            "🖼 Image: 18_odi.png\n",
            "📜  Prediction: [OCRResult(text_lines=[TextLine(polygon=[[192.0, 0.0], [231.0, 0.0], [231.0, 5.0], [192.0, 5.0]], confidence=0.4472534656524658, text='', bbox=[192.0, 0.0, 231.0, 5.0]), TextLine(polygon=[[1.0, 1.0], [535.0, 7.0], [532.0, 60.0], [0.0, 55.0]], confidence=0.9769668579101562, text='ଭଲପାଇବାରେ ରଗାରୁସା ଥିଲେ ', bbox=[0.0, 1.0, 535.0, 60.0]), TextLine(polygon=[[109.0, 56.0], [415.0, 56.0], [416.0, 105.0], [110.0, 105.0]], confidence=0.8359804749488831, text='ଭଲପାଇବା ବଢେ', bbox=[109.0, 56.0, 416.0, 105.0])], languages=['or'], image_bbox=[0.0, 0.0, 535.0, 115.0])]\n",
            "\n"
          ]
        },
        {
          "output_type": "stream",
          "name": "stderr",
          "text": [
            "Detecting bboxes: 100%|██████████| 1/1 [00:10<00:00, 10.95s/it]\n",
            "Recognizing Text: 100%|██████████| 1/1 [00:11<00:00, 11.20s/it]\n"
          ]
        },
        {
          "output_type": "stream",
          "name": "stdout",
          "text": [
            "\n",
            "🖼 Image: 19_odi.png\n",
            "📜  Prediction: [OCRResult(text_lines=[TextLine(polygon=[[0.0, 1.0], [465.0, 0.0], [470.0, 60.0], [5.0, 62.0]], confidence=0.9501447677612305, text='ମୁଁ ମରିଗଲେ ମୋ ଶବ ଆଗରେ', bbox=[0.0, 0.0, 470.0, 62.0]), TextLine(polygon=[[91.0, 53.0], [398.0, 53.0], [398.0, 112.0], [91.0, 112.0]], confidence=0.9066438674926758, text='ଦୀପଟିଏ ଦେବୁ ଚ୍ଚାଳି', bbox=[91.0, 53.0, 398.0, 112.0])], languages=['or'], image_bbox=[0.0, 0.0, 493.0, 113.0])]\n",
            "\n"
          ]
        },
        {
          "output_type": "stream",
          "name": "stderr",
          "text": [
            "Detecting bboxes: 100%|██████████| 1/1 [00:10<00:00, 10.64s/it]\n",
            "Recognizing Text: 100%|██████████| 1/1 [00:15<00:00, 15.71s/it]\n"
          ]
        },
        {
          "output_type": "stream",
          "name": "stdout",
          "text": [
            "\n",
            "🖼 Image: 1_odi.png\n",
            "📜  Prediction: [OCRResult(text_lines=[TextLine(polygon=[[0.0, 7.0], [432.0, 6.0], [433.0, 44.0], [0.0, 46.0]], confidence=0.9935996532440186, text='ବର ର ଅଯୁଗ୍ମ ବୟସ ଏବଂ କନ୍ୟା ର', bbox=[0.0, 6.0, 433.0, 46.0]), TextLine(polygon=[[20.0, 50.0], [394.0, 39.0], [405.0, 75.0], [32.0, 86.0]], confidence=0.9717918634414673, text='ଯୁଗ୍ମ ବୟସ ରେ ବିବାହ ହେଲେ', bbox=[20.0, 39.0, 405.0, 86.0]), TextLine(polygon=[[89.0, 89.0], [309.0, 85.0], [316.0, 120.0], [96.0, 124.0]], confidence=0.8179675936698914, text='ଶୁଭ ହୋଇଥାଏ |', bbox=[89.0, 85.0, 316.0, 124.0])], languages=['or'], image_bbox=[0.0, 0.0, 433.0, 130.0])]\n",
            "\n"
          ]
        },
        {
          "output_type": "stream",
          "name": "stderr",
          "text": [
            "Detecting bboxes: 100%|██████████| 1/1 [00:10<00:00, 10.46s/it]\n",
            "Recognizing Text: 100%|██████████| 1/1 [00:15<00:00, 15.70s/it]\n"
          ]
        },
        {
          "output_type": "stream",
          "name": "stdout",
          "text": [
            "\n",
            "🖼 Image: 20_odi.png\n",
            "📜  Prediction: [OCRResult(text_lines=[TextLine(polygon=[[21.0, 0.0], [178.0, 0.0], [178.0, 18.0], [21.0, 18.0]], confidence=0.8828219771385193, text='ଯେପଯ୍ୟନ୍ତ ଜଣେ କହୁଥିବ', bbox=[21.0, 0.0, 178.0, 18.0]), TextLine(polygon=[[0.0, 22.0], [192.0, 19.0], [195.0, 39.0], [3.0, 43.0]], confidence=0.9535987973213196, text='ଆଭ ଜଣେ ସହୁଥିବ ସେପର୍ଯ୍ୟନ୍ତ', bbox=[0.0, 19.0, 195.0, 43.0]), TextLine(polygon=[[32.0, 38.0], [174.0, 43.0], [167.0, 65.0], [26.0, 60.0]], confidence=0.9955829977989197, text='ସମ୍ପର୍କ ଠିକ୍ ଥାଏ । କିନ୍ତୁ', bbox=[26.0, 38.0, 174.0, 65.0])], languages=['or'], image_bbox=[0.0, 0.0, 200.0, 68.0])]\n",
            "\n"
          ]
        },
        {
          "output_type": "stream",
          "name": "stderr",
          "text": [
            "Detecting bboxes: 100%|██████████| 1/1 [00:09<00:00,  9.71s/it]\n",
            "Recognizing Text: 100%|██████████| 1/1 [00:11<00:00, 11.73s/it]\n"
          ]
        },
        {
          "output_type": "stream",
          "name": "stdout",
          "text": [
            "\n",
            "🖼 Image: 21_odi.png\n",
            "📜  Prediction: [OCRResult(text_lines=[TextLine(polygon=[[0.0, 0.0], [131.0, 2.0], [128.0, 45.0], [0.0, 41.0]], confidence=0.8679338097572327, text='ଦୁର୍ଘଟଣାରେ କ୍ଷତିପୂରଣ\\n    ରାଣି ୫୦,୦୦୦', bbox=[0.0, 0.0, 131.0, 45.0]), TextLine(polygon=[[0.0, 52.0], [153.0, 52.0], [153.0, 90.0], [0.0, 90.0]], confidence=0.8770403265953064, text='ଆବେଦନକକାରୀଙ୍କୁ\\n    ସ୍ୱଚ୍ଚିଜବାବ ଦାଖଲା ନିର୍ଦ୍ଦେଶ', bbox=[0.0, 52.0, 153.0, 90.0])], languages=['or'], image_bbox=[0.0, 0.0, 154.0, 91.0])]\n",
            "\n"
          ]
        },
        {
          "output_type": "stream",
          "name": "stderr",
          "text": [
            "Detecting bboxes: 100%|██████████| 1/1 [00:10<00:00, 10.88s/it]\n",
            "Recognizing Text: 100%|██████████| 1/1 [01:07<00:00, 67.47s/it]\n"
          ]
        },
        {
          "output_type": "stream",
          "name": "stdout",
          "text": [
            "\n",
            "🖼 Image: 22_odi.png\n",
            "📜  Prediction: [OCRResult(text_lines=[TextLine(polygon=[[28.0, 25.0], [205.0, 26.0], [205.0, 47.0], [28.0, 45.0]], confidence=0.6827057600021362, text='ଦେଶକ ଖବରକାଗଳ', bbox=[28.0, 25.0, 205.0, 47.0]), TextLine(polygon=[[34.0, 54.0], [195.0, 55.0], [195.0, 79.0], [34.0, 77.0]], confidence=0.6516479253768921, text='ଧରିଛି । ରାଷ ଓଡ଼ିଶାର', bbox=[34.0, 54.0, 195.0, 79.0]), TextLine(polygon=[[20.0, 80.0], [214.0, 81.0], [214.0, 105.0], [20.0, 105.0]], confidence=0.7768833041191101, text='ପର୍ବୀ ଉତ୍ତଳକ୍ଷେ ମାଉଲ', bbox=[20.0, 80.0, 214.0, 105.0]), TextLine(polygon=[[23.0, 115.0], [208.0, 116.0], [208.0, 135.0], [23.0, 134.0]], confidence=0.7187646627426147, text='ଖିବରକାଗଲରା ଅନ୍ତ', bbox=[23.0, 115.0, 208.0, 135.0]), TextLine(polygon=[[9.0, 144.0], [223.0, 139.0], [223.0, 166.0], [9.0, 171.0]], confidence=0.8660660982131958, text='ମଙ୍ଗଳ ଏବଂ ନବିଷ୍ଣ ସୁଦ୍ଧାର୍ଥ', bbox=[9.0, 139.0, 223.0, 171.0]), TextLine(polygon=[[11.0, 173.0], [219.0, 170.0], [219.0, 193.0], [11.0, 196.0]], confidence=0.7728481292724609, text='ଯାନ୍ତା ଓ ସାଠକୀୟ ଆଦନ୍ତି', bbox=[11.0, 170.0, 219.0, 196.0]), TextLine(polygon=[[14.0, 197.0], [217.0, 200.0], [217.0, 224.0], [14.0, 221.0]], confidence=0.8474686741828918, text='ଆଗା କରିବା ସହ ସତ୍ୟ,', bbox=[14.0, 197.0, 217.0, 224.0]), TextLine(polygon=[[23.0, 226.0], [208.0, 232.0], [207.0, 255.0], [23.0, 248.0]], confidence=0.8278365135192871, text='ନିରୀକୁ ଏବଂ ସମାଜର', bbox=[23.0, 226.0, 208.0, 255.0]), TextLine(polygon=[[34.0, 258.0], [198.0, 252.0], [198.0, 279.0], [35.0, 286.0]], confidence=0.7309805154800415, text='ବଳତ, ନିଶ୍ରେଷ୍ଟିତ ଓ', bbox=[34.0, 252.0, 198.0, 286.0]), TextLine(polygon=[[0.0, 285.0], [227.0, 287.0], [227.0, 309.0], [0.0, 306.0]], confidence=0.5655324459075928, text='ଅବଶ୍ରେକ୍ସିତ କନ୍ଦାଧାରଣଙ୍କ', bbox=[0.0, 285.0, 227.0, 309.0]), TextLine(polygon=[[56.0, 313.0], [173.0, 316.0], [173.0, 338.0], [56.0, 336.0]], confidence=0.7297009229660034, text='କଥା କ୍ରିପଦାନ', bbox=[56.0, 313.0, 173.0, 338.0]), TextLine(polygon=[[52.0, 344.0], [176.0, 344.0], [176.0, 368.0], [52.0, 368.0]], confidence=0.733504056930542, text='ତିଶାସ ରଖିଛି ।', bbox=[52.0, 344.0, 176.0, 368.0])], languages=['or'], image_bbox=[0.0, 0.0, 248.0, 383.0])]\n",
            "\n"
          ]
        },
        {
          "output_type": "stream",
          "name": "stderr",
          "text": [
            "Detecting bboxes: 100%|██████████| 1/1 [00:11<00:00, 11.00s/it]\n",
            "Recognizing Text: 100%|██████████| 1/1 [00:13<00:00, 13.06s/it]\n"
          ]
        },
        {
          "output_type": "stream",
          "name": "stdout",
          "text": [
            "\n",
            "🖼 Image: 23_odi.png\n",
            "📜  Prediction: [OCRResult(text_lines=[TextLine(polygon=[[12.0, 22.0], [274.0, 18.0], [277.0, 34.0], [14.0, 38.0]], confidence=0.7410802245140076, text='ପୃଥିବୀର ପ୍ରତ୍ୟେକ ଦେଶରେ ଅନେକ ଛୋଟ ବଡ', bbox=[12.0, 18.0, 277.0, 38.0]), TextLine(polygon=[[21.0, 37.0], [270.0, 38.0], [269.0, 75.0], [20.0, 74.0]], confidence=0.93021559715271, text='ସ୍ଟୁଲ ରହିଛି। ଆସନ୍ସୁ କାଣିବା ସେମାନଙ୍କ ମଧ୍ୟରୁ\\n        କେତୋଟି ନିଆରା ସ୍ଟ୍ରୁଲ୍ ସମ୍ପର୍କରେ ...', bbox=[20.0, 37.0, 270.0, 75.0])], languages=['or'], image_bbox=[0.0, 0.0, 301.0, 99.0])]\n",
            "\n"
          ]
        },
        {
          "output_type": "stream",
          "name": "stderr",
          "text": [
            "Detecting bboxes: 100%|██████████| 1/1 [00:09<00:00,  9.74s/it]\n",
            "Recognizing Text: 100%|██████████| 1/1 [00:11<00:00, 11.19s/it]\n"
          ]
        },
        {
          "output_type": "stream",
          "name": "stdout",
          "text": [
            "\n",
            "🖼 Image: 24_odi.png\n",
            "📜  Prediction: [OCRResult(text_lines=[TextLine(polygon=[[1.0, 1.0], [286.0, 7.0], [285.0, 59.0], [0.0, 53.0]], confidence=0.9371984601020813, text='ସର୍ବଭାରତୀୟ ମହାବୀର', bbox=[0.0, 1.0, 286.0, 59.0]), TextLine(polygon=[[0.0, 80.0], [275.0, 61.0], [286.0, 125.0], [7.0, 142.0]], confidence=0.8789737820625305, text='କପ୍ ଫୁଟ୍ବିବଲ ଟୁର୍ନାମେଣ୍ଟ', bbox=[0.0, 61.0, 286.0, 142.0])], languages=['or'], image_bbox=[0.0, 0.0, 286.0, 142.0])]\n",
            "\n"
          ]
        },
        {
          "output_type": "stream",
          "name": "stderr",
          "text": [
            "Detecting bboxes: 100%|██████████| 1/1 [00:11<00:00, 11.08s/it]\n",
            "Recognizing Text: 100%|██████████| 1/1 [00:43<00:00, 43.03s/it]\n"
          ]
        },
        {
          "output_type": "stream",
          "name": "stdout",
          "text": [
            "\n",
            "🖼 Image: 25_odi.png\n",
            "📜  Prediction: [OCRResult(text_lines=[TextLine(polygon=[[0.0, 7.0], [431.0, 6.0], [431.0, 35.0], [0.0, 36.0]], confidence=0.9868964552879333, text='ଦୈନିକ ସଂକ୍ରମଣ ସଂଖ୍ୟା ପ୍ରାୟ ୯୭୮ ୯୪ରେ ପହଞ୍ଚିଥିଲା । ', bbox=[0.0, 6.0, 431.0, 36.0]), TextLine(polygon=[[0.0, 44.0], [431.0, 39.0], [432.0, 67.0], [0.0, 72.0]], confidence=0.9665501117706299, text='ନଭେୟର ୨୬ ସୁଦ୍ଧା ଏହି ସଂକ୍ରମଣ ସଂଖ୍ୟା ତଳମୁହାଁ', bbox=[0.0, 39.0, 432.0, 72.0]), TextLine(polygon=[[0.0, 76.0], [431.0, 73.0], [431.0, 96.0], [0.0, 99.0]], confidence=0.9915534853935242, text='ହୋଇ ପ୍ରାୟ ଅଧାକୁ ହ୍ରାସ ପାଇଛି ଏବଂ ଦୈନିକ ସଂକ୍ରମଣ', bbox=[0.0, 73.0, 431.0, 99.0]), TextLine(polygon=[[0.0, 105.0], [431.0, 105.0], [431.0, 128.0], [0.0, 128.0]], confidence=0.9730662107467651, text='ସଂଖ୍ୟା ୪୩୧୭୪ ରେକର୍ଡ କରାଯାଇଛି । ଏପରିକି ୨୦୨୦', bbox=[0.0, 105.0, 431.0, 128.0]), TextLine(polygon=[[0.0, 138.0], [431.0, 138.0], [431.0, 160.0], [0.0, 159.0]], confidence=0.9450232982635498, text='ନଭେୟର ୨୮ରେ ୧୦ ଲକ୍ଷ ଜନସଂଖ୍ୟାରେ ଭାରତ ଉଭୟ', bbox=[0.0, 138.0, 431.0, 160.0]), TextLine(polygon=[[0.0, 169.0], [431.0, 169.0], [431.0, 193.0], [0.0, 193.0]], confidence=0.9951282143592834, text='କରୋନା ସଂକ୍ରମଣ ଓ ଆକ୍ରାନ୍ତଙ୍କ ମୃତ୍ୟୁସଂଖ୍ୟା ହିସାବରେ', bbox=[0.0, 169.0, 431.0, 193.0]), TextLine(polygon=[[0.0, 200.0], [431.0, 200.0], [431.0, 223.0], [0.0, 223.0]], confidence=0.9644648432731628, text='ବିଶ୍ୱର ଯେକୌଣସି ଦେଶଙ୍କଠାରୁ ଭଲ ପ୍ରିତିରେ ଥିଲା ।', bbox=[0.0, 200.0, 431.0, 223.0]), TextLine(polygon=[[0.0, 232.0], [431.0, 230.0], [431.0, 254.0], [0.0, 256.0]], confidence=0.9793999195098877, text='ଭାରତରେ ପ୍ରତି ୧୦ ଲକ୍ଷ ଜନସଂଖ୍ୟାରେ ସଂକ୍ରମିତଙ୍କ', bbox=[0.0, 230.0, 431.0, 256.0])], languages=['or'], image_bbox=[0.0, 0.0, 432.0, 260.0])]\n",
            "\n"
          ]
        },
        {
          "output_type": "stream",
          "name": "stderr",
          "text": [
            "Detecting bboxes: 100%|██████████| 1/1 [00:11<00:00, 11.05s/it]\n",
            "Recognizing Text: 100%|██████████| 1/1 [00:15<00:00, 15.64s/it]\n"
          ]
        },
        {
          "output_type": "stream",
          "name": "stdout",
          "text": [
            "\n",
            "🖼 Image: 2_odi.png\n",
            "📜  Prediction: [OCRResult(text_lines=[TextLine(polygon=[[0.0, 8.0], [334.0, 0.0], [337.0, 37.0], [3.0, 48.0]], confidence=0.9585765600204468, text=' ତୁମର ପ୍ରଥମ ବିଜୟ ପରେ ', bbox=[0.0, 0.0, 337.0, 48.0]), TextLine(polygon=[[69.0, 53.0], [274.0, 52.0], [275.0, 90.0], [71.0, 91.0]], confidence=0.9044077396392822, text='ବିଶ୍ରାମ ନିଅ ନାହିଁ', bbox=[69.0, 52.0, 275.0, 91.0]), TextLine(polygon=[[0.0, 102.0], [336.0, 102.0], [336.0, 149.0], [0.0, 149.0]], confidence=0.9739412665367126, text='କାହିଁକି ନା ଯଦି ଦ୍ୱିତୀୟ ରେ', bbox=[0.0, 102.0, 336.0, 149.0])], languages=['or'], image_bbox=[0.0, 0.0, 337.0, 150.0])]\n",
            "\n"
          ]
        },
        {
          "output_type": "stream",
          "name": "stderr",
          "text": [
            "Detecting bboxes: 100%|██████████| 1/1 [00:10<00:00, 10.87s/it]\n",
            "Recognizing Text: 100%|██████████| 1/1 [00:05<00:00,  5.96s/it]\n"
          ]
        },
        {
          "output_type": "stream",
          "name": "stdout",
          "text": [
            "\n",
            "🖼 Image: 3_odi.png\n",
            "📜  Prediction: [OCRResult(text_lines=[TextLine(polygon=[[0.0, 8.0], [930.0, 8.0], [930.0, 62.0], [0.0, 62.0]], confidence=0.9850538372993469, text='୩୩ତମ ପ୍ୟାରିସ ଅଲିମ୍ପିକ୍ସ  ୨ ୦ ୨ ୪  ପାଇଁ ସ୍ମାରକୀ ଡାକ ଟିକଟ', bbox=[0.0, 8.0, 930.0, 62.0])], languages=['or'], image_bbox=[0.0, 0.0, 931.0, 70.0])]\n",
            "\n"
          ]
        },
        {
          "output_type": "stream",
          "name": "stderr",
          "text": [
            "Detecting bboxes: 100%|██████████| 1/1 [00:11<00:00, 11.09s/it]\n",
            "Recognizing Text: 100%|██████████| 1/1 [00:26<00:00, 26.70s/it]\n"
          ]
        },
        {
          "output_type": "stream",
          "name": "stdout",
          "text": [
            "\n",
            "🖼 Image: 4_odi.png\n",
            "📜  Prediction: [OCRResult(text_lines=[TextLine(polygon=[[36.0, 0.0], [298.0, 0.0], [298.0, 22.0], [36.0, 22.0]], confidence=0.8490729928016663, text='ରାଜଣଗାପାଳଙ୍କ ଗୁଡି ଏକ', bbox=[36.0, 0.0, 298.0, 22.0]), TextLine(polygon=[[0.0, 35.0], [298.0, 34.0], [298.0, 58.0], [0.0, 59.0]], confidence=0.9174493551254272, text='ବ୍ୟାପକ ଗମ୍ଭୀର ସମସ୍ୟା ଉପରେ', bbox=[0.0, 34.0, 298.0, 59.0]), TextLine(polygon=[[0.0, 71.0], [298.0, 69.0], [299.0, 97.0], [0.0, 99.0]], confidence=0.9184281229972839, text='ଆଲୋକପାତ  କରେ  ଯାହାକି', bbox=[0.0, 69.0, 299.0, 99.0]), TextLine(polygon=[[0.0, 108.0], [298.0, 105.0], [299.0, 135.0], [0.0, 137.0]], confidence=0.9457138776779175, text='ଅନେକ  ଗ୍ରାମବାସୀଙ୍କ  ପାଇଁ', bbox=[0.0, 105.0, 299.0, 137.0]), TextLine(polygon=[[0.0, 146.0], [298.0, 145.0], [298.0, 174.0], [0.0, 174.0]], confidence=0.9524071216583252, text='ଅପ୍ରତ୍ୟାଶିତ ସମସ୍ୟା ଆଣିଛି ।', bbox=[0.0, 145.0, 298.0, 174.0])], languages=['or'], image_bbox=[0.0, 0.0, 299.0, 182.0])]\n",
            "\n"
          ]
        },
        {
          "output_type": "stream",
          "name": "stderr",
          "text": [
            "Detecting bboxes: 100%|██████████| 1/1 [00:10<00:00, 10.64s/it]\n",
            "Recognizing Text: 100%|██████████| 1/1 [00:20<00:00, 20.09s/it]\n"
          ]
        },
        {
          "output_type": "stream",
          "name": "stdout",
          "text": [
            "\n",
            "🖼 Image: 5_odi.png\n",
            "📜  Prediction: [OCRResult(text_lines=[TextLine(polygon=[[0.0, 7.0], [297.0, 7.0], [297.0, 45.0], [0.0, 45.0]], confidence=0.968758761882782, text='କିଆଫଲ ପରି ବାସିଲ ତମେ', bbox=[0.0, 7.0, 297.0, 45.0]), TextLine(polygon=[[68.0, 47.0], [87.0, 48.0], [86.0, 55.0], [67.0, 53.0]], confidence=0.5411236882209778, text='ଠ', bbox=[67.0, 47.0, 87.0, 55.0]), TextLine(polygon=[[0.0, 76.0], [310.0, 76.0], [310.0, 106.0], [0.0, 106.0]], confidence=0.8970248103141785, text='ଫସାଇ ଦେଲ ଗୋ ମୋତେ ।', bbox=[0.0, 76.0, 310.0, 106.0]), TextLine(polygon=[[0.0, 128.0], [311.0, 131.0], [310.0, 172.0], [0.0, 169.0]], confidence=0.9891184568405151, text='ଭଲପାଅ ବୋଲି ଯେମିତି କହିଲ', bbox=[0.0, 128.0, 311.0, 172.0])], languages=['or'], image_bbox=[0.0, 0.0, 311.0, 176.0])]\n",
            "\n"
          ]
        },
        {
          "output_type": "stream",
          "name": "stderr",
          "text": [
            "Detecting bboxes: 100%|██████████| 1/1 [00:11<00:00, 11.16s/it]\n",
            "Recognizing Text: 100%|██████████| 1/1 [00:11<00:00, 11.56s/it]\n"
          ]
        },
        {
          "output_type": "stream",
          "name": "stdout",
          "text": [
            "\n",
            "🖼 Image: 6_odi.png\n",
            "📜  Prediction: [OCRResult(text_lines=[TextLine(polygon=[[0.0, 3.0], [319.0, 3.0], [318.0, 42.0], [0.0, 42.0]], confidence=0.9953644871711731, text='ଏହି ବ୍ରହ୍ମାଣ୍ଡର ବିସ୍ତୃତ ବିସ୍ତାରରେ,', bbox=[0.0, 3.0, 319.0, 42.0]), TextLine(polygon=[[42.0, 53.0], [242.0, 40.0], [273.0, 73.0], [73.0, 86.0]], confidence=0.8375517129898071, text='ତାରାଗୁଡ଼ିକ ମଧ୍ୟରେ', bbox=[42.0, 40.0, 273.0, 86.0])], languages=['or'], image_bbox=[0.0, 0.0, 332.0, 90.0])]\n",
            "\n"
          ]
        },
        {
          "output_type": "stream",
          "name": "stderr",
          "text": [
            "Detecting bboxes: 100%|██████████| 1/1 [00:09<00:00,  9.65s/it]\n",
            "Recognizing Text: 100%|██████████| 1/1 [00:10<00:00, 10.62s/it]\n"
          ]
        },
        {
          "output_type": "stream",
          "name": "stdout",
          "text": [
            "\n",
            "🖼 Image: 7_odi.png\n",
            "📜  Prediction: [OCRResult(text_lines=[TextLine(polygon=[[0.0, 9.0], [590.0, 9.0], [590.0, 151.0], [0.0, 151.0]], confidence=0.8779870867729187, text='ବସନ୍ତ ଋତୁରେ ବୂଦ୍ଧ ବୃକ୍ଷ ଡାକେ\\n                                                                                                                                                ', bbox=[0.0, 9.0, 590.0, 151.0])], languages=['or'], image_bbox=[0.0, 0.0, 591.0, 152.0])]\n",
            "\n"
          ]
        },
        {
          "output_type": "stream",
          "name": "stderr",
          "text": [
            "Detecting bboxes: 100%|██████████| 1/1 [00:10<00:00, 10.95s/it]\n",
            "Recognizing Text: 100%|██████████| 1/1 [00:10<00:00, 10.85s/it]\n"
          ]
        },
        {
          "output_type": "stream",
          "name": "stdout",
          "text": [
            "\n",
            "🖼 Image: 8_odi.png\n",
            "📜  Prediction: [OCRResult(text_lines=[TextLine(polygon=[[272.0, 0.0], [352.0, 0.0], [360.0, 16.0], [280.0, 17.0]], confidence=0.6238009929656982, text='(', bbox=[272.0, 0.0, 360.0, 17.0]), TextLine(polygon=[[0.0, 17.0], [664.0, 18.0], [659.0, 92.0], [0.0, 91.0]], confidence=0.9799243807792664, text='ଲେଖ ଓଡ଼ିଆରେ ...', bbox=[0.0, 17.0, 664.0, 92.0])], languages=['or'], image_bbox=[0.0, 0.0, 670.0, 111.0])]\n",
            "\n"
          ]
        },
        {
          "output_type": "stream",
          "name": "stderr",
          "text": [
            "Detecting bboxes: 100%|██████████| 1/1 [00:09<00:00,  9.85s/it]\n",
            "Recognizing Text: 100%|██████████| 1/1 [00:22<00:00, 22.36s/it]"
          ]
        },
        {
          "output_type": "stream",
          "name": "stdout",
          "text": [
            "\n",
            "🖼 Image: 9_odi.png\n",
            "📜  Prediction: [OCRResult(text_lines=[TextLine(polygon=[[1.0, 5.0], [429.0, 11.0], [426.0, 33.0], [0.0, 27.0]], confidence=0.99629807472229, text='ସର୍ବଦା ବାହାରେ ରହିବା କଷ୍ଟ । କିନ୍ତୁ ତାଠାରୁ କଷ୍ଟ ଅନ୍ୟ ଜଣଙ୍କ', bbox=[0.0, 5.0, 429.0, 33.0]), TextLine(polygon=[[1.0, 39.0], [434.0, 39.0], [434.0, 58.0], [1.0, 58.0]], confidence=0.9564780592918396, text='ଘରେ ବାସ କରିବା । ନୀଚ ସ୍ୱଭାବର ଲୋକର ସେବା କରିବା ', bbox=[1.0, 39.0, 434.0, 58.0]), TextLine(polygon=[[0.0, 67.0], [432.0, 71.0], [429.0, 92.0], [0.0, 88.0]], confidence=0.9726898670196533, text='ଅନ୍ୟ ଜଣଙ୍କ ଘରେ ବାସ କରିବାଠାରୁ କଷ୍ଟକର ହୋଇଥିବାବେଳେ', bbox=[0.0, 67.0, 432.0, 92.0]), TextLine(polygon=[[0.0, 99.0], [196.0, 97.0], [198.0, 117.0], [0.0, 118.0]], confidence=0.7712385058403015, text='ଦାରିଦ୍ୟ ଅତିଶୟ କଷ୍ଟକର ।', bbox=[0.0, 97.0, 198.0, 118.0])], languages=['or'], image_bbox=[0.0, 0.0, 435.0, 130.0])]\n",
            "\n"
          ]
        },
        {
          "output_type": "stream",
          "name": "stderr",
          "text": [
            "\n"
          ]
        }
      ]
    },
    {
      "cell_type": "code",
      "source": [
        "print(\"\\nOCR Results:\\n\")\n",
        "for result in ocr_results:\n",
        "    print(f\"Image: {result['image']}\\nText: {result['text']}\\n{'-'*50}\")"
      ],
      "metadata": {
        "colab": {
          "base_uri": "https://localhost:8080/"
        },
        "id": "Qr0cxsSmajM9",
        "outputId": "523e9fc3-a4b6-4378-e642-9029f181f212"
      },
      "execution_count": 8,
      "outputs": [
        {
          "output_type": "stream",
          "name": "stdout",
          "text": [
            "\n",
            "OCR Results:\n",
            "\n",
            "Image: 10_odi.png\n",
            "Text: ଜୀବନାରେ କେବେ କାହା\n",
            "ପଛରେ ଦୌଡନାହିଁ ତା\n",
            "--------------------------------------------------\n",
            "Image: 11_odi.png\n",
            "Text: ରାଜ୍ୟ କ୍ୟାବିନେଟ୍‌ରେ ୧୦ ପ୍ରସ୍ତାବ୍ଦରେ ମୋହର\n",
            "--------------------------------------------------\n",
            "Image: 12_odi.png\n",
            "Text: ସୁଭଦ୍ରା ଯୋଜନାରେ\n",
            "ଆବେଦନ କରିଛନ୍ତି\n",
            "୧୫୭ ପୁରୁଷ\n",
            "--------------------------------------------------\n",
            "Image: 13_odi.png\n",
            "Text: କସ ହନୁମାନ ଜ୍ଞାନ ଗୁନ ସାଗର ।\n",
            "ଜଯ କପୀସ ତିହୁଁ ଲୋକ ଉଜ୍ଜାଗର II୧II\n",
            "--------------------------------------------------\n",
            "Image: 14_odi.png\n",
            "Text: ବାଲୁ ଭାଇନା -ଓଡିଆ\n",
            "--------------------------------------------------\n",
            "Image: 15_odi.png\n",
            "Text: ଭାରତ ମୋର ଦେଶ । ଆମେ ସବୁ ଭାରତୀୟ ଭାଇ ଓ ଭଉଣୀ ।\n",
            "ମୁଁ ମୋ ଦେଶକୁ ଭଲ ପାଏ । ଏହାର ସମୃଦ୍ଧି ଏବଂ ବିବିଧ ସଂସ୍କୃତି\n",
            "--------------------------------------------------\n",
            "Image: 16_odi.png\n",
            "Text: ଭାରତ ମୋର ଦେଶ । ଆମେ ସବୁ ଭାରତୀୟ ଭାଇ ଓ ଭଉଣୀ । ମୁଁ ମୋ\n",
            "ଦେଶକୁ ଭଲ ପାଏ । ଏହାର ସମୃଦ୍ଧି ଏବଂ ବିବିଧ ସଂସ୍କୃତି ପାଇଁ ମୋତେ ଗର୍ଜ\n",
            "--------------------------------------------------\n",
            "Image: 17_odi.png\n",
            "Text: ଭାରତ ମୋର ଦେଶ । ଆମେ ସବୁ ଭାରତୀୟ ଭାଇ ଓ ଭଉଣୀ\n",
            "। ମୁଁ ମୋ ଦେଶକୁ ଭଲ ପାଏ । ଏହାର ସମୂଦ୍ଧି ଏବଂ ବିବିଧ\n",
            "--------------------------------------------------\n",
            "Image: 18_odi.png\n",
            "Text: \n",
            "ଭଲପାଇବାରେ ରଗାରୁସା ଥିଲେ\n",
            "ଭଲପାଇବା ବଢେ\n",
            "--------------------------------------------------\n",
            "Image: 19_odi.png\n",
            "Text: ମୁଁ ମରିଗଲେ ମୋ ଶବ ଆଗରେ\n",
            "ଦୀପଟିଏ ଦେବୁ ଚ୍ଚାଳି\n",
            "--------------------------------------------------\n",
            "Image: 1_odi.png\n",
            "Text: ବର ର ଅଯୁଗ୍ମ ବୟସ ଏବଂ କନ୍ୟା ର\n",
            "ଯୁଗ୍ମ ବୟସ ରେ ବିବାହ ହେଲେ\n",
            "ଶୁଭ ହୋଇଥାଏ |\n",
            "--------------------------------------------------\n",
            "Image: 20_odi.png\n",
            "Text: ଯେପଯ୍ୟନ୍ତ ଜଣେ କହୁଥିବ\n",
            "ଆଭ ଜଣେ ସହୁଥିବ ସେପର୍ଯ୍ୟନ୍ତ\n",
            "ସମ୍ପର୍କ ଠିକ୍ ଥାଏ । କିନ୍ତୁ\n",
            "--------------------------------------------------\n",
            "Image: 21_odi.png\n",
            "Text: ଦୁର୍ଘଟଣାରେ କ୍ଷତିପୂରଣ\n",
            "    ରାଣି ୫୦,୦୦୦\n",
            "ଆବେଦନକକାରୀଙ୍କୁ\n",
            "    ସ୍ୱଚ୍ଚିଜବାବ ଦାଖଲା ନିର୍ଦ୍ଦେଶ\n",
            "--------------------------------------------------\n",
            "Image: 22_odi.png\n",
            "Text: ଦେଶକ ଖବରକାଗଳ\n",
            "ଧରିଛି । ରାଷ ଓଡ଼ିଶାର\n",
            "ପର୍ବୀ ଉତ୍ତଳକ୍ଷେ ମାଉଲ\n",
            "ଖିବରକାଗଲରା ଅନ୍ତ\n",
            "ମଙ୍ଗଳ ଏବଂ ନବିଷ୍ଣ ସୁଦ୍ଧାର୍ଥ\n",
            "ଯାନ୍ତା ଓ ସାଠକୀୟ ଆଦନ୍ତି\n",
            "ଆଗା କରିବା ସହ ସତ୍ୟ,\n",
            "ନିରୀକୁ ଏବଂ ସମାଜର\n",
            "ବଳତ, ନିଶ୍ରେଷ୍ଟିତ ଓ\n",
            "ଅବଶ୍ରେକ୍ସିତ କନ୍ଦାଧାରଣଙ୍କ\n",
            "କଥା କ୍ରିପଦାନ\n",
            "ତିଶାସ ରଖିଛି ।\n",
            "--------------------------------------------------\n",
            "Image: 23_odi.png\n",
            "Text: ପୃଥିବୀର ପ୍ରତ୍ୟେକ ଦେଶରେ ଅନେକ ଛୋଟ ବଡ\n",
            "ସ୍ଟୁଲ ରହିଛି। ଆସନ୍ସୁ କାଣିବା ସେମାନଙ୍କ ମଧ୍ୟରୁ\n",
            "        କେତୋଟି ନିଆରା ସ୍ଟ୍ରୁଲ୍ ସମ୍ପର୍କରେ ...\n",
            "--------------------------------------------------\n",
            "Image: 24_odi.png\n",
            "Text: ସର୍ବଭାରତୀୟ ମହାବୀର\n",
            "କପ୍ ଫୁଟ୍ବିବଲ ଟୁର୍ନାମେଣ୍ଟ\n",
            "--------------------------------------------------\n",
            "Image: 25_odi.png\n",
            "Text: ଦୈନିକ ସଂକ୍ରମଣ ସଂଖ୍ୟା ପ୍ରାୟ ୯୭୮ ୯୪ରେ ପହଞ୍ଚିଥିଲା ।\n",
            "ନଭେୟର ୨୬ ସୁଦ୍ଧା ଏହି ସଂକ୍ରମଣ ସଂଖ୍ୟା ତଳମୁହାଁ\n",
            "ହୋଇ ପ୍ରାୟ ଅଧାକୁ ହ୍ରାସ ପାଇଛି ଏବଂ ଦୈନିକ ସଂକ୍ରମଣ\n",
            "ସଂଖ୍ୟା ୪୩୧୭୪ ରେକର୍ଡ କରାଯାଇଛି । ଏପରିକି ୨୦୨୦\n",
            "ନଭେୟର ୨୮ରେ ୧୦ ଲକ୍ଷ ଜନସଂଖ୍ୟାରେ ଭାରତ ଉଭୟ\n",
            "କରୋନା ସଂକ୍ରମଣ ଓ ଆକ୍ରାନ୍ତଙ୍କ ମୃତ୍ୟୁସଂଖ୍ୟା ହିସାବରେ\n",
            "ବିଶ୍ୱର ଯେକୌଣସି ଦେଶଙ୍କଠାରୁ ଭଲ ପ୍ରିତିରେ ଥିଲା ।\n",
            "ଭାରତରେ ପ୍ରତି ୧୦ ଲକ୍ଷ ଜନସଂଖ୍ୟାରେ ସଂକ୍ରମିତଙ୍କ\n",
            "--------------------------------------------------\n",
            "Image: 2_odi.png\n",
            "Text: ତୁମର ପ୍ରଥମ ବିଜୟ ପରେ\n",
            "ବିଶ୍ରାମ ନିଅ ନାହିଁ\n",
            "କାହିଁକି ନା ଯଦି ଦ୍ୱିତୀୟ ରେ\n",
            "--------------------------------------------------\n",
            "Image: 3_odi.png\n",
            "Text: ୩୩ତମ ପ୍ୟାରିସ ଅଲିମ୍ପିକ୍ସ  ୨ ୦ ୨ ୪  ପାଇଁ ସ୍ମାରକୀ ଡାକ ଟିକଟ\n",
            "--------------------------------------------------\n",
            "Image: 4_odi.png\n",
            "Text: ରାଜଣଗାପାଳଙ୍କ ଗୁଡି ଏକ\n",
            "ବ୍ୟାପକ ଗମ୍ଭୀର ସମସ୍ୟା ଉପରେ\n",
            "ଆଲୋକପାତ  କରେ  ଯାହାକି\n",
            "ଅନେକ  ଗ୍ରାମବାସୀଙ୍କ  ପାଇଁ\n",
            "ଅପ୍ରତ୍ୟାଶିତ ସମସ୍ୟା ଆଣିଛି ।\n",
            "--------------------------------------------------\n",
            "Image: 5_odi.png\n",
            "Text: କିଆଫଲ ପରି ବାସିଲ ତମେ\n",
            "ଠ\n",
            "ଫସାଇ ଦେଲ ଗୋ ମୋତେ ।\n",
            "ଭଲପାଅ ବୋଲି ଯେମିତି କହିଲ\n",
            "--------------------------------------------------\n",
            "Image: 6_odi.png\n",
            "Text: ଏହି ବ୍ରହ୍ମାଣ୍ଡର ବିସ୍ତୃତ ବିସ୍ତାରରେ,\n",
            "ତାରାଗୁଡ଼ିକ ମଧ୍ୟରେ\n",
            "--------------------------------------------------\n",
            "Image: 7_odi.png\n",
            "Text: ବସନ୍ତ ଋତୁରେ ବୂଦ୍ଧ ବୃକ୍ଷ ଡାକେ\n",
            "--------------------------------------------------\n",
            "Image: 8_odi.png\n",
            "Text: (\n",
            "ଲେଖ ଓଡ଼ିଆରେ ...\n",
            "--------------------------------------------------\n",
            "Image: 9_odi.png\n",
            "Text: ସର୍ବଦା ବାହାରେ ରହିବା କଷ୍ଟ । କିନ୍ତୁ ତାଠାରୁ କଷ୍ଟ ଅନ୍ୟ ଜଣଙ୍କ\n",
            "ଘରେ ବାସ କରିବା । ନୀଚ ସ୍ୱଭାବର ଲୋକର ସେବା କରିବା\n",
            "ଅନ୍ୟ ଜଣଙ୍କ ଘରେ ବାସ କରିବାଠାରୁ କଷ୍ଟକର ହୋଇଥିବାବେଳେ\n",
            "ଦାରିଦ୍ୟ ଅତିଶୟ କଷ୍ଟକର ।\n",
            "--------------------------------------------------\n"
          ]
        }
      ]
    },
    {
      "cell_type": "code",
      "source": [
        "with open(output_file, \"w\", encoding=\"utf-8\") as f:\n",
        "    json.dump(ocr_results, f, indent=4, ensure_ascii=False)\n",
        "\n",
        "print(f\"OCR results saved in {output_file}\")"
      ],
      "metadata": {
        "colab": {
          "base_uri": "https://localhost:8080/"
        },
        "id": "dcFKyG2UajJb",
        "outputId": "8c895e7e-135e-4027-ac86-ae3e6a4c24c2"
      },
      "execution_count": 9,
      "outputs": [
        {
          "output_type": "stream",
          "name": "stdout",
          "text": [
            "OCR results saved in Odia_ocr_text_results.json\n"
          ]
        }
      ]
    },
    {
      "cell_type": "code",
      "source": [],
      "metadata": {
        "id": "SaikkQAOajG2"
      },
      "execution_count": null,
      "outputs": []
    },
    {
      "cell_type": "code",
      "source": [],
      "metadata": {
        "id": "q5nus2WDajEp"
      },
      "execution_count": null,
      "outputs": []
    }
  ]
}