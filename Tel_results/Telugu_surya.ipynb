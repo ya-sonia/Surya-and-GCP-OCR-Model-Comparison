{
  "nbformat": 4,
  "nbformat_minor": 0,
  "metadata": {
    "colab": {
      "provenance": []
    },
    "kernelspec": {
      "name": "python3",
      "display_name": "Python 3"
    },
    "language_info": {
      "name": "python"
    }
  },
  "cells": [
    {
      "cell_type": "code",
      "execution_count": 10,
      "metadata": {
        "colab": {
          "base_uri": "https://localhost:8080/"
        },
        "id": "7g4THkwZGGyY",
        "outputId": "ef721732-bc42-40ff-d8ec-6d66000404a9"
      },
      "outputs": [
        {
          "output_type": "stream",
          "name": "stdout",
          "text": [
            "Python 3.11.11\n"
          ]
        }
      ],
      "source": [
        "!python --version"
      ]
    },
    {
      "cell_type": "code",
      "source": [
        "!pip install -U torch"
      ],
      "metadata": {
        "colab": {
          "base_uri": "https://localhost:8080/"
        },
        "id": "qJLhBmuOGgl1",
        "outputId": "37c51004-45ae-418d-a05e-40d559e07360"
      },
      "execution_count": 11,
      "outputs": [
        {
          "output_type": "stream",
          "name": "stdout",
          "text": [
            "Requirement already satisfied: torch in /usr/local/lib/python3.11/dist-packages (2.6.0+cu118)\n",
            "Requirement already satisfied: filelock in /usr/local/lib/python3.11/dist-packages (from torch) (3.17.0)\n",
            "Requirement already satisfied: typing-extensions>=4.10.0 in /usr/local/lib/python3.11/dist-packages (from torch) (4.12.2)\n",
            "Requirement already satisfied: networkx in /usr/local/lib/python3.11/dist-packages (from torch) (3.4.2)\n",
            "Requirement already satisfied: jinja2 in /usr/local/lib/python3.11/dist-packages (from torch) (3.1.5)\n",
            "Requirement already satisfied: fsspec in /usr/local/lib/python3.11/dist-packages (from torch) (2024.10.0)\n",
            "Requirement already satisfied: nvidia-cuda-nvrtc-cu11==11.8.89 in /usr/local/lib/python3.11/dist-packages (from torch) (11.8.89)\n",
            "Requirement already satisfied: nvidia-cuda-runtime-cu11==11.8.89 in /usr/local/lib/python3.11/dist-packages (from torch) (11.8.89)\n",
            "Requirement already satisfied: nvidia-cuda-cupti-cu11==11.8.87 in /usr/local/lib/python3.11/dist-packages (from torch) (11.8.87)\n",
            "Requirement already satisfied: nvidia-cudnn-cu11==9.1.0.70 in /usr/local/lib/python3.11/dist-packages (from torch) (9.1.0.70)\n",
            "Requirement already satisfied: nvidia-cublas-cu11==11.11.3.6 in /usr/local/lib/python3.11/dist-packages (from torch) (11.11.3.6)\n",
            "Requirement already satisfied: nvidia-cufft-cu11==10.9.0.58 in /usr/local/lib/python3.11/dist-packages (from torch) (10.9.0.58)\n",
            "Requirement already satisfied: nvidia-curand-cu11==10.3.0.86 in /usr/local/lib/python3.11/dist-packages (from torch) (10.3.0.86)\n",
            "Requirement already satisfied: nvidia-cusolver-cu11==11.4.1.48 in /usr/local/lib/python3.11/dist-packages (from torch) (11.4.1.48)\n",
            "Requirement already satisfied: nvidia-cusparse-cu11==11.7.5.86 in /usr/local/lib/python3.11/dist-packages (from torch) (11.7.5.86)\n",
            "Requirement already satisfied: nvidia-nccl-cu11==2.21.5 in /usr/local/lib/python3.11/dist-packages (from torch) (2.21.5)\n",
            "Requirement already satisfied: nvidia-nvtx-cu11==11.8.86 in /usr/local/lib/python3.11/dist-packages (from torch) (11.8.86)\n",
            "Requirement already satisfied: triton==3.2.0 in /usr/local/lib/python3.11/dist-packages (from torch) (3.2.0)\n",
            "Requirement already satisfied: sympy==1.13.1 in /usr/local/lib/python3.11/dist-packages (from torch) (1.13.1)\n",
            "Requirement already satisfied: mpmath<1.4,>=1.1.0 in /usr/local/lib/python3.11/dist-packages (from sympy==1.13.1->torch) (1.3.0)\n",
            "Requirement already satisfied: MarkupSafe>=2.0 in /usr/local/lib/python3.11/dist-packages (from jinja2->torch) (3.0.2)\n"
          ]
        }
      ]
    },
    {
      "cell_type": "code",
      "source": [
        "!pip3 install torch --upgrade torchvision torchaudio --index-url https://download.pytorch.org/whl/cu118"
      ],
      "metadata": {
        "colab": {
          "base_uri": "https://localhost:8080/"
        },
        "id": "UP8tJi-GGgia",
        "outputId": "57c4e3ac-7639-417c-e9f8-8991ca7c8da9"
      },
      "execution_count": 12,
      "outputs": [
        {
          "output_type": "stream",
          "name": "stdout",
          "text": [
            "Looking in indexes: https://download.pytorch.org/whl/cu118\n",
            "Requirement already satisfied: torch in /usr/local/lib/python3.11/dist-packages (2.6.0+cu118)\n",
            "Requirement already satisfied: torchvision in /usr/local/lib/python3.11/dist-packages (0.21.0+cu118)\n",
            "Requirement already satisfied: torchaudio in /usr/local/lib/python3.11/dist-packages (2.6.0+cu118)\n",
            "Requirement already satisfied: filelock in /usr/local/lib/python3.11/dist-packages (from torch) (3.17.0)\n",
            "Requirement already satisfied: typing-extensions>=4.10.0 in /usr/local/lib/python3.11/dist-packages (from torch) (4.12.2)\n",
            "Requirement already satisfied: networkx in /usr/local/lib/python3.11/dist-packages (from torch) (3.4.2)\n",
            "Requirement already satisfied: jinja2 in /usr/local/lib/python3.11/dist-packages (from torch) (3.1.5)\n",
            "Requirement already satisfied: fsspec in /usr/local/lib/python3.11/dist-packages (from torch) (2024.10.0)\n",
            "Requirement already satisfied: nvidia-cuda-nvrtc-cu11==11.8.89 in /usr/local/lib/python3.11/dist-packages (from torch) (11.8.89)\n",
            "Requirement already satisfied: nvidia-cuda-runtime-cu11==11.8.89 in /usr/local/lib/python3.11/dist-packages (from torch) (11.8.89)\n",
            "Requirement already satisfied: nvidia-cuda-cupti-cu11==11.8.87 in /usr/local/lib/python3.11/dist-packages (from torch) (11.8.87)\n",
            "Requirement already satisfied: nvidia-cudnn-cu11==9.1.0.70 in /usr/local/lib/python3.11/dist-packages (from torch) (9.1.0.70)\n",
            "Requirement already satisfied: nvidia-cublas-cu11==11.11.3.6 in /usr/local/lib/python3.11/dist-packages (from torch) (11.11.3.6)\n",
            "Requirement already satisfied: nvidia-cufft-cu11==10.9.0.58 in /usr/local/lib/python3.11/dist-packages (from torch) (10.9.0.58)\n",
            "Requirement already satisfied: nvidia-curand-cu11==10.3.0.86 in /usr/local/lib/python3.11/dist-packages (from torch) (10.3.0.86)\n",
            "Requirement already satisfied: nvidia-cusolver-cu11==11.4.1.48 in /usr/local/lib/python3.11/dist-packages (from torch) (11.4.1.48)\n",
            "Requirement already satisfied: nvidia-cusparse-cu11==11.7.5.86 in /usr/local/lib/python3.11/dist-packages (from torch) (11.7.5.86)\n",
            "Requirement already satisfied: nvidia-nccl-cu11==2.21.5 in /usr/local/lib/python3.11/dist-packages (from torch) (2.21.5)\n",
            "Requirement already satisfied: nvidia-nvtx-cu11==11.8.86 in /usr/local/lib/python3.11/dist-packages (from torch) (11.8.86)\n",
            "Requirement already satisfied: triton==3.2.0 in /usr/local/lib/python3.11/dist-packages (from torch) (3.2.0)\n",
            "Requirement already satisfied: sympy==1.13.1 in /usr/local/lib/python3.11/dist-packages (from torch) (1.13.1)\n",
            "Requirement already satisfied: mpmath<1.4,>=1.1.0 in /usr/local/lib/python3.11/dist-packages (from sympy==1.13.1->torch) (1.3.0)\n",
            "Requirement already satisfied: numpy in /usr/local/lib/python3.11/dist-packages (from torchvision) (1.26.4)\n",
            "Requirement already satisfied: pillow!=8.3.*,>=5.3.0 in /usr/local/lib/python3.11/dist-packages (from torchvision) (10.4.0)\n",
            "Requirement already satisfied: MarkupSafe>=2.0 in /usr/local/lib/python3.11/dist-packages (from jinja2->torch) (3.0.2)\n"
          ]
        }
      ]
    },
    {
      "cell_type": "code",
      "source": [
        "!pip install surya-ocr"
      ],
      "metadata": {
        "colab": {
          "base_uri": "https://localhost:8080/"
        },
        "id": "13RGrhGgGgfz",
        "outputId": "0faf9413-5acb-439e-e57e-7f2818ef255f"
      },
      "execution_count": 18,
      "outputs": [
        {
          "output_type": "stream",
          "name": "stdout",
          "text": [
            "Requirement already satisfied: surya-ocr in /usr/local/lib/python3.11/dist-packages (0.12.0)\n",
            "Requirement already satisfied: click<9.0.0,>=8.1.8 in /usr/local/lib/python3.11/dist-packages (from surya-ocr) (8.1.8)\n",
            "Requirement already satisfied: filetype<2.0.0,>=1.2.0 in /usr/local/lib/python3.11/dist-packages (from surya-ocr) (1.2.0)\n",
            "Requirement already satisfied: opencv-python-headless<5.0.0.0,>=4.11.0.86 in /usr/local/lib/python3.11/dist-packages (from surya-ocr) (4.11.0.86)\n",
            "Requirement already satisfied: pillow<11.0.0,>=10.2.0 in /usr/local/lib/python3.11/dist-packages (from surya-ocr) (10.4.0)\n",
            "Requirement already satisfied: platformdirs<5.0.0,>=4.3.6 in /usr/local/lib/python3.11/dist-packages (from surya-ocr) (4.3.6)\n",
            "Requirement already satisfied: pydantic<3.0.0,>=2.5.3 in /usr/local/lib/python3.11/dist-packages (from surya-ocr) (2.10.6)\n",
            "Requirement already satisfied: pydantic-settings<3.0.0,>=2.1.0 in /usr/local/lib/python3.11/dist-packages (from surya-ocr) (2.8.0)\n",
            "Requirement already satisfied: pypdfium2==4.30.0 in /usr/local/lib/python3.11/dist-packages (from surya-ocr) (4.30.0)\n",
            "Requirement already satisfied: python-dotenv<2.0.0,>=1.0.0 in /usr/local/lib/python3.11/dist-packages (from surya-ocr) (1.0.1)\n",
            "Requirement already satisfied: torch<3.0.0,>=2.5.1 in /usr/local/lib/python3.11/dist-packages (from surya-ocr) (2.6.0+cu118)\n",
            "Requirement already satisfied: transformers<5.0.0,>=4.41.0 in /usr/local/lib/python3.11/dist-packages (from surya-ocr) (4.48.3)\n",
            "Requirement already satisfied: numpy>=1.21.2 in /usr/local/lib/python3.11/dist-packages (from opencv-python-headless<5.0.0.0,>=4.11.0.86->surya-ocr) (1.26.4)\n",
            "Requirement already satisfied: annotated-types>=0.6.0 in /usr/local/lib/python3.11/dist-packages (from pydantic<3.0.0,>=2.5.3->surya-ocr) (0.7.0)\n",
            "Requirement already satisfied: pydantic-core==2.27.2 in /usr/local/lib/python3.11/dist-packages (from pydantic<3.0.0,>=2.5.3->surya-ocr) (2.27.2)\n",
            "Requirement already satisfied: typing-extensions>=4.12.2 in /usr/local/lib/python3.11/dist-packages (from pydantic<3.0.0,>=2.5.3->surya-ocr) (4.12.2)\n",
            "Requirement already satisfied: filelock in /usr/local/lib/python3.11/dist-packages (from torch<3.0.0,>=2.5.1->surya-ocr) (3.17.0)\n",
            "Requirement already satisfied: networkx in /usr/local/lib/python3.11/dist-packages (from torch<3.0.0,>=2.5.1->surya-ocr) (3.4.2)\n",
            "Requirement already satisfied: jinja2 in /usr/local/lib/python3.11/dist-packages (from torch<3.0.0,>=2.5.1->surya-ocr) (3.1.5)\n",
            "Requirement already satisfied: fsspec in /usr/local/lib/python3.11/dist-packages (from torch<3.0.0,>=2.5.1->surya-ocr) (2024.10.0)\n",
            "Requirement already satisfied: nvidia-cuda-nvrtc-cu11==11.8.89 in /usr/local/lib/python3.11/dist-packages (from torch<3.0.0,>=2.5.1->surya-ocr) (11.8.89)\n",
            "Requirement already satisfied: nvidia-cuda-runtime-cu11==11.8.89 in /usr/local/lib/python3.11/dist-packages (from torch<3.0.0,>=2.5.1->surya-ocr) (11.8.89)\n",
            "Requirement already satisfied: nvidia-cuda-cupti-cu11==11.8.87 in /usr/local/lib/python3.11/dist-packages (from torch<3.0.0,>=2.5.1->surya-ocr) (11.8.87)\n",
            "Requirement already satisfied: nvidia-cudnn-cu11==9.1.0.70 in /usr/local/lib/python3.11/dist-packages (from torch<3.0.0,>=2.5.1->surya-ocr) (9.1.0.70)\n",
            "Requirement already satisfied: nvidia-cublas-cu11==11.11.3.6 in /usr/local/lib/python3.11/dist-packages (from torch<3.0.0,>=2.5.1->surya-ocr) (11.11.3.6)\n",
            "Requirement already satisfied: nvidia-cufft-cu11==10.9.0.58 in /usr/local/lib/python3.11/dist-packages (from torch<3.0.0,>=2.5.1->surya-ocr) (10.9.0.58)\n",
            "Requirement already satisfied: nvidia-curand-cu11==10.3.0.86 in /usr/local/lib/python3.11/dist-packages (from torch<3.0.0,>=2.5.1->surya-ocr) (10.3.0.86)\n",
            "Requirement already satisfied: nvidia-cusolver-cu11==11.4.1.48 in /usr/local/lib/python3.11/dist-packages (from torch<3.0.0,>=2.5.1->surya-ocr) (11.4.1.48)\n",
            "Requirement already satisfied: nvidia-cusparse-cu11==11.7.5.86 in /usr/local/lib/python3.11/dist-packages (from torch<3.0.0,>=2.5.1->surya-ocr) (11.7.5.86)\n",
            "Requirement already satisfied: nvidia-nccl-cu11==2.21.5 in /usr/local/lib/python3.11/dist-packages (from torch<3.0.0,>=2.5.1->surya-ocr) (2.21.5)\n",
            "Requirement already satisfied: nvidia-nvtx-cu11==11.8.86 in /usr/local/lib/python3.11/dist-packages (from torch<3.0.0,>=2.5.1->surya-ocr) (11.8.86)\n",
            "Requirement already satisfied: triton==3.2.0 in /usr/local/lib/python3.11/dist-packages (from torch<3.0.0,>=2.5.1->surya-ocr) (3.2.0)\n",
            "Requirement already satisfied: sympy==1.13.1 in /usr/local/lib/python3.11/dist-packages (from torch<3.0.0,>=2.5.1->surya-ocr) (1.13.1)\n",
            "Requirement already satisfied: mpmath<1.4,>=1.1.0 in /usr/local/lib/python3.11/dist-packages (from sympy==1.13.1->torch<3.0.0,>=2.5.1->surya-ocr) (1.3.0)\n",
            "Requirement already satisfied: huggingface-hub<1.0,>=0.24.0 in /usr/local/lib/python3.11/dist-packages (from transformers<5.0.0,>=4.41.0->surya-ocr) (0.28.1)\n",
            "Requirement already satisfied: packaging>=20.0 in /usr/local/lib/python3.11/dist-packages (from transformers<5.0.0,>=4.41.0->surya-ocr) (24.2)\n",
            "Requirement already satisfied: pyyaml>=5.1 in /usr/local/lib/python3.11/dist-packages (from transformers<5.0.0,>=4.41.0->surya-ocr) (6.0.2)\n",
            "Requirement already satisfied: regex!=2019.12.17 in /usr/local/lib/python3.11/dist-packages (from transformers<5.0.0,>=4.41.0->surya-ocr) (2024.11.6)\n",
            "Requirement already satisfied: requests in /usr/local/lib/python3.11/dist-packages (from transformers<5.0.0,>=4.41.0->surya-ocr) (2.32.3)\n",
            "Requirement already satisfied: tokenizers<0.22,>=0.21 in /usr/local/lib/python3.11/dist-packages (from transformers<5.0.0,>=4.41.0->surya-ocr) (0.21.0)\n",
            "Requirement already satisfied: safetensors>=0.4.1 in /usr/local/lib/python3.11/dist-packages (from transformers<5.0.0,>=4.41.0->surya-ocr) (0.5.2)\n",
            "Requirement already satisfied: tqdm>=4.27 in /usr/local/lib/python3.11/dist-packages (from transformers<5.0.0,>=4.41.0->surya-ocr) (4.67.1)\n",
            "Requirement already satisfied: MarkupSafe>=2.0 in /usr/local/lib/python3.11/dist-packages (from jinja2->torch<3.0.0,>=2.5.1->surya-ocr) (3.0.2)\n",
            "Requirement already satisfied: charset-normalizer<4,>=2 in /usr/local/lib/python3.11/dist-packages (from requests->transformers<5.0.0,>=4.41.0->surya-ocr) (3.4.1)\n",
            "Requirement already satisfied: idna<4,>=2.5 in /usr/local/lib/python3.11/dist-packages (from requests->transformers<5.0.0,>=4.41.0->surya-ocr) (3.10)\n",
            "Requirement already satisfied: urllib3<3,>=1.21.1 in /usr/local/lib/python3.11/dist-packages (from requests->transformers<5.0.0,>=4.41.0->surya-ocr) (2.3.0)\n",
            "Requirement already satisfied: certifi>=2017.4.17 in /usr/local/lib/python3.11/dist-packages (from requests->transformers<5.0.0,>=4.41.0->surya-ocr) (2025.1.31)\n"
          ]
        }
      ]
    },
    {
      "cell_type": "code",
      "source": [
        "from surya.recognition import RecognitionPredictor\n",
        "from surya.detection import DetectionPredictor\n",
        "import os\n",
        "import json"
      ],
      "metadata": {
        "id": "M4O04a13Ggdr"
      },
      "execution_count": 19,
      "outputs": []
    },
    {
      "cell_type": "code",
      "source": [
        "recognition_predictor = RecognitionPredictor()\n",
        "detection_predictor = DetectionPredictor()"
      ],
      "metadata": {
        "colab": {
          "base_uri": "https://localhost:8080/"
        },
        "id": "btZ1f5pRGgbN",
        "outputId": "19dfb322-9b67-4e2b-f18f-c4fc94942094"
      },
      "execution_count": 20,
      "outputs": [
        {
          "output_type": "stream",
          "name": "stdout",
          "text": [
            "Loaded recognition model s3://text_recognition/2025_02_18 on device cpu with dtype torch.float32\n",
            "Loaded detection model s3://text_detection/2025_02_18 on device cpu with dtype torch.float32\n"
          ]
        }
      ]
    },
    {
      "cell_type": "code",
      "source": [
        "from google.colab import drive\n",
        "drive.mount('/content/drive')"
      ],
      "metadata": {
        "colab": {
          "base_uri": "https://localhost:8080/"
        },
        "id": "vywg6cUIGgYo",
        "outputId": "90f06d1c-eacd-451f-ddf6-c8a63d4cd4b5"
      },
      "execution_count": 21,
      "outputs": [
        {
          "output_type": "stream",
          "name": "stdout",
          "text": [
            "Drive already mounted at /content/drive; to attempt to forcibly remount, call drive.mount(\"/content/drive\", force_remount=True).\n"
          ]
        }
      ]
    },
    {
      "cell_type": "code",
      "source": [
        "image_folder = \"/content/drive/MyDrive/Telugu\"\n",
        "output_file = \"telugu_ocr_text_results.json\""
      ],
      "metadata": {
        "id": "Hv2egtJlGgWD"
      },
      "execution_count": 22,
      "outputs": []
    },
    {
      "cell_type": "code",
      "source": [
        "ocr_results = []"
      ],
      "metadata": {
        "id": "CVxxFYpRGgTY"
      },
      "execution_count": 23,
      "outputs": []
    },
    {
      "cell_type": "code",
      "source": [
        "for image_name in sorted(os.listdir(image_folder)):\n",
        "    if image_name.endswith(('.png', '.jpg', '.jpeg')):\n",
        "        image_path = os.path.join(image_folder, image_name)\n",
        "\n",
        "\n",
        "\n",
        "\n",
        "        from PIL import Image\n",
        "        image = Image.open(image_path).convert(\"RGB\")\n",
        "        predictions = recognition_predictor([image], [[\"te\"]], detection_predictor)\n",
        "\n",
        "\n",
        "\n",
        "        print(f\"\\n🖼 Image: {image_name}\")\n",
        "        print(f\"📜  Prediction: {predictions}\\n\")\n",
        "\n",
        "\n",
        "\n",
        "        extracted_text = \"\\n\".join([line.text.strip() for line in predictions[0].text_lines])\n",
        "\n",
        "\n",
        "\n",
        "\n",
        "        ocr_results.append({\"image\": image_name, \"text\": extracted_text})"
      ],
      "metadata": {
        "colab": {
          "base_uri": "https://localhost:8080/"
        },
        "id": "qZknMbE7GgRC",
        "outputId": "37405a9f-5729-4818-91cd-ad64c322fa6b"
      },
      "execution_count": 24,
      "outputs": [
        {
          "output_type": "stream",
          "name": "stderr",
          "text": [
            "Detecting bboxes: 100%|██████████| 1/1 [00:09<00:00,  9.95s/it]\n",
            "Recognizing Text: 100%|██████████| 1/1 [00:13<00:00, 13.13s/it]\n"
          ]
        },
        {
          "output_type": "stream",
          "name": "stdout",
          "text": [
            "\n",
            "🖼 Image: 10_tel.png\n",
            "📜  Prediction: [OCRResult(text_lines=[TextLine(polygon=[[0.0, 0.0], [546.0, 0.0], [546.0, 101.0], [0.0, 101.0]], confidence=0.9143587946891785, text='ష్ట్రంరో గాంవ్ కా ఘతార్ భాయి చేగా ఆవో రే\\n ష్ణూర్ గాంవ్ కా సుతార్ భాయి జర్దీ ఆవో రే', bbox=[0.0, 0.0, 546.0, 101.0]), TextLine(polygon=[[408.0, 88.0], [448.0, 89.0], [446.0, 102.0], [406.0, 101.0]], confidence=0.21054700016975403, text='్రామె', bbox=[406.0, 88.0, 448.0, 102.0])], languages=['te'], image_bbox=[0.0, 0.0, 574.0, 102.0])]\n",
            "\n"
          ]
        },
        {
          "output_type": "stream",
          "name": "stderr",
          "text": [
            "Detecting bboxes: 100%|██████████| 1/1 [00:07<00:00,  7.81s/it]\n",
            "Recognizing Text: 100%|██████████| 1/1 [00:19<00:00, 19.77s/it]\n"
          ]
        },
        {
          "output_type": "stream",
          "name": "stdout",
          "text": [
            "\n",
            "🖼 Image: 11_tel.png\n",
            "📜  Prediction: [OCRResult(text_lines=[TextLine(polygon=[[0.0, 6.0], [486.0, 6.0], [486.0, 28.0], [0.0, 28.0]], confidence=0.9611371159553528, text='1.పాపముల నుండి విడిపించును    యేసుని నామము', bbox=[0.0, 6.0, 486.0, 28.0]), TextLine(polygon=[[0.0, 34.0], [485.0, 35.0], [483.0, 63.0], [0.0, 62.0]], confidence=0.980951726436615, text='నిత్య నరకాగ్నిలో నుండి రక్షించును _ క్రీస్తేసు నామము', bbox=[0.0, 34.0, 485.0, 63.0]), TextLine(polygon=[[112.0, 61.0], [131.0, 61.0], [131.0, 66.0], [112.0, 66.0]], confidence=0.5201781392097473, text='ి మ', bbox=[112.0, 61.0, 131.0, 66.0]), TextLine(polygon=[[436.0, 67.0], [607.0, 67.0], [607.0, 86.0], [436.0, 86.0]], confidence=0.6335639357566833, text='(యేసు నామము)', bbox=[436.0, 67.0, 607.0, 86.0])], languages=['te'], image_bbox=[0.0, 0.0, 641.0, 102.0])]\n",
            "\n"
          ]
        },
        {
          "output_type": "stream",
          "name": "stderr",
          "text": [
            "Detecting bboxes: 100%|██████████| 1/1 [00:08<00:00,  8.93s/it]\n",
            "Recognizing Text: 100%|██████████| 1/1 [00:09<00:00,  9.91s/it]\n"
          ]
        },
        {
          "output_type": "stream",
          "name": "stdout",
          "text": [
            "\n",
            "🖼 Image: 12_tel.png\n",
            "📜  Prediction: [OCRResult(text_lines=[TextLine(polygon=[[41.0, 19.0], [602.0, 15.0], [603.0, 60.0], [49.0, 63.0]], confidence=0.9989453554153442, text='భారత  దేశం  లాంటి  ప్రజాస్వామ్య  దేశం  లో', bbox=[41.0, 15.0, 603.0, 63.0]), TextLine(polygon=[[0.0, 64.0], [512.0, 63.0], [514.0, 104.0], [0.0, 105.0]], confidence=0.9882028102874756, text='వార్త పత్రికలు ముఖ్య పాత్రను పోషిస్తాయి. ', bbox=[0.0, 63.0, 514.0, 105.0])], languages=['te'], image_bbox=[0.0, 0.0, 603.0, 119.0])]\n",
            "\n"
          ]
        },
        {
          "output_type": "stream",
          "name": "stderr",
          "text": [
            "Detecting bboxes: 100%|██████████| 1/1 [00:08<00:00,  8.07s/it]\n",
            "Recognizing Text: 100%|██████████| 1/1 [00:10<00:00, 10.26s/it]\n"
          ]
        },
        {
          "output_type": "stream",
          "name": "stdout",
          "text": [
            "\n",
            "🖼 Image: 13_tel.png\n",
            "📜  Prediction: [OCRResult(text_lines=[TextLine(polygon=[[0.0, 5.0], [467.0, 0.0], [475.0, 43.0], [1.0, 49.0]], confidence=0.7563046813011169, text='ఇది తెలంగాణ వేదరు,లం', bbox=[0.0, 0.0, 475.0, 49.0]), TextLine(polygon=[[391.0, 47.0], [410.0, 47.0], [410.0, 55.0], [391.0, 55.0]], confidence=0.36479029059410095, text='్ 18', bbox=[391.0, 47.0, 410.0, 55.0])], languages=['te'], image_bbox=[0.0, 0.0, 475.0, 62.0])]\n",
            "\n"
          ]
        },
        {
          "output_type": "stream",
          "name": "stderr",
          "text": [
            "Detecting bboxes: 100%|██████████| 1/1 [00:07<00:00,  7.16s/it]\n",
            "Recognizing Text: 100%|██████████| 1/1 [01:03<00:00, 63.13s/it]\n"
          ]
        },
        {
          "output_type": "stream",
          "name": "stdout",
          "text": [
            "\n",
            "🖼 Image: 14_tel.png\n",
            "📜  Prediction: [OCRResult(text_lines=[TextLine(polygon=[[117.0, 7.0], [131.0, 6.0], [142.0, 14.0], [128.0, 16.0]], confidence=0.36245423555374146, text='్ర', bbox=[117.0, 6.0, 142.0, 16.0]), TextLine(polygon=[[190.0, 7.0], [207.0, 7.0], [205.0, 22.0], [187.0, 22.0]], confidence=0.22373880445957184, text='ని', bbox=[187.0, 7.0, 207.0, 22.0]), TextLine(polygon=[[233.0, 12.0], [257.0, 12.0], [257.0, 26.0], [234.0, 26.0]], confidence=0.6555113196372986, text='2', bbox=[233.0, 12.0, 257.0, 26.0]), TextLine(polygon=[[128.0, 21.0], [136.0, 21.0], [135.0, 29.0], [127.0, 29.0]], confidence=0.16488799452781677, text='ార్యం', bbox=[127.0, 21.0, 136.0, 29.0]), TextLine(polygon=[[176.0, 23.0], [191.0, 23.0], [191.0, 32.0], [176.0, 32.0]], confidence=0.42566215991973877, text='', bbox=[176.0, 23.0, 191.0, 32.0]), TextLine(polygon=[[244.0, 26.0], [253.0, 26.0], [253.0, 30.0], [244.0, 30.0]], confidence=0.45422181487083435, text='', bbox=[244.0, 26.0, 253.0, 30.0]), TextLine(polygon=[[20.0, 28.0], [29.0, 27.0], [32.0, 29.0], [24.0, 30.0]], confidence=0.3505608141422272, text='', bbox=[20.0, 27.0, 32.0, 30.0]), TextLine(polygon=[[108.0, 27.0], [123.0, 27.0], [123.0, 31.0], [108.0, 31.0]], confidence=0.26821169257164, text='', bbox=[108.0, 27.0, 123.0, 31.0]), TextLine(polygon=[[14.0, 30.0], [32.0, 30.0], [29.0, 49.0], [11.0, 48.0]], confidence=0.3298727869987488, text='డ్', bbox=[11.0, 30.0, 32.0, 49.0]), TextLine(polygon=[[238.0, 30.0], [259.0, 30.0], [257.0, 49.0], [235.0, 48.0]], confidence=0.44985833764076233, text='క', bbox=[235.0, 30.0, 259.0, 49.0]), TextLine(polygon=[[173.0, 34.0], [185.0, 34.0], [185.0, 42.0], [173.0, 42.0]], confidence=0.5886658430099487, text='', bbox=[173.0, 34.0, 185.0, 42.0]), TextLine(polygon=[[241.0, 50.0], [251.0, 50.0], [251.0, 53.0], [241.0, 53.0]], confidence=0.5692334771156311, text='', bbox=[241.0, 50.0, 251.0, 53.0]), TextLine(polygon=[[19.0, 51.0], [28.0, 51.0], [28.0, 54.0], [19.0, 54.0]], confidence=0.3183695375919342, text='', bbox=[19.0, 51.0, 28.0, 54.0]), TextLine(polygon=[[146.0, 57.0], [166.0, 57.0], [169.0, 76.0], [150.0, 76.0]], confidence=0.5453945398330688, text='్ర', bbox=[146.0, 57.0, 169.0, 76.0])], languages=['te'], image_bbox=[0.0, 0.0, 276.0, 79.0])]\n",
            "\n"
          ]
        },
        {
          "output_type": "stream",
          "name": "stderr",
          "text": [
            "Detecting bboxes: 100%|██████████| 1/1 [00:08<00:00,  8.05s/it]\n",
            "Recognizing Text: 100%|██████████| 1/1 [00:49<00:00, 49.45s/it]\n"
          ]
        },
        {
          "output_type": "stream",
          "name": "stdout",
          "text": [
            "\n",
            "🖼 Image: 15_tel.png\n",
            "📜  Prediction: [OCRResult(text_lines=[TextLine(polygon=[[0.0, 0.0], [270.0, 0.0], [274.0, 89.0], [0.0, 94.0]], confidence=0.883234977722168, text='ఈయనే', bbox=[0.0, 0.0, 274.0, 94.0]), TextLine(polygon=[[274.0, 6.0], [458.0, 0.0], [464.0, 87.0], [284.0, 95.0]], confidence=0.8425208926200867, text='మన', bbox=[274.0, 0.0, 464.0, 95.0]), TextLine(polygon=[[0.0, 112.0], [82.0, 112.0], [82.0, 204.0], [0.0, 204.0]], confidence=0.4869348704814911, text='క్ష', bbox=[0.0, 112.0, 82.0, 204.0]), TextLine(polygon=[[194.0, 120.0], [218.0, 119.0], [219.0, 130.0], [195.0, 130.0]], confidence=0.27863484621047974, text='రువు 8', bbox=[194.0, 119.0, 219.0, 130.0]), TextLine(polygon=[[92.0, 122.0], [144.0, 123.0], [139.0, 194.0], [86.0, 192.0]], confidence=0.4697195589542389, text='క్', bbox=[86.0, 122.0, 144.0, 194.0]), TextLine(polygon=[[274.0, 166.0], [400.0, 158.0], [405.0, 190.0], [279.0, 197.0]], confidence=0.5395110249519348, text='రార E', bbox=[274.0, 158.0, 405.0, 197.0]), TextLine(polygon=[[206.0, 187.0], [274.0, 187.0], [274.0, 220.0], [206.0, 220.0]], confidence=0.5016742944717407, text='ం', bbox=[206.0, 187.0, 274.0, 220.0]), TextLine(polygon=[[335.0, 229.0], [415.0, 194.0], [453.0, 228.0], [372.0, 263.0]], confidence=0.6956462264060974, text='క', bbox=[335.0, 194.0, 453.0, 263.0]), TextLine(polygon=[[0.0, 196.0], [170.0, 196.0], [170.0, 250.0], [0.0, 250.0]], confidence=0.5448436141014099, text='ను', bbox=[0.0, 196.0, 170.0, 250.0]), TextLine(polygon=[[8.0, 268.0], [43.0, 268.0], [43.0, 292.0], [8.0, 292.0]], confidence=0.26251694560050964, text='్రామం', bbox=[8.0, 268.0, 43.0, 292.0]), TextLine(polygon=[[226.0, 269.0], [258.0, 269.0], [258.0, 287.0], [226.0, 287.0]], confidence=0.2503909170627594, text='నిరువులు విశ', bbox=[226.0, 269.0, 258.0, 287.0])], languages=['te'], image_bbox=[0.0, 0.0, 464.0, 293.0])]\n",
            "\n"
          ]
        },
        {
          "output_type": "stream",
          "name": "stderr",
          "text": [
            "Detecting bboxes: 100%|██████████| 1/1 [00:08<00:00,  8.87s/it]\n",
            "Recognizing Text: 100%|██████████| 1/1 [00:21<00:00, 21.18s/it]\n"
          ]
        },
        {
          "output_type": "stream",
          "name": "stdout",
          "text": [
            "\n",
            "🖼 Image: 16_tel.png\n",
            "📜  Prediction: [OCRResult(text_lines=[TextLine(polygon=[[0.0, 0.0], [487.0, 2.0], [484.0, 85.0], [0.0, 83.0]], confidence=0.7636178731918335, text='ఉన్న   వ్యక్తి   తెలుగు   భాషాభివృద్ధికి   విశేష\\nసేవలందించిన  సీపీ  బ్రౌన్   మహాశయుడు.', bbox=[0.0, 0.0, 487.0, 85.0]), TextLine(polygon=[[0.0, 70.0], [486.0, 70.0], [486.0, 163.0], [0.0, 163.0]], confidence=0.8801404237747192, text='ఇంతకాలం   .ఆయన     రేఖాచిల్లాన్నే     మనం\\nచూస్తూ వచ్చాం.    ఇటీవల   చిత్రూరు     మనం\\nచూస్తూ    వచ్చాం.    ఇటీవల    చిత్రూరు    జిల్లా', bbox=[0.0, 70.0, 486.0, 163.0]), TextLine(polygon=[[0.0, 157.0], [54.0, 155.0], [56.0, 162.0], [0.0, 164.0]], confidence=0.9292435646057129, text='ార్యాలు                                                                                                                                                                      ', bbox=[0.0, 155.0, 56.0, 164.0])], languages=['te'], image_bbox=[0.0, 0.0, 487.0, 164.0])]\n",
            "\n"
          ]
        },
        {
          "output_type": "stream",
          "name": "stderr",
          "text": [
            "Detecting bboxes: 100%|██████████| 1/1 [00:09<00:00,  9.02s/it]\n",
            "Recognizing Text: 100%|██████████| 1/1 [00:15<00:00, 15.42s/it]\n"
          ]
        },
        {
          "output_type": "stream",
          "name": "stdout",
          "text": [
            "\n",
            "🖼 Image: 17_tel.png\n",
            "📜  Prediction: [OCRResult(text_lines=[TextLine(polygon=[[0.0, 8.0], [449.0, 8.0], [449.0, 49.0], [0.0, 49.0]], confidence=0.887090265750885, text='• కోవిడ్ కట్లడికి సరికొత్త యూవీ లైట్', bbox=[0.0, 8.0, 449.0, 49.0]), TextLine(polygon=[[134.0, 43.0], [157.0, 43.0], [157.0, 53.0], [134.0, 53.0]], confidence=0.4040863513946533, text='క', bbox=[134.0, 43.0, 157.0, 53.0]), TextLine(polygon=[[0.0, 58.0], [650.0, 58.0], [650.0, 102.0], [0.0, 102.0]], confidence=0.978015661239624, text='• తెలంగాణ యువ శాస్త్రవేత్త నర్సింహాచారి ఆవిష్కరణ ', bbox=[0.0, 58.0, 650.0, 102.0])], languages=['te'], image_bbox=[0.0, 0.0, 651.0, 109.0])]\n",
            "\n"
          ]
        },
        {
          "output_type": "stream",
          "name": "stderr",
          "text": [
            "Detecting bboxes: 100%|██████████| 1/1 [00:08<00:00,  8.75s/it]\n",
            "Recognizing Text: 100%|██████████| 1/1 [00:14<00:00, 14.70s/it]\n"
          ]
        },
        {
          "output_type": "stream",
          "name": "stdout",
          "text": [
            "\n",
            "🖼 Image: 18_tel.png\n",
            "📜  Prediction: [OCRResult(text_lines=[TextLine(polygon=[[0.0, 4.0], [415.0, 4.0], [415.0, 28.0], [0.0, 28.0]], confidence=0.9589290618896484, text='తెలంగాణ  యువకుడు  మండాజి  నర్చిం', bbox=[0.0, 4.0, 415.0, 28.0]), TextLine(polygon=[[345.0, 28.0], [415.0, 28.0], [415.0, 36.0], [345.0, 36.0]], confidence=0.5380026698112488, text='ు నుండి 10 కి. మూలాలు 20', bbox=[345.0, 28.0, 415.0, 36.0]), TextLine(polygon=[[0.0, 45.0], [411.0, 35.0], [416.0, 71.0], [8.0, 78.0]], confidence=0.9883482456207275, text='హాచారి  ఓ  వినూత్న  ఆవిష్కరణ  చేశారు.', bbox=[0.0, 35.0, 416.0, 78.0])], languages=['te'], image_bbox=[0.0, 0.0, 416.0, 78.0])]\n",
            "\n"
          ]
        },
        {
          "output_type": "stream",
          "name": "stderr",
          "text": [
            "Detecting bboxes: 100%|██████████| 1/1 [00:07<00:00,  7.51s/it]\n",
            "Recognizing Text: 100%|██████████| 1/1 [02:02<00:00, 122.95s/it]\n"
          ]
        },
        {
          "output_type": "stream",
          "name": "stdout",
          "text": [
            "\n",
            "🖼 Image: 19_tel.png\n",
            "📜  Prediction: [OCRResult(text_lines=[TextLine(polygon=[[187.0, 14.0], [340.0, 11.0], [341.0, 38.0], [188.0, 41.0]], confidence=0.9395788908004761, text='నిలువరిసా', bbox=[187.0, 11.0, 341.0, 41.0]), TextLine(polygon=[[3.0, 14.0], [21.0, 14.0], [21.0, 26.0], [3.0, 26.0]], confidence=0.6784637570381165, text='1 ', bbox=[3.0, 14.0, 21.0, 26.0]), TextLine(polygon=[[24.0, 16.0], [132.0, 15.0], [133.0, 39.0], [24.0, 40.0]], confidence=0.8599281907081604, text='జటును', bbox=[24.0, 15.0, 133.0, 40.0]), TextLine(polygon=[[73.0, 41.0], [91.0, 41.0], [91.0, 51.0], [73.0, 51.0]], confidence=0.32837653160095215, text='ర్లా', bbox=[73.0, 41.0, 91.0, 51.0]), TextLine(polygon=[[26.0, 62.0], [338.0, 61.0], [338.0, 88.0], [27.0, 89.0]], confidence=0.978826642036438, text='మని  ఆసెలియా  కెపెన్', bbox=[26.0, 61.0, 338.0, 89.0]), TextLine(polygon=[[0.0, 64.0], [16.0, 64.0], [16.0, 75.0], [0.0, 75.0]], confidence=0.5124040246009827, text='2', bbox=[0.0, 64.0, 16.0, 75.0]), TextLine(polygon=[[135.0, 93.0], [165.0, 93.0], [165.0, 104.0], [135.0, 104.0]], confidence=0.4379979074001312, text='్ర', bbox=[135.0, 93.0, 165.0, 104.0]), TextLine(polygon=[[102.0, 106.0], [234.0, 106.0], [234.0, 139.0], [102.0, 139.0]], confidence=0.9229400157928467, text='పాంటింగ్', bbox=[102.0, 106.0, 234.0, 139.0]), TextLine(polygon=[[20.0, 112.0], [73.0, 107.0], [78.0, 136.0], [25.0, 142.0]], confidence=0.5515375733375549, text='రక్ష', bbox=[20.0, 107.0, 78.0, 142.0]), TextLine(polygon=[[264.0, 109.0], [345.0, 114.0], [342.0, 140.0], [262.0, 135.0]], confidence=0.8845573663711548, text='దీమా', bbox=[262.0, 109.0, 345.0, 140.0]), TextLine(polygon=[[2.0, 114.0], [17.0, 114.0], [17.0, 126.0], [2.0, 126.0]], confidence=0.6966472864151001, text='3', bbox=[2.0, 114.0, 17.0, 126.0]), TextLine(polygon=[[139.0, 157.0], [244.0, 158.0], [243.0, 189.0], [138.0, 187.0]], confidence=0.9296921491622925, text='చేశాడు.', bbox=[138.0, 157.0, 244.0, 189.0]), TextLine(polygon=[[29.0, 164.0], [125.0, 166.0], [124.0, 201.0], [28.0, 199.0]], confidence=0.9355705976486206, text='వ్యక్తం  ', bbox=[28.0, 164.0, 125.0, 201.0]), TextLine(polygon=[[277.0, 166.0], [342.0, 166.0], [342.0, 187.0], [277.0, 188.0]], confidence=0.7221553921699524, text='జటు', bbox=[277.0, 166.0, 342.0, 188.0]), TextLine(polygon=[[320.0, 186.0], [342.0, 186.0], [342.0, 202.0], [320.0, 202.0]], confidence=0.5366639494895935, text='ట', bbox=[320.0, 186.0, 342.0, 202.0]), TextLine(polygon=[[2.0, 198.0], [14.0, 198.0], [14.0, 208.0], [2.0, 208.0]], confidence=0.6376835703849792, text=' ష', bbox=[2.0, 198.0, 14.0, 208.0]), TextLine(polygon=[[27.0, 207.0], [124.0, 206.0], [125.0, 238.0], [28.0, 239.0]], confidence=0.8547434210777283, text='బాగానే', bbox=[27.0, 206.0, 125.0, 239.0]), TextLine(polygon=[[158.0, 208.0], [265.0, 212.0], [263.0, 241.0], [156.0, 236.0]], confidence=0.9117876887321472, text='ఉందని,', bbox=[156.0, 208.0, 265.0, 241.0]), TextLine(polygon=[[290.0, 208.0], [345.0, 212.0], [342.0, 238.0], [287.0, 234.0]], confidence=0.7891895174980164, text=' తన', bbox=[287.0, 208.0, 345.0, 238.0]), TextLine(polygon=[[22.0, 268.0], [127.0, 263.0], [129.0, 286.0], [24.0, 291.0]], confidence=0.881557047367096, text='బుగకు', bbox=[22.0, 263.0, 129.0, 291.0]), TextLine(polygon=[[246.0, 266.0], [349.0, 263.0], [350.0, 287.0], [247.0, 290.0]], confidence=0.8208801746368408, text='అయిన ', bbox=[246.0, 263.0, 350.0, 290.0]), TextLine(polygon=[[2.0, 265.0], [24.0, 265.0], [24.0, 277.0], [2.0, 277.0]], confidence=0.4543238580226898, text='న్', bbox=[2.0, 265.0, 24.0, 277.0]), TextLine(polygon=[[5.0, 290.0], [16.0, 290.0], [16.0, 299.0], [5.0, 299.0]], confidence=0.5495895147323608, text='గ', bbox=[5.0, 290.0, 16.0, 299.0])], languages=['te'], image_bbox=[0.0, 0.0, 390.0, 309.0])]\n",
            "\n"
          ]
        },
        {
          "output_type": "stream",
          "name": "stderr",
          "text": [
            "Detecting bboxes: 100%|██████████| 1/1 [00:08<00:00,  8.73s/it]\n",
            "Recognizing Text: 100%|██████████| 1/1 [00:18<00:00, 18.40s/it]\n"
          ]
        },
        {
          "output_type": "stream",
          "name": "stdout",
          "text": [
            "\n",
            "🖼 Image: 1_tel.png\n",
            "📜  Prediction: [OCRResult(text_lines=[TextLine(polygon=[[58.0, 0.0], [423.0, 0.0], [423.0, 40.0], [58.0, 40.0]], confidence=0.9556712508201599, text='నీకు కుదిరినప్పుడు కాదు,', bbox=[58.0, 0.0, 423.0, 40.0]), TextLine(polygon=[[14.0, 46.0], [470.0, 57.0], [461.0, 96.0], [5.0, 84.0]], confidence=0.9469439387321472, text='ఎదుటివాడికి అవసరమైనప్పుడు', bbox=[5.0, 46.0, 470.0, 96.0]), TextLine(polygon=[[311.0, 83.0], [344.0, 83.0], [344.0, 98.0], [311.0, 98.0]], confidence=0.4472147226333618, text='ర', bbox=[311.0, 83.0, 344.0, 98.0]), TextLine(polygon=[[19.0, 103.0], [461.0, 112.0], [453.0, 158.0], [11.0, 149.0]], confidence=0.9785597324371338, text='చేస్తే దాన్ని సాయం అంటారు..,', bbox=[11.0, 103.0, 461.0, 158.0])], languages=['te'], image_bbox=[0.0, 0.0, 481.0, 163.0])]\n",
            "\n"
          ]
        },
        {
          "output_type": "stream",
          "name": "stderr",
          "text": [
            "Detecting bboxes: 100%|██████████| 1/1 [00:08<00:00,  8.83s/it]\n",
            "Recognizing Text: 100%|██████████| 1/1 [00:21<00:00, 21.36s/it]\n"
          ]
        },
        {
          "output_type": "stream",
          "name": "stdout",
          "text": [
            "\n",
            "🖼 Image: 20_tel.png\n",
            "📜  Prediction: [OCRResult(text_lines=[TextLine(polygon=[[1.0, 5.0], [1108.0, 11.0], [1100.0, 47.0], [0.0, 41.0]], confidence=0.9673265218734741, text='కరొనతో పాటు అన్ని రకాల వైరస్ లు మరియు బ్యాక్టీరియాలను పూర్తిగా నాశనం చేసి', bbox=[0.0, 5.0, 1108.0, 47.0]), TextLine(polygon=[[0.0, 52.0], [1232.0, 52.0], [1232.0, 88.0], [0.0, 88.0]], confidence=0.9704842567443848, text='అంతమొందించే   \"మన తెలుగు బిడ్డ ఆవిష్కరణ ఇంస్టాషీల్డ్\" ను గౌరవనీయులు తెలంగాణ ', bbox=[0.0, 52.0, 1232.0, 88.0]), TextLine(polygon=[[0.0, 96.0], [1280.0, 97.0], [1278.0, 134.0], [0.0, 132.0]], confidence=0.9519785046577454, text='రా। ష్ట ఐటి మరియు ఇండ(స్టీ శాఖల మంత్రి శ్రీ. కల్వకుంట్ల తారకరామా రావు  గారి చేతుల మీదుగా', bbox=[0.0, 96.0, 1280.0, 134.0]), TextLine(polygon=[[0.0, 144.0], [651.0, 143.0], [653.0, 176.0], [0.0, 177.0]], confidence=0.7058855295181274, text='వారి స్వగృహంలో 23-04-2022న ఆవిష్కరించారు.', bbox=[0.0, 143.0, 653.0, 177.0])], languages=['te'], image_bbox=[0.0, 0.0, 1280.0, 194.0])]\n",
            "\n"
          ]
        },
        {
          "output_type": "stream",
          "name": "stderr",
          "text": [
            "Detecting bboxes: 100%|██████████| 1/1 [00:09<00:00,  9.02s/it]\n",
            "Recognizing Text: 100%|██████████| 1/1 [00:11<00:00, 11.08s/it]\n"
          ]
        },
        {
          "output_type": "stream",
          "name": "stdout",
          "text": [
            "\n",
            "🖼 Image: 21_tel.png\n",
            "📜  Prediction: [OCRResult(text_lines=[TextLine(polygon=[[0.0, 7.0], [675.0, 7.0], [675.0, 62.0], [0.0, 62.0]], confidence=0.9340676069259644, text='హీరో మోటోకార్స్ సీఈవో నిరంజన్ నిరంజన్ గుప్తా', bbox=[0.0, 7.0, 675.0, 62.0]), TextLine(polygon=[[616.0, 51.0], [666.0, 51.0], [666.0, 64.0], [616.0, 64.0]], confidence=0.26783862709999084, text='్లో', bbox=[616.0, 51.0, 666.0, 64.0])], languages=['te'], image_bbox=[0.0, 0.0, 688.0, 66.0])]\n",
            "\n"
          ]
        },
        {
          "output_type": "stream",
          "name": "stderr",
          "text": [
            "Detecting bboxes: 100%|██████████| 1/1 [00:07<00:00,  7.62s/it]\n",
            "Recognizing Text: 100%|██████████| 1/1 [00:13<00:00, 13.81s/it]\n"
          ]
        },
        {
          "output_type": "stream",
          "name": "stdout",
          "text": [
            "\n",
            "🖼 Image: 22_tel.png\n",
            "📜  Prediction: [OCRResult(text_lines=[TextLine(polygon=[[55.0, 1.0], [238.0, 0.0], [239.0, 32.0], [56.0, 33.0]], confidence=0.933017909526825, text='తెలంగాణలోని', bbox=[55.0, 0.0, 239.0, 33.0]), TextLine(polygon=[[51.0, 35.0], [244.0, 43.0], [237.0, 93.0], [44.0, 86.0]], confidence=0.8476389646530151, text='ప్రజీ ప్లాంట్', bbox=[44.0, 35.0, 244.0, 93.0]), TextLine(polygon=[[28.0, 87.0], [269.0, 98.0], [260.0, 147.0], [20.0, 136.0]], confidence=0.9466161131858826, text='కెపాసిటీ పెంపు', bbox=[20.0, 87.0, 269.0, 147.0])], languages=['te'], image_bbox=[0.0, 0.0, 289.0, 154.0])]\n",
            "\n"
          ]
        },
        {
          "output_type": "stream",
          "name": "stderr",
          "text": [
            "Detecting bboxes: 100%|██████████| 1/1 [00:09<00:00,  9.13s/it]\n",
            "Recognizing Text: 100%|██████████| 1/1 [00:37<00:00, 37.67s/it]\n"
          ]
        },
        {
          "output_type": "stream",
          "name": "stdout",
          "text": [
            "\n",
            "🖼 Image: 23_tel.png\n",
            "📜  Prediction: [OCRResult(text_lines=[TextLine(polygon=[[45.0, 6.0], [734.0, 6.0], [734.0, 60.0], [45.0, 60.0]], confidence=0.8281282186508179, text='భారత-చెరా వివాదం శాంతి', bbox=[45.0, 6.0, 734.0, 60.0]), TextLine(polygon=[[218.0, 62.0], [284.0, 69.0], [278.0, 84.0], [212.0, 77.0]], confidence=0.43323415517807007, text='్రామంలో', bbox=[212.0, 62.0, 284.0, 84.0]), TextLine(polygon=[[0.0, 91.0], [747.0, 91.0], [747.0, 156.0], [0.0, 156.0]], confidence=0.9054756760597229, text='యుత సహజీవనాని కే సదాలు', bbox=[0.0, 91.0, 747.0, 156.0]), TextLine(polygon=[[350.0, 172.0], [423.0, 172.0], [423.0, 185.0], [350.0, 185.0]], confidence=0.4235478639602661, text='ారాయానిక', bbox=[350.0, 172.0, 423.0, 185.0]), TextLine(polygon=[[14.0, 194.0], [737.0, 196.0], [737.0, 242.0], [13.0, 240.0]], confidence=0.9396756291389465, text='పెకింగ్\\u200cలో సింహళ పధాని అభిభాష ణ:', bbox=[13.0, 194.0, 737.0, 242.0]), TextLine(polygon=[[395.0, 245.0], [430.0, 245.0], [430.0, 256.0], [395.0, 256.0]], confidence=0.5910061597824097, text=')', bbox=[395.0, 245.0, 430.0, 256.0]), TextLine(polygon=[[0.0, 268.0], [689.0, 246.0], [697.0, 304.0], [0.0, 325.0]], confidence=0.8742871284484863, text='్ చైనా ప్రధానితో సిరిపూనో చర్చలు', bbox=[0.0, 246.0, 697.0, 325.0]), TextLine(polygon=[[519.0, 327.0], [747.0, 327.0], [747.0, 348.0], [519.0, 349.0]], confidence=0.8358874320983887, text='ెంకింగ్, డిసెంబర్ 31 :', bbox=[519.0, 327.0, 747.0, 349.0])], languages=['te'], image_bbox=[0.0, 0.0, 748.0, 358.0])]\n",
            "\n"
          ]
        },
        {
          "output_type": "stream",
          "name": "stderr",
          "text": [
            "Detecting bboxes: 100%|██████████| 1/1 [00:07<00:00,  7.80s/it]\n",
            "Recognizing Text: 100%|██████████| 1/1 [00:06<00:00,  6.48s/it]\n"
          ]
        },
        {
          "output_type": "stream",
          "name": "stdout",
          "text": [
            "\n",
            "🖼 Image: 24_tel.png\n",
            "📜  Prediction: [OCRResult(text_lines=[TextLine(polygon=[[0.0, 9.0], [436.0, 8.0], [437.0, 36.0], [0.0, 37.0]], confidence=0.9906837344169617, text='ఈనాడు మెయిన్ ఎడిషన్ తెలంగాణాలో', bbox=[0.0, 8.0, 437.0, 37.0])], languages=['te'], image_bbox=[0.0, 0.0, 437.0, 46.0])]\n",
            "\n"
          ]
        },
        {
          "output_type": "stream",
          "name": "stderr",
          "text": [
            "Detecting bboxes: 100%|██████████| 1/1 [00:07<00:00,  7.71s/it]\n",
            "Recognizing Text: 100%|██████████| 1/1 [00:36<00:00, 36.07s/it]\n"
          ]
        },
        {
          "output_type": "stream",
          "name": "stdout",
          "text": [
            "\n",
            "🖼 Image: 25_tel.png\n",
            "📜  Prediction: [OCRResult(text_lines=[TextLine(polygon=[[0.0, 7.0], [338.0, 11.0], [337.0, 37.0], [0.0, 33.0]], confidence=0.9539474844932556, text='దస్సులు నిర్వహించాలని సూచించారు. జగిత్యా', bbox=[0.0, 7.0, 338.0, 37.0]), TextLine(polygon=[[0.0, 37.0], [337.0, 37.0], [337.0, 95.0], [0.0, 94.0]], confidence=0.9849144816398621, text='ల ఆర్టీఓ హన్మంతరావు మాట్లాడుతూ డైవర్లు\\nశిక్షణ పొందిన తర్వాతే వాహనాలను నడపాల', bbox=[0.0, 37.0, 337.0, 95.0]), TextLine(polygon=[[0.0, 94.0], [337.0, 96.0], [337.0, 119.0], [0.0, 117.0]], confidence=0.8941512107849121, text='ని సూచించారు. మరింత అవగాహన కల్పించేం', bbox=[0.0, 94.0, 337.0, 119.0]), TextLine(polygon=[[0.0, 126.0], [337.0, 125.0], [337.0, 147.0], [0.0, 148.0]], confidence=0.8936023116111755, text='దుకు క్రమం తప్పకుండా సదస్సులు నిర్యహిం', bbox=[0.0, 125.0, 337.0, 148.0]), TextLine(polygon=[[0.0, 147.0], [338.0, 157.0], [337.0, 184.0], [0.0, 174.0]], confidence=0.9266915917396545, text='చాలని కోరారు. అనంతరం సమావేశానికి వచ్చి', bbox=[0.0, 147.0, 338.0, 184.0]), TextLine(polygon=[[0.0, 182.0], [338.0, 186.0], [337.0, 215.0], [0.0, 210.0]], confidence=0.9280393719673157, text='న ఆటో, జీపు, కారు డైవర్లకు విశ్వనాథ్ బల', bbox=[0.0, 182.0, 338.0, 215.0]), TextLine(polygon=[[0.0, 217.0], [337.0, 205.0], [338.0, 236.0], [1.0, 243.0]], confidence=0.9050039052963257, text='రాం, ఓరుూ ఆధ్యర్యంలో ట్రూఫిక్\\u200cపై అవగాహన', bbox=[0.0, 205.0, 338.0, 243.0])], languages=['te'], image_bbox=[0.0, 0.0, 338.0, 243.0])]\n",
            "\n"
          ]
        },
        {
          "output_type": "stream",
          "name": "stderr",
          "text": [
            "Detecting bboxes: 100%|██████████| 1/1 [00:08<00:00,  8.48s/it]\n",
            "Recognizing Text: 100%|██████████| 1/1 [00:13<00:00, 13.31s/it]\n"
          ]
        },
        {
          "output_type": "stream",
          "name": "stdout",
          "text": [
            "\n",
            "🖼 Image: 2_tel.png\n",
            "📜  Prediction: [OCRResult(text_lines=[TextLine(polygon=[[63.0, 0.0], [205.0, 2.0], [204.0, 29.0], [62.0, 26.0]], confidence=0.9383512139320374, text='గెలిచినవాడు', bbox=[62.0, 0.0, 205.0, 29.0]), TextLine(polygon=[[17.0, 61.0], [256.0, 63.0], [255.0, 90.0], [17.0, 88.0]], confidence=0.9673118591308594, text='ఆసందంగా వుంటాడు', bbox=[17.0, 61.0, 256.0, 90.0]), TextLine(polygon=[[72.0, 121.0], [196.0, 125.0], [195.0, 151.0], [70.0, 148.0]], confidence=0.8477161526679993, text='ఓడినవాడు', bbox=[70.0, 121.0, 196.0, 151.0])], languages=['te'], image_bbox=[0.0, 0.0, 256.0, 162.0])]\n",
            "\n"
          ]
        },
        {
          "output_type": "stream",
          "name": "stderr",
          "text": [
            "Detecting bboxes: 100%|██████████| 1/1 [00:08<00:00,  8.06s/it]\n",
            "Recognizing Text: 100%|██████████| 1/1 [00:20<00:00, 20.33s/it]\n"
          ]
        },
        {
          "output_type": "stream",
          "name": "stdout",
          "text": [
            "\n",
            "🖼 Image: 3_tel.png\n",
            "📜  Prediction: [OCRResult(text_lines=[TextLine(polygon=[[0.0, 7.0], [457.0, 5.0], [458.0, 53.0], [0.0, 54.0]], confidence=0.611987292766571, text='ప్రోసంపెం లో చేకితి అంతా తోకేత్తి అంతా తోకేస్తోనా', bbox=[0.0, 5.0, 458.0, 54.0]), TextLine(polygon=[[108.0, 57.0], [368.0, 61.0], [362.0, 94.0], [103.0, 90.0]], confidence=0.5060346126556396, text='ల్లి ప్రస్త్రం వెల్లాగు ప్రాచ్', bbox=[103.0, 57.0, 368.0, 94.0]), TextLine(polygon=[[0.0, 79.0], [50.0, 79.0], [50.0, 126.0], [0.0, 126.0]], confidence=0.2341066151857376, text='', bbox=[0.0, 79.0, 50.0, 126.0]), TextLine(polygon=[[129.0, 106.0], [337.0, 105.0], [339.0, 138.0], [131.0, 139.0]], confidence=0.6218608617782593, text='దాచలేదు కదా!', bbox=[129.0, 105.0, 339.0, 139.0])], languages=['te'], image_bbox=[0.0, 0.0, 458.0, 149.0])]\n",
            "\n"
          ]
        },
        {
          "output_type": "stream",
          "name": "stderr",
          "text": [
            "Detecting bboxes: 100%|██████████| 1/1 [00:07<00:00,  7.64s/it]\n",
            "Recognizing Text: 100%|██████████| 1/1 [00:06<00:00,  6.47s/it]\n"
          ]
        },
        {
          "output_type": "stream",
          "name": "stdout",
          "text": [
            "\n",
            "🖼 Image: 4_tel.png\n",
            "📜  Prediction: [OCRResult(text_lines=[TextLine(polygon=[[0.0, 2.0], [335.0, 2.0], [335.0, 30.0], [0.0, 30.0]], confidence=0.9775804281234741, text='మమ్మల్ని అతి సన్ని హితులను', bbox=[0.0, 2.0, 335.0, 30.0])], languages=['te'], image_bbox=[0.0, 0.0, 346.0, 40.0])]\n",
            "\n"
          ]
        },
        {
          "output_type": "stream",
          "name": "stderr",
          "text": [
            "Detecting bboxes: 100%|██████████| 1/1 [00:07<00:00,  7.72s/it]\n",
            "Recognizing Text: 100%|██████████| 1/1 [00:08<00:00,  8.48s/it]\n"
          ]
        },
        {
          "output_type": "stream",
          "name": "stdout",
          "text": [
            "\n",
            "🖼 Image: 5_tel.png\n",
            "📜  Prediction: [OCRResult(text_lines=[TextLine(polygon=[[0.0, 9.0], [789.0, 10.0], [781.0, 29.0], [0.0, 28.0]], confidence=0.9809465408325195, text='స్నేహం పొందటానికి మోసం చేస్తే తప్పులేదు, కానీ మోసం చేయటానికి స్నేహాన్ని కోరితే అది క్షమించరాని తప్పు. ', bbox=[0.0, 9.0, 789.0, 29.0])], languages=['te'], image_bbox=[0.0, 0.0, 820.0, 42.0])]\n",
            "\n"
          ]
        },
        {
          "output_type": "stream",
          "name": "stderr",
          "text": [
            "Detecting bboxes: 100%|██████████| 1/1 [00:08<00:00,  8.37s/it]\n",
            "Recognizing Text: 100%|██████████| 1/1 [00:21<00:00, 21.63s/it]\n"
          ]
        },
        {
          "output_type": "stream",
          "name": "stdout",
          "text": [
            "\n",
            "🖼 Image: 6_tel.png\n",
            "📜  Prediction: [OCRResult(text_lines=[TextLine(polygon=[[0.0, 2.0], [149.0, 3.0], [148.0, 36.0], [0.0, 35.0]], confidence=0.8947523236274719, text='పేమ అనేక', bbox=[0.0, 2.0, 149.0, 36.0]), TextLine(polygon=[[10.0, 32.0], [55.0, 36.0], [54.0, 46.0], [9.0, 42.0]], confidence=0.4381026327610016, text='ు', bbox=[9.0, 32.0, 55.0, 46.0]), TextLine(polygon=[[0.0, 34.0], [148.0, 34.0], [148.0, 81.0], [0.0, 81.0]], confidence=0.955737829208374, text='పాపములను', bbox=[0.0, 34.0, 148.0, 81.0]), TextLine(polygon=[[11.0, 100.0], [113.0, 94.0], [115.0, 135.0], [14.0, 139.0]], confidence=0.9307499527931213, text=' కప్పును', bbox=[11.0, 94.0, 115.0, 139.0]), TextLine(polygon=[[144.0, 102.0], [148.0, 102.0], [148.0, 114.0], [144.0, 114.0]], confidence=0.2847703993320465, text='', bbox=[144.0, 102.0, 148.0, 114.0])], languages=['te'], image_bbox=[0.0, 0.0, 149.0, 139.0])]\n",
            "\n"
          ]
        },
        {
          "output_type": "stream",
          "name": "stderr",
          "text": [
            "Detecting bboxes: 100%|██████████| 1/1 [00:09<00:00,  9.07s/it]\n",
            "Recognizing Text: 100%|██████████| 1/1 [00:18<00:00, 18.24s/it]\n"
          ]
        },
        {
          "output_type": "stream",
          "name": "stdout",
          "text": [
            "\n",
            "🖼 Image: 7_tel.png\n",
            "📜  Prediction: [OCRResult(text_lines=[TextLine(polygon=[[0.0, 0.0], [336.0, 0.0], [336.0, 34.0], [0.0, 34.0]], confidence=0.9931457042694092, text='బాధాకరంగా ఉండుటయే మంచిది,', bbox=[0.0, 0.0, 336.0, 34.0]), TextLine(polygon=[[7.0, 34.0], [333.0, 38.0], [330.0, 70.0], [4.0, 67.0]], confidence=0.9943099021911621, text='ఇతరులకు మీ భావాలతో ఆదుటకు', bbox=[4.0, 34.0, 333.0, 70.0]), TextLine(polygon=[[79.0, 72.0], [85.0, 72.0], [85.0, 75.0], [79.0, 75.0]], confidence=0.3241036832332611, text='', bbox=[79.0, 72.0, 85.0, 75.0]), TextLine(polygon=[[45.0, 73.0], [295.0, 84.0], [285.0, 111.0], [34.0, 100.0]], confidence=0.869400680065155, text=' అవకాశము ఇచుటకన్నా.', bbox=[34.0, 73.0, 295.0, 111.0])], languages=['te'], image_bbox=[0.0, 0.0, 338.0, 115.0])]\n",
            "\n"
          ]
        },
        {
          "output_type": "stream",
          "name": "stderr",
          "text": [
            "Detecting bboxes: 100%|██████████| 1/1 [00:08<00:00,  8.85s/it]\n",
            "Recognizing Text: 100%|██████████| 1/1 [00:10<00:00, 10.74s/it]\n"
          ]
        },
        {
          "output_type": "stream",
          "name": "stdout",
          "text": [
            "\n",
            "🖼 Image: 8_tel.png\n",
            "📜  Prediction: [OCRResult(text_lines=[TextLine(polygon=[[67.0, 10.0], [238.0, 10.0], [239.0, 27.0], [67.0, 28.0]], confidence=0.8441117405891418, text='తులం బంగారం ...', bbox=[67.0, 10.0, 239.0, 28.0]), TextLine(polygon=[[0.0, 52.0], [296.0, 46.0], [302.0, 74.0], [3.0, 79.0]], confidence=0.9485439658164978, text='అక్యాచెల్లెక్కసు దూరం చేస్తుంది.', bbox=[0.0, 46.0, 302.0, 79.0])], languages=['te'], image_bbox=[0.0, 0.0, 325.0, 90.0])]\n",
            "\n"
          ]
        },
        {
          "output_type": "stream",
          "name": "stderr",
          "text": [
            "Detecting bboxes: 100%|██████████| 1/1 [00:08<00:00,  8.06s/it]\n",
            "Recognizing Text: 100%|██████████| 1/1 [00:23<00:00, 23.47s/it]"
          ]
        },
        {
          "output_type": "stream",
          "name": "stdout",
          "text": [
            "\n",
            "🖼 Image: 9_tel.png\n",
            "📜  Prediction: [OCRResult(text_lines=[TextLine(polygon=[[0.0, 3.0], [218.0, 3.0], [218.0, 41.0], [0.0, 41.0]], confidence=0.8161232471466064, text='్\\u200cసికు సహాయం చేసిన వెలని', bbox=[0.0, 3.0, 218.0, 41.0]), TextLine(polygon=[[111.0, 40.0], [244.0, 42.0], [243.0, 67.0], [110.0, 65.0]], confidence=0.7099007368087769, text='మరంచి పోవద్దు..', bbox=[110.0, 40.0, 244.0, 67.0]), TextLine(polygon=[[0.0, 67.0], [190.0, 62.0], [192.0, 86.0], [0.0, 91.0]], confidence=0.853183925151825, text=' నిన్ను ప్రేమించన వొలని', bbox=[0.0, 62.0, 192.0, 91.0]), TextLine(polygon=[[121.0, 90.0], [236.0, 92.0], [235.0, 118.0], [120.0, 116.0]], confidence=0.7518873810768127, text='ద్వేషించవద్దు...', bbox=[120.0, 90.0, 236.0, 118.0]), TextLine(polygon=[[1.0, 110.0], [272.0, 127.0], [264.0, 168.0], [0.0, 153.0]], confidence=0.8142561912536621, text=' ఐన్ను నబ్గిన వొలని వెంగుం చేయవద్దు..’’', bbox=[0.0, 110.0, 272.0, 168.0])], languages=['te'], image_bbox=[0.0, 0.0, 282.0, 168.0])]\n",
            "\n"
          ]
        },
        {
          "output_type": "stream",
          "name": "stderr",
          "text": [
            "\n"
          ]
        }
      ]
    },
    {
      "cell_type": "code",
      "source": [
        "print(\"\\nOCR Results:\\n\")\n",
        "for result in ocr_results:\n",
        "    print(f\"Image: {result['image']}\\nText: {result['text']}\\n{'-'*50}\")\n"
      ],
      "metadata": {
        "colab": {
          "base_uri": "https://localhost:8080/"
        },
        "id": "qzCtScsDGgOh",
        "outputId": "d664f5af-b47b-4ae5-e975-c32ab4ad5063"
      },
      "execution_count": 25,
      "outputs": [
        {
          "output_type": "stream",
          "name": "stdout",
          "text": [
            "\n",
            "OCR Results:\n",
            "\n",
            "Image: 10_tel.png\n",
            "Text: ష్ట్రంరో గాంవ్ కా ఘతార్ భాయి చేగా ఆవో రే\n",
            " ష్ణూర్ గాంవ్ కా సుతార్ భాయి జర్దీ ఆవో రే\n",
            "్రామె\n",
            "--------------------------------------------------\n",
            "Image: 11_tel.png\n",
            "Text: 1.పాపముల నుండి విడిపించును    యేసుని నామము\n",
            "నిత్య నరకాగ్నిలో నుండి రక్షించును _ క్రీస్తేసు నామము\n",
            "ి మ\n",
            "(యేసు నామము)\n",
            "--------------------------------------------------\n",
            "Image: 12_tel.png\n",
            "Text: భారత  దేశం  లాంటి  ప్రజాస్వామ్య  దేశం  లో\n",
            "వార్త పత్రికలు ముఖ్య పాత్రను పోషిస్తాయి.\n",
            "--------------------------------------------------\n",
            "Image: 13_tel.png\n",
            "Text: ఇది తెలంగాణ వేదరు,లం\n",
            "్ 18\n",
            "--------------------------------------------------\n",
            "Image: 14_tel.png\n",
            "Text: ్ర\n",
            "ని\n",
            "2\n",
            "ార్యం\n",
            "\n",
            "\n",
            "\n",
            "\n",
            "డ్\n",
            "క\n",
            "\n",
            "\n",
            "\n",
            "్ర\n",
            "--------------------------------------------------\n",
            "Image: 15_tel.png\n",
            "Text: ఈయనే\n",
            "మన\n",
            "క్ష\n",
            "రువు 8\n",
            "క్\n",
            "రార E\n",
            "ం\n",
            "క\n",
            "ను\n",
            "్రామం\n",
            "నిరువులు విశ\n",
            "--------------------------------------------------\n",
            "Image: 16_tel.png\n",
            "Text: ఉన్న   వ్యక్తి   తెలుగు   భాషాభివృద్ధికి   విశేష\n",
            "సేవలందించిన  సీపీ  బ్రౌన్   మహాశయుడు.\n",
            "ఇంతకాలం   .ఆయన     రేఖాచిల్లాన్నే     మనం\n",
            "చూస్తూ వచ్చాం.    ఇటీవల   చిత్రూరు     మనం\n",
            "చూస్తూ    వచ్చాం.    ఇటీవల    చిత్రూరు    జిల్లా\n",
            "ార్యాలు\n",
            "--------------------------------------------------\n",
            "Image: 17_tel.png\n",
            "Text: • కోవిడ్ కట్లడికి సరికొత్త యూవీ లైట్\n",
            "క\n",
            "• తెలంగాణ యువ శాస్త్రవేత్త నర్సింహాచారి ఆవిష్కరణ\n",
            "--------------------------------------------------\n",
            "Image: 18_tel.png\n",
            "Text: తెలంగాణ  యువకుడు  మండాజి  నర్చిం\n",
            "ు నుండి 10 కి. మూలాలు 20\n",
            "హాచారి  ఓ  వినూత్న  ఆవిష్కరణ  చేశారు.\n",
            "--------------------------------------------------\n",
            "Image: 19_tel.png\n",
            "Text: నిలువరిసా\n",
            "1\n",
            "జటును\n",
            "ర్లా\n",
            "మని  ఆసెలియా  కెపెన్\n",
            "2\n",
            "్ర\n",
            "పాంటింగ్\n",
            "రక్ష\n",
            "దీమా\n",
            "3\n",
            "చేశాడు.\n",
            "వ్యక్తం\n",
            "జటు\n",
            "ట\n",
            "ష\n",
            "బాగానే\n",
            "ఉందని,\n",
            "తన\n",
            "బుగకు\n",
            "అయిన\n",
            "న్\n",
            "గ\n",
            "--------------------------------------------------\n",
            "Image: 1_tel.png\n",
            "Text: నీకు కుదిరినప్పుడు కాదు,\n",
            "ఎదుటివాడికి అవసరమైనప్పుడు\n",
            "ర\n",
            "చేస్తే దాన్ని సాయం అంటారు..,\n",
            "--------------------------------------------------\n",
            "Image: 20_tel.png\n",
            "Text: కరొనతో పాటు అన్ని రకాల వైరస్ లు మరియు బ్యాక్టీరియాలను పూర్తిగా నాశనం చేసి\n",
            "అంతమొందించే   \"మన తెలుగు బిడ్డ ఆవిష్కరణ ఇంస్టాషీల్డ్\" ను గౌరవనీయులు తెలంగాణ\n",
            "రా। ష్ట ఐటి మరియు ఇండ(స్టీ శాఖల మంత్రి శ్రీ. కల్వకుంట్ల తారకరామా రావు  గారి చేతుల మీదుగా\n",
            "వారి స్వగృహంలో 23-04-2022న ఆవిష్కరించారు.\n",
            "--------------------------------------------------\n",
            "Image: 21_tel.png\n",
            "Text: హీరో మోటోకార్స్ సీఈవో నిరంజన్ నిరంజన్ గుప్తా\n",
            "్లో\n",
            "--------------------------------------------------\n",
            "Image: 22_tel.png\n",
            "Text: తెలంగాణలోని\n",
            "ప్రజీ ప్లాంట్\n",
            "కెపాసిటీ పెంపు\n",
            "--------------------------------------------------\n",
            "Image: 23_tel.png\n",
            "Text: భారత-చెరా వివాదం శాంతి\n",
            "్రామంలో\n",
            "యుత సహజీవనాని కే సదాలు\n",
            "ారాయానిక\n",
            "పెకింగ్‌లో సింహళ పధాని అభిభాష ణ:\n",
            ")\n",
            "్ చైనా ప్రధానితో సిరిపూనో చర్చలు\n",
            "ెంకింగ్, డిసెంబర్ 31 :\n",
            "--------------------------------------------------\n",
            "Image: 24_tel.png\n",
            "Text: ఈనాడు మెయిన్ ఎడిషన్ తెలంగాణాలో\n",
            "--------------------------------------------------\n",
            "Image: 25_tel.png\n",
            "Text: దస్సులు నిర్వహించాలని సూచించారు. జగిత్యా\n",
            "ల ఆర్టీఓ హన్మంతరావు మాట్లాడుతూ డైవర్లు\n",
            "శిక్షణ పొందిన తర్వాతే వాహనాలను నడపాల\n",
            "ని సూచించారు. మరింత అవగాహన కల్పించేం\n",
            "దుకు క్రమం తప్పకుండా సదస్సులు నిర్యహిం\n",
            "చాలని కోరారు. అనంతరం సమావేశానికి వచ్చి\n",
            "న ఆటో, జీపు, కారు డైవర్లకు విశ్వనాథ్ బల\n",
            "రాం, ఓరుూ ఆధ్యర్యంలో ట్రూఫిక్‌పై అవగాహన\n",
            "--------------------------------------------------\n",
            "Image: 2_tel.png\n",
            "Text: గెలిచినవాడు\n",
            "ఆసందంగా వుంటాడు\n",
            "ఓడినవాడు\n",
            "--------------------------------------------------\n",
            "Image: 3_tel.png\n",
            "Text: ప్రోసంపెం లో చేకితి అంతా తోకేత్తి అంతా తోకేస్తోనా\n",
            "ల్లి ప్రస్త్రం వెల్లాగు ప్రాచ్\n",
            "\n",
            "దాచలేదు కదా!\n",
            "--------------------------------------------------\n",
            "Image: 4_tel.png\n",
            "Text: మమ్మల్ని అతి సన్ని హితులను\n",
            "--------------------------------------------------\n",
            "Image: 5_tel.png\n",
            "Text: స్నేహం పొందటానికి మోసం చేస్తే తప్పులేదు, కానీ మోసం చేయటానికి స్నేహాన్ని కోరితే అది క్షమించరాని తప్పు.\n",
            "--------------------------------------------------\n",
            "Image: 6_tel.png\n",
            "Text: పేమ అనేక\n",
            "ు\n",
            "పాపములను\n",
            "కప్పును\n",
            "\n",
            "--------------------------------------------------\n",
            "Image: 7_tel.png\n",
            "Text: బాధాకరంగా ఉండుటయే మంచిది,\n",
            "ఇతరులకు మీ భావాలతో ఆదుటకు\n",
            "\n",
            "అవకాశము ఇచుటకన్నా.\n",
            "--------------------------------------------------\n",
            "Image: 8_tel.png\n",
            "Text: తులం బంగారం ...\n",
            "అక్యాచెల్లెక్కసు దూరం చేస్తుంది.\n",
            "--------------------------------------------------\n",
            "Image: 9_tel.png\n",
            "Text: ్‌సికు సహాయం చేసిన వెలని\n",
            "మరంచి పోవద్దు..\n",
            "నిన్ను ప్రేమించన వొలని\n",
            "ద్వేషించవద్దు...\n",
            "ఐన్ను నబ్గిన వొలని వెంగుం చేయవద్దు..’’\n",
            "--------------------------------------------------\n"
          ]
        }
      ]
    },
    {
      "cell_type": "code",
      "source": [
        "with open(output_file, \"w\", encoding=\"utf-8\") as f:\n",
        "    json.dump(ocr_results, f, indent=4, ensure_ascii=False)\n",
        "\n",
        "print(f\"OCR results saved in {output_file}\")"
      ],
      "metadata": {
        "colab": {
          "base_uri": "https://localhost:8080/"
        },
        "id": "9Wg8HyTjGgMJ",
        "outputId": "25eb315d-a8fe-4c4d-bfa7-981c09e43114"
      },
      "execution_count": 26,
      "outputs": [
        {
          "output_type": "stream",
          "name": "stdout",
          "text": [
            "OCR results saved in telugu_ocr_text_results.json\n"
          ]
        }
      ]
    },
    {
      "cell_type": "code",
      "source": [],
      "metadata": {
        "id": "FX3BS3ryGgJo"
      },
      "execution_count": null,
      "outputs": []
    }
  ]
}