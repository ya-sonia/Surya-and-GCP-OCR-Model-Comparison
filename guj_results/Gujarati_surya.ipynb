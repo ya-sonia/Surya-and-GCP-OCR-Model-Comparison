{
  "nbformat": 4,
  "nbformat_minor": 0,
  "metadata": {
    "colab": {
      "provenance": []
    },
    "kernelspec": {
      "name": "python3",
      "display_name": "Python 3"
    },
    "language_info": {
      "name": "python"
    }
  },
  "cells": [
    {
      "cell_type": "code",
      "execution_count": 1,
      "metadata": {
        "colab": {
          "base_uri": "https://localhost:8080/"
        },
        "id": "f1bKEXofLcsv",
        "outputId": "3f0c7f03-3e56-44c4-a708-6c4f2d538ad2"
      },
      "outputs": [
        {
          "output_type": "stream",
          "name": "stdout",
          "text": [
            "Python 3.11.11\n"
          ]
        }
      ],
      "source": [
        "!python --version"
      ]
    },
    {
      "cell_type": "code",
      "source": [
        "!pip install -U torch"
      ],
      "metadata": {
        "colab": {
          "base_uri": "https://localhost:8080/"
        },
        "id": "Ok98isO0LvWl",
        "outputId": "a144daf3-8435-40fc-8282-3b54d71b3990"
      },
      "execution_count": 3,
      "outputs": [
        {
          "output_type": "stream",
          "name": "stdout",
          "text": [
            "Requirement already satisfied: torch in /usr/local/lib/python3.11/dist-packages (2.6.0)\n",
            "Requirement already satisfied: filelock in /usr/local/lib/python3.11/dist-packages (from torch) (3.17.0)\n",
            "Requirement already satisfied: typing-extensions>=4.10.0 in /usr/local/lib/python3.11/dist-packages (from torch) (4.12.2)\n",
            "Requirement already satisfied: networkx in /usr/local/lib/python3.11/dist-packages (from torch) (3.4.2)\n",
            "Requirement already satisfied: jinja2 in /usr/local/lib/python3.11/dist-packages (from torch) (3.1.5)\n",
            "Requirement already satisfied: fsspec in /usr/local/lib/python3.11/dist-packages (from torch) (2024.10.0)\n",
            "Requirement already satisfied: nvidia-cuda-nvrtc-cu12==12.4.127 in /usr/local/lib/python3.11/dist-packages (from torch) (12.4.127)\n",
            "Requirement already satisfied: nvidia-cuda-runtime-cu12==12.4.127 in /usr/local/lib/python3.11/dist-packages (from torch) (12.4.127)\n",
            "Requirement already satisfied: nvidia-cuda-cupti-cu12==12.4.127 in /usr/local/lib/python3.11/dist-packages (from torch) (12.4.127)\n",
            "Requirement already satisfied: nvidia-cudnn-cu12==9.1.0.70 in /usr/local/lib/python3.11/dist-packages (from torch) (9.1.0.70)\n",
            "Requirement already satisfied: nvidia-cublas-cu12==12.4.5.8 in /usr/local/lib/python3.11/dist-packages (from torch) (12.4.5.8)\n",
            "Requirement already satisfied: nvidia-cufft-cu12==11.2.1.3 in /usr/local/lib/python3.11/dist-packages (from torch) (11.2.1.3)\n",
            "Requirement already satisfied: nvidia-curand-cu12==10.3.5.147 in /usr/local/lib/python3.11/dist-packages (from torch) (10.3.5.147)\n",
            "Requirement already satisfied: nvidia-cusolver-cu12==11.6.1.9 in /usr/local/lib/python3.11/dist-packages (from torch) (11.6.1.9)\n",
            "Requirement already satisfied: nvidia-cusparse-cu12==12.3.1.170 in /usr/local/lib/python3.11/dist-packages (from torch) (12.3.1.170)\n",
            "Requirement already satisfied: nvidia-cusparselt-cu12==0.6.2 in /usr/local/lib/python3.11/dist-packages (from torch) (0.6.2)\n",
            "Requirement already satisfied: nvidia-nccl-cu12==2.21.5 in /usr/local/lib/python3.11/dist-packages (from torch) (2.21.5)\n",
            "Requirement already satisfied: nvidia-nvtx-cu12==12.4.127 in /usr/local/lib/python3.11/dist-packages (from torch) (12.4.127)\n",
            "Requirement already satisfied: nvidia-nvjitlink-cu12==12.4.127 in /usr/local/lib/python3.11/dist-packages (from torch) (12.4.127)\n",
            "Requirement already satisfied: triton==3.2.0 in /usr/local/lib/python3.11/dist-packages (from torch) (3.2.0)\n",
            "Requirement already satisfied: sympy==1.13.1 in /usr/local/lib/python3.11/dist-packages (from torch) (1.13.1)\n",
            "Requirement already satisfied: mpmath<1.4,>=1.1.0 in /usr/local/lib/python3.11/dist-packages (from sympy==1.13.1->torch) (1.3.0)\n",
            "Requirement already satisfied: MarkupSafe>=2.0 in /usr/local/lib/python3.11/dist-packages (from jinja2->torch) (3.0.2)\n"
          ]
        }
      ]
    },
    {
      "cell_type": "code",
      "source": [
        "!pip3 install torch --upgrade torchvision torchaudio --index-url https://download.pytorch.org/whl/cu118"
      ],
      "metadata": {
        "colab": {
          "base_uri": "https://localhost:8080/"
        },
        "id": "KDwjLVkNLvTK",
        "outputId": "cb13f91c-88fc-475b-bfc4-2830f8241211"
      },
      "execution_count": 5,
      "outputs": [
        {
          "output_type": "stream",
          "name": "stdout",
          "text": [
            "Looking in indexes: https://download.pytorch.org/whl/cu118\n",
            "Requirement already satisfied: torch in /usr/local/lib/python3.11/dist-packages (2.6.0+cu118)\n",
            "Requirement already satisfied: torchvision in /usr/local/lib/python3.11/dist-packages (0.21.0+cu118)\n",
            "Requirement already satisfied: torchaudio in /usr/local/lib/python3.11/dist-packages (2.6.0+cu118)\n",
            "Requirement already satisfied: filelock in /usr/local/lib/python3.11/dist-packages (from torch) (3.17.0)\n",
            "Requirement already satisfied: typing-extensions>=4.10.0 in /usr/local/lib/python3.11/dist-packages (from torch) (4.12.2)\n",
            "Requirement already satisfied: networkx in /usr/local/lib/python3.11/dist-packages (from torch) (3.4.2)\n",
            "Requirement already satisfied: jinja2 in /usr/local/lib/python3.11/dist-packages (from torch) (3.1.5)\n",
            "Requirement already satisfied: fsspec in /usr/local/lib/python3.11/dist-packages (from torch) (2024.10.0)\n",
            "Requirement already satisfied: nvidia-cuda-nvrtc-cu11==11.8.89 in /usr/local/lib/python3.11/dist-packages (from torch) (11.8.89)\n",
            "Requirement already satisfied: nvidia-cuda-runtime-cu11==11.8.89 in /usr/local/lib/python3.11/dist-packages (from torch) (11.8.89)\n",
            "Requirement already satisfied: nvidia-cuda-cupti-cu11==11.8.87 in /usr/local/lib/python3.11/dist-packages (from torch) (11.8.87)\n",
            "Requirement already satisfied: nvidia-cudnn-cu11==9.1.0.70 in /usr/local/lib/python3.11/dist-packages (from torch) (9.1.0.70)\n",
            "Requirement already satisfied: nvidia-cublas-cu11==11.11.3.6 in /usr/local/lib/python3.11/dist-packages (from torch) (11.11.3.6)\n",
            "Requirement already satisfied: nvidia-cufft-cu11==10.9.0.58 in /usr/local/lib/python3.11/dist-packages (from torch) (10.9.0.58)\n",
            "Requirement already satisfied: nvidia-curand-cu11==10.3.0.86 in /usr/local/lib/python3.11/dist-packages (from torch) (10.3.0.86)\n",
            "Requirement already satisfied: nvidia-cusolver-cu11==11.4.1.48 in /usr/local/lib/python3.11/dist-packages (from torch) (11.4.1.48)\n",
            "Requirement already satisfied: nvidia-cusparse-cu11==11.7.5.86 in /usr/local/lib/python3.11/dist-packages (from torch) (11.7.5.86)\n",
            "Requirement already satisfied: nvidia-nccl-cu11==2.21.5 in /usr/local/lib/python3.11/dist-packages (from torch) (2.21.5)\n",
            "Requirement already satisfied: nvidia-nvtx-cu11==11.8.86 in /usr/local/lib/python3.11/dist-packages (from torch) (11.8.86)\n",
            "Requirement already satisfied: triton==3.2.0 in /usr/local/lib/python3.11/dist-packages (from torch) (3.2.0)\n",
            "Requirement already satisfied: sympy==1.13.1 in /usr/local/lib/python3.11/dist-packages (from torch) (1.13.1)\n",
            "Requirement already satisfied: mpmath<1.4,>=1.1.0 in /usr/local/lib/python3.11/dist-packages (from sympy==1.13.1->torch) (1.3.0)\n",
            "Requirement already satisfied: numpy in /usr/local/lib/python3.11/dist-packages (from torchvision) (1.26.4)\n",
            "Requirement already satisfied: pillow!=8.3.*,>=5.3.0 in /usr/local/lib/python3.11/dist-packages (from torchvision) (11.1.0)\n",
            "Requirement already satisfied: MarkupSafe>=2.0 in /usr/local/lib/python3.11/dist-packages (from jinja2->torch) (3.0.2)\n"
          ]
        }
      ]
    },
    {
      "cell_type": "markdown",
      "source": [
        "**Install Surya-ocr**"
      ],
      "metadata": {
        "id": "Xd0skdCfVcZD"
      }
    },
    {
      "cell_type": "code",
      "source": [
        "!pip install surya-ocr"
      ],
      "metadata": {
        "colab": {
          "base_uri": "https://localhost:8080/"
        },
        "id": "Wg-GW5QaLu27",
        "outputId": "12f1bde4-f174-4331-f47b-b66859f69b4e"
      },
      "execution_count": 1,
      "outputs": [
        {
          "output_type": "stream",
          "name": "stdout",
          "text": [
            "Requirement already satisfied: surya-ocr in /usr/local/lib/python3.11/dist-packages (0.12.0)\n",
            "Requirement already satisfied: click<9.0.0,>=8.1.8 in /usr/local/lib/python3.11/dist-packages (from surya-ocr) (8.1.8)\n",
            "Requirement already satisfied: filetype<2.0.0,>=1.2.0 in /usr/local/lib/python3.11/dist-packages (from surya-ocr) (1.2.0)\n",
            "Requirement already satisfied: opencv-python-headless<5.0.0.0,>=4.11.0.86 in /usr/local/lib/python3.11/dist-packages (from surya-ocr) (4.11.0.86)\n",
            "Requirement already satisfied: pillow<11.0.0,>=10.2.0 in /usr/local/lib/python3.11/dist-packages (from surya-ocr) (10.4.0)\n",
            "Requirement already satisfied: platformdirs<5.0.0,>=4.3.6 in /usr/local/lib/python3.11/dist-packages (from surya-ocr) (4.3.6)\n",
            "Requirement already satisfied: pydantic<3.0.0,>=2.5.3 in /usr/local/lib/python3.11/dist-packages (from surya-ocr) (2.10.6)\n",
            "Requirement already satisfied: pydantic-settings<3.0.0,>=2.1.0 in /usr/local/lib/python3.11/dist-packages (from surya-ocr) (2.8.0)\n",
            "Requirement already satisfied: pypdfium2==4.30.0 in /usr/local/lib/python3.11/dist-packages (from surya-ocr) (4.30.0)\n",
            "Requirement already satisfied: python-dotenv<2.0.0,>=1.0.0 in /usr/local/lib/python3.11/dist-packages (from surya-ocr) (1.0.1)\n",
            "Requirement already satisfied: torch<3.0.0,>=2.5.1 in /usr/local/lib/python3.11/dist-packages (from surya-ocr) (2.6.0+cu118)\n",
            "Requirement already satisfied: transformers<5.0.0,>=4.41.0 in /usr/local/lib/python3.11/dist-packages (from surya-ocr) (4.48.3)\n",
            "Requirement already satisfied: numpy>=1.21.2 in /usr/local/lib/python3.11/dist-packages (from opencv-python-headless<5.0.0.0,>=4.11.0.86->surya-ocr) (1.26.4)\n",
            "Requirement already satisfied: annotated-types>=0.6.0 in /usr/local/lib/python3.11/dist-packages (from pydantic<3.0.0,>=2.5.3->surya-ocr) (0.7.0)\n",
            "Requirement already satisfied: pydantic-core==2.27.2 in /usr/local/lib/python3.11/dist-packages (from pydantic<3.0.0,>=2.5.3->surya-ocr) (2.27.2)\n",
            "Requirement already satisfied: typing-extensions>=4.12.2 in /usr/local/lib/python3.11/dist-packages (from pydantic<3.0.0,>=2.5.3->surya-ocr) (4.12.2)\n",
            "Requirement already satisfied: filelock in /usr/local/lib/python3.11/dist-packages (from torch<3.0.0,>=2.5.1->surya-ocr) (3.17.0)\n",
            "Requirement already satisfied: networkx in /usr/local/lib/python3.11/dist-packages (from torch<3.0.0,>=2.5.1->surya-ocr) (3.4.2)\n",
            "Requirement already satisfied: jinja2 in /usr/local/lib/python3.11/dist-packages (from torch<3.0.0,>=2.5.1->surya-ocr) (3.1.5)\n",
            "Requirement already satisfied: fsspec in /usr/local/lib/python3.11/dist-packages (from torch<3.0.0,>=2.5.1->surya-ocr) (2024.10.0)\n",
            "Requirement already satisfied: nvidia-cuda-nvrtc-cu11==11.8.89 in /usr/local/lib/python3.11/dist-packages (from torch<3.0.0,>=2.5.1->surya-ocr) (11.8.89)\n",
            "Requirement already satisfied: nvidia-cuda-runtime-cu11==11.8.89 in /usr/local/lib/python3.11/dist-packages (from torch<3.0.0,>=2.5.1->surya-ocr) (11.8.89)\n",
            "Requirement already satisfied: nvidia-cuda-cupti-cu11==11.8.87 in /usr/local/lib/python3.11/dist-packages (from torch<3.0.0,>=2.5.1->surya-ocr) (11.8.87)\n",
            "Requirement already satisfied: nvidia-cudnn-cu11==9.1.0.70 in /usr/local/lib/python3.11/dist-packages (from torch<3.0.0,>=2.5.1->surya-ocr) (9.1.0.70)\n",
            "Requirement already satisfied: nvidia-cublas-cu11==11.11.3.6 in /usr/local/lib/python3.11/dist-packages (from torch<3.0.0,>=2.5.1->surya-ocr) (11.11.3.6)\n",
            "Requirement already satisfied: nvidia-cufft-cu11==10.9.0.58 in /usr/local/lib/python3.11/dist-packages (from torch<3.0.0,>=2.5.1->surya-ocr) (10.9.0.58)\n",
            "Requirement already satisfied: nvidia-curand-cu11==10.3.0.86 in /usr/local/lib/python3.11/dist-packages (from torch<3.0.0,>=2.5.1->surya-ocr) (10.3.0.86)\n",
            "Requirement already satisfied: nvidia-cusolver-cu11==11.4.1.48 in /usr/local/lib/python3.11/dist-packages (from torch<3.0.0,>=2.5.1->surya-ocr) (11.4.1.48)\n",
            "Requirement already satisfied: nvidia-cusparse-cu11==11.7.5.86 in /usr/local/lib/python3.11/dist-packages (from torch<3.0.0,>=2.5.1->surya-ocr) (11.7.5.86)\n",
            "Requirement already satisfied: nvidia-nccl-cu11==2.21.5 in /usr/local/lib/python3.11/dist-packages (from torch<3.0.0,>=2.5.1->surya-ocr) (2.21.5)\n",
            "Requirement already satisfied: nvidia-nvtx-cu11==11.8.86 in /usr/local/lib/python3.11/dist-packages (from torch<3.0.0,>=2.5.1->surya-ocr) (11.8.86)\n",
            "Requirement already satisfied: triton==3.2.0 in /usr/local/lib/python3.11/dist-packages (from torch<3.0.0,>=2.5.1->surya-ocr) (3.2.0)\n",
            "Requirement already satisfied: sympy==1.13.1 in /usr/local/lib/python3.11/dist-packages (from torch<3.0.0,>=2.5.1->surya-ocr) (1.13.1)\n",
            "Requirement already satisfied: mpmath<1.4,>=1.1.0 in /usr/local/lib/python3.11/dist-packages (from sympy==1.13.1->torch<3.0.0,>=2.5.1->surya-ocr) (1.3.0)\n",
            "Requirement already satisfied: huggingface-hub<1.0,>=0.24.0 in /usr/local/lib/python3.11/dist-packages (from transformers<5.0.0,>=4.41.0->surya-ocr) (0.28.1)\n",
            "Requirement already satisfied: packaging>=20.0 in /usr/local/lib/python3.11/dist-packages (from transformers<5.0.0,>=4.41.0->surya-ocr) (24.2)\n",
            "Requirement already satisfied: pyyaml>=5.1 in /usr/local/lib/python3.11/dist-packages (from transformers<5.0.0,>=4.41.0->surya-ocr) (6.0.2)\n",
            "Requirement already satisfied: regex!=2019.12.17 in /usr/local/lib/python3.11/dist-packages (from transformers<5.0.0,>=4.41.0->surya-ocr) (2024.11.6)\n",
            "Requirement already satisfied: requests in /usr/local/lib/python3.11/dist-packages (from transformers<5.0.0,>=4.41.0->surya-ocr) (2.32.3)\n",
            "Requirement already satisfied: tokenizers<0.22,>=0.21 in /usr/local/lib/python3.11/dist-packages (from transformers<5.0.0,>=4.41.0->surya-ocr) (0.21.0)\n",
            "Requirement already satisfied: safetensors>=0.4.1 in /usr/local/lib/python3.11/dist-packages (from transformers<5.0.0,>=4.41.0->surya-ocr) (0.5.2)\n",
            "Requirement already satisfied: tqdm>=4.27 in /usr/local/lib/python3.11/dist-packages (from transformers<5.0.0,>=4.41.0->surya-ocr) (4.67.1)\n",
            "Requirement already satisfied: MarkupSafe>=2.0 in /usr/local/lib/python3.11/dist-packages (from jinja2->torch<3.0.0,>=2.5.1->surya-ocr) (3.0.2)\n",
            "Requirement already satisfied: charset-normalizer<4,>=2 in /usr/local/lib/python3.11/dist-packages (from requests->transformers<5.0.0,>=4.41.0->surya-ocr) (3.4.1)\n",
            "Requirement already satisfied: idna<4,>=2.5 in /usr/local/lib/python3.11/dist-packages (from requests->transformers<5.0.0,>=4.41.0->surya-ocr) (3.10)\n",
            "Requirement already satisfied: urllib3<3,>=1.21.1 in /usr/local/lib/python3.11/dist-packages (from requests->transformers<5.0.0,>=4.41.0->surya-ocr) (2.3.0)\n",
            "Requirement already satisfied: certifi>=2017.4.17 in /usr/local/lib/python3.11/dist-packages (from requests->transformers<5.0.0,>=4.41.0->surya-ocr) (2025.1.31)\n"
          ]
        }
      ]
    },
    {
      "cell_type": "markdown",
      "source": [
        "**Import Libraries**"
      ],
      "metadata": {
        "id": "jQYOLon0ViHJ"
      }
    },
    {
      "cell_type": "code",
      "source": [
        "from surya.recognition import RecognitionPredictor\n",
        "from surya.detection import DetectionPredictor\n",
        "import os\n",
        "import json"
      ],
      "metadata": {
        "id": "mifosqKgLuzY"
      },
      "execution_count": 2,
      "outputs": []
    },
    {
      "cell_type": "code",
      "source": [
        "recognition_predictor = RecognitionPredictor()\n",
        "detection_predictor = DetectionPredictor()"
      ],
      "metadata": {
        "colab": {
          "base_uri": "https://localhost:8080/"
        },
        "id": "rEXnCCNOLuwe",
        "outputId": "83fffe09-f735-41c0-d4f4-cf8ebbc729b0"
      },
      "execution_count": 3,
      "outputs": [
        {
          "output_type": "stream",
          "name": "stderr",
          "text": [
            "Downloading text_recognition model...: 100%|██████████| 9/9 [00:14<00:00,  1.62s/it]\n"
          ]
        },
        {
          "output_type": "stream",
          "name": "stdout",
          "text": [
            "Loaded recognition model s3://text_recognition/2025_02_18 on device cpu with dtype torch.float32\n"
          ]
        },
        {
          "output_type": "stream",
          "name": "stderr",
          "text": [
            "Downloading text_detection model...: 100%|██████████| 6/6 [00:00<00:00,  7.11it/s]"
          ]
        },
        {
          "output_type": "stream",
          "name": "stdout",
          "text": [
            "Loaded detection model s3://text_detection/2025_02_18 on device cpu with dtype torch.float32\n"
          ]
        },
        {
          "output_type": "stream",
          "name": "stderr",
          "text": [
            "\n"
          ]
        }
      ]
    },
    {
      "cell_type": "code",
      "source": [
        "from google.colab import drive\n",
        "drive.mount('/content/drive')"
      ],
      "metadata": {
        "colab": {
          "base_uri": "https://localhost:8080/"
        },
        "id": "zXqYudeDLut3",
        "outputId": "98defe56-694c-44d5-92e2-ea0f607476dd"
      },
      "execution_count": 4,
      "outputs": [
        {
          "output_type": "stream",
          "name": "stdout",
          "text": [
            "Mounted at /content/drive\n"
          ]
        }
      ]
    },
    {
      "cell_type": "markdown",
      "source": [
        "**Upload images folder of Gujarati text images**"
      ],
      "metadata": {
        "id": "FTNMDNZ5VoIk"
      }
    },
    {
      "cell_type": "code",
      "source": [
        "image_folder = \"/content/drive/MyDrive/gujrati\"\n",
        "output_file = \"gujarati_ocr_text_results.json\""
      ],
      "metadata": {
        "id": "Wg6lI5-DLurW"
      },
      "execution_count": 5,
      "outputs": []
    },
    {
      "cell_type": "code",
      "source": [
        "ocr_results = []"
      ],
      "metadata": {
        "id": "jAMoUrl0MrEO"
      },
      "execution_count": 6,
      "outputs": []
    },
    {
      "cell_type": "code",
      "source": [
        "for image_name in sorted(os.listdir(image_folder)):\n",
        "    if image_name.endswith(('.png', '.jpg', '.jpeg')):\n",
        "        image_path = os.path.join(image_folder, image_name)\n",
        "\n",
        "\n",
        "\n",
        "\n",
        "        from PIL import Image\n",
        "        image = Image.open(image_path).convert(\"RGB\")\n",
        "        predictions = recognition_predictor([image], [[\"gu\"]], detection_predictor)\n",
        "\n",
        "\n",
        "\n",
        "        print(f\"\\n🖼 Image: {image_name}\")\n",
        "        print(f\"📜  Prediction: {predictions}\\n\")\n",
        "\n",
        "\n",
        "\n",
        "        extracted_text = \"\\n\".join([line.text.strip() for line in predictions[0].text_lines])\n",
        "\n",
        "\n",
        "\n",
        "\n",
        "        ocr_results.append({\"image\": image_name, \"text\": extracted_text})"
      ],
      "metadata": {
        "colab": {
          "base_uri": "https://localhost:8080/"
        },
        "id": "vA_xs92VN8kY",
        "outputId": "5ea06c6b-1050-47c8-a1de-bf01f60ded03"
      },
      "execution_count": 7,
      "outputs": [
        {
          "output_type": "stream",
          "name": "stderr",
          "text": [
            "Detecting bboxes: 100%|██████████| 1/1 [00:18<00:00, 18.84s/it]\n",
            "Recognizing Text: 100%|██████████| 1/1 [00:41<00:00, 41.53s/it]\n"
          ]
        },
        {
          "output_type": "stream",
          "name": "stdout",
          "text": [
            "\n",
            "🖼 Image: 10_guj.png\n",
            "📜  Prediction: [OCRResult(text_lines=[TextLine(polygon=[[0.0, 0.0], [249.0, 0.0], [249.0, 32.0], [0.0, 31.0]], confidence=0.4467473328113556, text=' એસઈસીએ કોની કોની', bbox=[0.0, 0.0, 249.0, 32.0]), TextLine(polygon=[[39.0, 36.0], [214.0, 35.0], [214.0, 66.0], [39.0, 67.0]], confidence=0.5057348608970642, text='સામે કેસ કર્યો ?', bbox=[39.0, 35.0, 214.0, 67.0]), TextLine(polygon=[[0.0, 70.0], [249.0, 69.0], [249.0, 94.0], [0.0, 95.0]], confidence=0.6437823176383972, text='૧. ગૌતમ અદાણી| ૫. સિરિલ કેબનેસ', bbox=[0.0, 69.0, 249.0, 95.0]), TextLine(polygon=[[0.0, 98.0], [249.0, 98.0], [249.0, 120.0], [0.0, 120.0]], confidence=0.7812180519104004, text='ર. સાગર અદાણી | ૬. સૌરભ અગ્રવાલ', bbox=[0.0, 98.0, 249.0, 120.0]), TextLine(polygon=[[0.0, 123.0], [250.0, 125.0], [249.0, 151.0], [0.0, 149.0]], confidence=0.9733709692955017, text='૩. વિનીત જૈન                                                                                                                                                                 ', bbox=[0.0, 123.0, 250.0, 151.0]), TextLine(polygon=[[0.0, 148.0], [249.0, 148.0], [249.0, 171.0], [0.0, 171.0]], confidence=0.6576921343803406, text='૪. રણજીત ગુપ્તા   ૮. દીપક મલહોત્ર', bbox=[0.0, 148.0, 249.0, 171.0])], languages=['gu'], image_bbox=[0.0, 0.0, 250.0, 172.0])]\n",
            "\n"
          ]
        },
        {
          "output_type": "stream",
          "name": "stderr",
          "text": [
            "Detecting bboxes: 100%|██████████| 1/1 [00:10<00:00, 10.63s/it]\n",
            "Recognizing Text: 100%|██████████| 1/1 [00:07<00:00,  7.06s/it]\n"
          ]
        },
        {
          "output_type": "stream",
          "name": "stdout",
          "text": [
            "\n",
            "🖼 Image: 11_guj.png\n",
            "📜  Prediction: [OCRResult(text_lines=[TextLine(polygon=[[0.0, 1.0], [288.0, 1.0], [289.0, 27.0], [0.0, 27.0]], confidence=0.9968481063842773, text='ગુજરાત બજેટની વાંચો મહત્વની જાહેરાત ', bbox=[0.0, 1.0, 289.0, 27.0])], languages=['gu'], image_bbox=[0.0, 0.0, 310.0, 33.0])]\n",
            "\n"
          ]
        },
        {
          "output_type": "stream",
          "name": "stderr",
          "text": [
            "Detecting bboxes: 100%|██████████| 1/1 [00:11<00:00, 11.03s/it]\n",
            "Recognizing Text: 100%|██████████| 1/1 [00:19<00:00, 19.01s/it]\n"
          ]
        },
        {
          "output_type": "stream",
          "name": "stdout",
          "text": [
            "\n",
            "🖼 Image: 12_guj.png\n",
            "📜  Prediction: [OCRResult(text_lines=[TextLine(polygon=[[0.0, 0.0], [270.0, 0.0], [271.0, 50.0], [0.0, 50.0]], confidence=0.9533427357673645, text='ટ્રમ્પ તંત્ર તેમના ટ્રેડિંગ પાર્ટનર સાથે\\nતેઓ લાદે છે તેટલો જ ટેક્સ લાદવા માટે', bbox=[0.0, 0.0, 271.0, 50.0]), TextLine(polygon=[[0.0, 53.0], [270.0, 53.0], [270.0, 106.0], [0.0, 106.0]], confidence=0.9734525084495544, text='દિવસ  રાત  કવાયત  કરી  રહ્યું  છે.    ટ્રુમ્પે\\nજણાવ્યું હતું કે દ્વિપક્ષીય મંત્રણામાં પીએમ', bbox=[0.0, 53.0, 270.0, 106.0]), TextLine(polygon=[[0.0, 105.0], [270.0, 105.0], [270.0, 132.0], [0.0, 132.0]], confidence=0.6853002309799194, text='મોદીને જણાવ્યું હતું કે અમે શું કરવાના', bbox=[0.0, 105.0, 270.0, 132.0])], languages=['gu'], image_bbox=[0.0, 0.0, 271.0, 133.0])]\n",
            "\n"
          ]
        },
        {
          "output_type": "stream",
          "name": "stderr",
          "text": [
            "Detecting bboxes: 100%|██████████| 1/1 [00:11<00:00, 11.19s/it]\n",
            "Recognizing Text: 100%|██████████| 1/1 [00:11<00:00, 11.76s/it]\n"
          ]
        },
        {
          "output_type": "stream",
          "name": "stdout",
          "text": [
            "\n",
            "🖼 Image: 13_guj.png\n",
            "📜  Prediction: [OCRResult(text_lines=[TextLine(polygon=[[0.0, 4.0], [532.0, 4.0], [532.0, 31.0], [0.0, 31.0]], confidence=0.9696524739265442, text='રાજકારણી કાશ પટેલ: મોટેલ વિનાનો અમેરિકન પટેલ: સેનેટ ', bbox=[0.0, 4.0, 532.0, 31.0]), TextLine(polygon=[[0.0, 43.0], [552.0, 43.0], [552.0, 74.0], [0.0, 73.0]], confidence=0.9959143400192261, text='હિયરિંગમાં જય શ્રી કૃષ્ણ કહીને માતા-પિતાને પગે લાગ્યા હતા ', bbox=[0.0, 43.0, 552.0, 74.0])], languages=['gu'], image_bbox=[0.0, 0.0, 553.0, 106.0])]\n",
            "\n"
          ]
        },
        {
          "output_type": "stream",
          "name": "stderr",
          "text": [
            "Detecting bboxes: 100%|██████████| 1/1 [00:10<00:00, 10.07s/it]\n",
            "Recognizing Text: 100%|██████████| 1/1 [00:17<00:00, 17.46s/it]\n"
          ]
        },
        {
          "output_type": "stream",
          "name": "stdout",
          "text": [
            "\n",
            "🖼 Image: 14_guj.png\n",
            "📜  Prediction: [OCRResult(text_lines=[TextLine(polygon=[[0.0, 0.0], [526.0, 0.0], [526.0, 26.0], [0.0, 26.0]], confidence=0.9988694190979004, text=\"વડાપ્રધાનની 'સિલેક્ટેડ' મુલાકાત: સ્ટેજ પર એકનાથ શિંદેને\", bbox=[0.0, 0.0, 526.0, 26.0]), TextLine(polygon=[[0.0, 35.0], [499.0, 36.0], [498.0, 61.0], [0.0, 61.0]], confidence=0.9708951115608215, text='ટકોર કરી, પવન કલ્યાણ સાથે હસતાં જોવા મળ્યા જ્યારે', bbox=[0.0, 35.0, 499.0, 61.0]), TextLine(polygon=[[0.0, 72.0], [236.0, 72.0], [236.0, 101.0], [0.0, 101.0]], confidence=0.7453864216804504, text='નાયડ્ડને કાન ધરી સાંભળ્યા ', bbox=[0.0, 72.0, 236.0, 101.0])], languages=['gu'], image_bbox=[0.0, 0.0, 527.0, 122.0])]\n",
            "\n"
          ]
        },
        {
          "output_type": "stream",
          "name": "stderr",
          "text": [
            "Detecting bboxes: 100%|██████████| 1/1 [00:10<00:00, 10.11s/it]\n",
            "Recognizing Text: 100%|██████████| 1/1 [00:08<00:00,  8.70s/it]\n"
          ]
        },
        {
          "output_type": "stream",
          "name": "stdout",
          "text": [
            "\n",
            "🖼 Image: 15_guj.png\n",
            "📜  Prediction: [OCRResult(text_lines=[TextLine(polygon=[[0.0, 0.0], [477.0, 0.0], [477.0, 60.0], [0.0, 60.0]], confidence=0.9666702151298523, text='ટ્રૂમ્પે  ૨૦૧૮૮માં  ભારતમાંથી  સ્ટીલ  પર   ૨૫  અને\\nએલ્યુમિનિયમની આયાત પર ૧૦ ટકા ટેરિફ નાખ્યો હતો', bbox=[0.0, 0.0, 477.0, 60.0])], languages=['gu'], image_bbox=[0.0, 0.0, 478.0, 61.0])]\n",
            "\n"
          ]
        },
        {
          "output_type": "stream",
          "name": "stderr",
          "text": [
            "Detecting bboxes: 100%|██████████| 1/1 [00:10<00:00, 10.74s/it]\n",
            "Recognizing Text: 100%|██████████| 1/1 [00:17<00:00, 17.52s/it]\n"
          ]
        },
        {
          "output_type": "stream",
          "name": "stdout",
          "text": [
            "\n",
            "🖼 Image: 16_guj.png\n",
            "📜  Prediction: [OCRResult(text_lines=[TextLine(polygon=[[0.0, 14.0], [703.0, 8.0], [710.0, 43.0], [1.0, 50.0]], confidence=0.9587424993515015, text='ઇવનિંગ ન્યૂઝ બુલેટિન મોત પહેલાંની એ અંતિમ ભાવુક વાત: વીડિયો', bbox=[0.0, 8.0, 710.0, 50.0]), TextLine(polygon=[[0.0, 59.0], [736.0, 55.0], [740.0, 91.0], [1.0, 95.0]], confidence=0.9940879940986633, text='બનાવી યુવક ડેમમાં ફૂદ્યો, ગોંડલમાં તોતિંગ બિંબ વચ્ચે ફસાઈ જિંદગી,  ', bbox=[0.0, 55.0, 740.0, 95.0]), TextLine(polygon=[[0.0, 102.0], [402.0, 103.0], [401.0, 134.0], [0.0, 133.0]], confidence=0.7308664321899414, text='બજેટમાં મહિલાઓ માટે નવી યોજના ', bbox=[0.0, 102.0, 402.0, 134.0])], languages=['gu'], image_bbox=[0.0, 0.0, 740.0, 147.0])]\n",
            "\n"
          ]
        },
        {
          "output_type": "stream",
          "name": "stderr",
          "text": [
            "Detecting bboxes: 100%|██████████| 1/1 [00:11<00:00, 11.15s/it]\n",
            "Recognizing Text: 100%|██████████| 1/1 [00:19<00:00, 19.52s/it]\n"
          ]
        },
        {
          "output_type": "stream",
          "name": "stdout",
          "text": [
            "\n",
            "🖼 Image: 17_guj.png\n",
            "📜  Prediction: [OCRResult(text_lines=[TextLine(polygon=[[0.0, 7.0], [1247.0, 10.0], [1245.0, 81.0], [0.0, 78.0]], confidence=0.9834495782852173, text='જામકંડોરણા નજીક બાલાપર ગામે વાડી વિસ્તારમાં ', bbox=[0.0, 7.0, 1247.0, 81.0]), TextLine(polygon=[[0.0, 85.0], [1247.0, 87.0], [1245.0, 202.0], [0.0, 200.0]], confidence=0.937907874584198, text='મોબાઈલ ફોનમાં વીડિયો જોવા બાબતે ', bbox=[0.0, 85.0, 1247.0, 202.0]), TextLine(polygon=[[0.0, 252.0], [1236.0, 223.0], [1247.0, 349.0], [16.0, 359.0]], confidence=0.9611546397209167, text='માથાકૂટ થતા રાજસ્થાનના યુવકની હત્યા ', bbox=[0.0, 223.0, 1247.0, 359.0])], languages=['gu'], image_bbox=[0.0, 0.0, 1247.0, 359.0])]\n",
            "\n"
          ]
        },
        {
          "output_type": "stream",
          "name": "stderr",
          "text": [
            "Detecting bboxes: 100%|██████████| 1/1 [00:11<00:00, 11.05s/it]\n",
            "Recognizing Text: 100%|██████████| 1/1 [00:49<00:00, 49.11s/it]\n"
          ]
        },
        {
          "output_type": "stream",
          "name": "stdout",
          "text": [
            "\n",
            "🖼 Image: 18_guj.png\n",
            "📜  Prediction: [OCRResult(text_lines=[TextLine(polygon=[[6.0, 1.0], [67.0, 0.0], [69.0, 14.0], [8.0, 15.0]], confidence=0.6613287925720215, text='૧. નિયમન', bbox=[6.0, 0.0, 69.0, 15.0]), TextLine(polygon=[[208.0, 0.0], [417.0, 2.0], [414.0, 16.0], [205.0, 13.0]], confidence=0.9324914813041687, text='ગણોતધારાની કલમ— 53 તથા નિયમ— 3.5', bbox=[205.0, 0.0, 417.0, 16.0]), TextLine(polygon=[[209.0, 33.0], [368.0, 36.0], [365.0, 50.0], [206.0, 47.0]], confidence=0.9792734384536743, text='જિલ્લા કલેકટરશ્રી (નમુના મુજબ)', bbox=[206.0, 33.0, 368.0, 50.0]), TextLine(polygon=[[5.0, 35.0], [110.0, 34.0], [111.0, 48.0], [6.0, 48.0]], confidence=0.8627253770828247, text='ર. અરજી કોને કરવી', bbox=[5.0, 34.0, 111.0, 48.0]), TextLine(polygon=[[9.0, 68.0], [114.0, 69.0], [112.0, 83.0], [7.0, 82.0]], confidence=0.8381726145744324, text='૩. અરજી કોણે કરવી', bbox=[7.0, 68.0, 114.0, 83.0]), TextLine(polygon=[[205.0, 70.0], [308.0, 68.0], [310.0, 82.0], [206.0, 83.0]], confidence=0.839482307434082, text='જમીન વેચાણ કરનારે', bbox=[205.0, 68.0, 310.0, 83.0]), TextLine(polygon=[[8.0, 103.0], [159.0, 103.0], [159.0, 117.0], [8.0, 117.0]], confidence=0.976069450378418, text='૪. નિકાલ માટેના સત્તાધિકારી', bbox=[8.0, 103.0, 159.0, 117.0]), TextLine(polygon=[[204.0, 103.0], [294.0, 103.0], [294.0, 117.0], [204.0, 117.0]], confidence=0.8103832602500916, text='જિલ્લા કલેકટરમ્રી', bbox=[204.0, 103.0, 294.0, 117.0]), TextLine(polygon=[[165.0, 104.0], [184.0, 104.0], [184.0, 116.0], [165.0, 116.0]], confidence=0.3260859549045563, text='::', bbox=[165.0, 104.0, 184.0, 116.0])], languages=['gu'], image_bbox=[0.0, 0.0, 458.0, 128.0])]\n",
            "\n"
          ]
        },
        {
          "output_type": "stream",
          "name": "stderr",
          "text": [
            "Detecting bboxes: 100%|██████████| 1/1 [00:10<00:00, 10.23s/it]\n",
            "Recognizing Text: 100%|██████████| 1/1 [00:28<00:00, 28.59s/it]\n"
          ]
        },
        {
          "output_type": "stream",
          "name": "stdout",
          "text": [
            "\n",
            "🖼 Image: 19_guj.jpg\n",
            "📜  Prediction: [OCRResult(text_lines=[TextLine(polygon=[[19.0, 3.0], [461.0, 2.0], [461.0, 25.0], [20.0, 26.0]], confidence=0.996018648147583, text='અંગ્રેજી કેમ લખાય છે ? કારણ કે શ્રુતિ ફોન્ટ યુનિકોડ ફોન્ટ ', bbox=[19.0, 2.0, 461.0, 26.0]), TextLine(polygon=[[20.0, 31.0], [457.0, 32.0], [457.0, 54.0], [19.0, 54.0]], confidence=0.9911505579948425, text='છે જેનામાં અંગ્રેજી અને ગુજરાતી બેઉં ભાશાના અક્ષરો છે.', bbox=[19.0, 31.0, 457.0, 54.0]), TextLine(polygon=[[19.0, 61.0], [461.0, 61.0], [461.0, 82.0], [19.0, 82.0]], confidence=0.938868522644043, text='એટલે વીન્ડોઝ કે લીનક્ષમાં ગુજરાતી લખવું હોય તો', bbox=[19.0, 61.0, 461.0, 82.0]), TextLine(polygon=[[20.0, 89.0], [461.0, 89.0], [461.0, 110.0], [20.0, 110.0]], confidence=0.9156009554862976, text='લેન્ગવેજ બારમાં ભાશા બદલવી પડે તો જ ગુજરાતી', bbox=[20.0, 89.0, 461.0, 110.0]), TextLine(polygon=[[21.0, 115.0], [461.0, 116.0], [461.0, 138.0], [20.0, 137.0]], confidence=0.9768436551094055, text='લખાય. આ વેબ પેજમાં યુનિકોડ ફ્રોન્ટ શું છે અને તે વતી ', bbox=[20.0, 115.0, 461.0, 138.0])], languages=['gu'], image_bbox=[0.0, 0.0, 462.0, 145.0])]\n",
            "\n"
          ]
        },
        {
          "output_type": "stream",
          "name": "stderr",
          "text": [
            "Detecting bboxes: 100%|██████████| 1/1 [00:11<00:00, 11.36s/it]\n",
            "Recognizing Text: 100%|██████████| 1/1 [00:23<00:00, 23.32s/it]\n"
          ]
        },
        {
          "output_type": "stream",
          "name": "stdout",
          "text": [
            "\n",
            "🖼 Image: 1_guj.png\n",
            "📜  Prediction: [OCRResult(text_lines=[TextLine(polygon=[[0.0, 0.0], [780.0, 14.0], [774.0, 134.0], [0.0, 120.0]], confidence=0.8793193697929382, text='હેર જ                                                                                                                                                                        ', bbox=[0.0, 0.0, 780.0, 134.0]), TextLine(polygon=[[157.0, 134.0], [624.0, 134.0], [624.0, 190.0], [157.0, 190.0]], confidence=0.4869900345802307, text='શોરૂમનું કામકાજ બંધ રહેશે.', bbox=[157.0, 134.0, 624.0, 190.0]), TextLine(polygon=[[0.0, 202.0], [780.0, 206.0], [778.0, 255.0], [0.0, 250.0]], confidence=0.618074893951416, text='તા.૧૬ મંગળવાર થી રાબેતા મુજબ કામકાજ ચાલુ રહેશે.', bbox=[0.0, 202.0, 780.0, 255.0])], languages=['gu'], image_bbox=[0.0, 0.0, 780.0, 262.0])]\n",
            "\n"
          ]
        },
        {
          "output_type": "stream",
          "name": "stderr",
          "text": [
            "Detecting bboxes: 100%|██████████| 1/1 [00:10<00:00, 10.59s/it]\n",
            "Recognizing Text: 100%|██████████| 1/1 [00:31<00:00, 31.89s/it]\n"
          ]
        },
        {
          "output_type": "stream",
          "name": "stdout",
          "text": [
            "\n",
            "🖼 Image: 20_guj.jpg\n",
            "📜  Prediction: [OCRResult(text_lines=[TextLine(polygon=[[2.0, 0.0], [331.0, 3.0], [330.0, 46.0], [0.0, 37.0]], confidence=0.982227623462677, text='માં કંપાઝીટરોને નડતી મુ', bbox=[0.0, 0.0, 331.0, 46.0]), TextLine(polygon=[[4.0, 38.0], [325.0, 56.0], [322.0, 98.0], [0.0, 80.0]], confidence=0.9102907180786133, text='રેકલીઓનો અંગત અનુભ', bbox=[0.0, 38.0, 325.0, 98.0]), TextLine(polygon=[[0.0, 87.0], [324.0, 87.0], [324.0, 127.0], [0.0, 127.0]], confidence=0.9942966103553772, text='વ તેમને હતો અને તેથી તે', bbox=[0.0, 87.0, 324.0, 127.0]), TextLine(polygon=[[4.0, 131.0], [323.0, 132.0], [323.0, 172.0], [3.0, 171.0]], confidence=0.9432197213172913, text='ઓ છાપાકળાને ઉચ્ચી સ્વિ', bbox=[3.0, 131.0, 323.0, 172.0]), TextLine(polygon=[[3.0, 178.0], [323.0, 179.0], [323.0, 217.0], [3.0, 216.0]], confidence=0.9477685689926147, text='તિમાં લઇ જવાને મવત્ત થ', bbox=[3.0, 178.0, 323.0, 217.0]), TextLine(polygon=[[2.0, 232.0], [323.0, 221.0], [325.0, 267.0], [4.0, 278.0]], confidence=0.9607768654823303, text='યા હતા. “ગુજરાતી” છાપા', bbox=[2.0, 221.0, 325.0, 278.0])], languages=['gu'], image_bbox=[0.0, 0.0, 340.0, 280.0])]\n",
            "\n"
          ]
        },
        {
          "output_type": "stream",
          "name": "stderr",
          "text": [
            "Detecting bboxes: 100%|██████████| 1/1 [00:10<00:00, 10.53s/it]\n",
            "Recognizing Text: 100%|██████████| 1/1 [00:06<00:00,  6.42s/it]\n"
          ]
        },
        {
          "output_type": "stream",
          "name": "stdout",
          "text": [
            "\n",
            "🖼 Image: 21_guj.jpg\n",
            "📜  Prediction: [OCRResult(text_lines=[TextLine(polygon=[[0.0, 0.0], [427.0, 0.0], [427.0, 160.0], [0.0, 160.0]], confidence=0.9680560827255249, text='પ્રેમ કાંઈ થોડો વ્યવહાર છે\\nકે તું કરે,\\nતો જ', bbox=[0.0, 0.0, 427.0, 160.0])], languages=['gu'], image_bbox=[0.0, 0.0, 428.0, 165.0])]\n",
            "\n"
          ]
        },
        {
          "output_type": "stream",
          "name": "stderr",
          "text": [
            "Detecting bboxes: 100%|██████████| 1/1 [00:11<00:00, 11.24s/it]\n",
            "Recognizing Text: 100%|██████████| 1/1 [00:17<00:00, 17.59s/it]\n"
          ]
        },
        {
          "output_type": "stream",
          "name": "stdout",
          "text": [
            "\n",
            "🖼 Image: 22_guj.jpg\n",
            "📜  Prediction: [OCRResult(text_lines=[TextLine(polygon=[[92.0, 30.0], [637.0, 36.0], [627.0, 219.0], [77.0, 213.0]], confidence=0.7310056686401367, text=' જિમતી\\nતો ઘણુ બધુ હોય છે, જીવા છે, જીવા છે, જીવાન\\nજીવાને જીવાને મા', bbox=[77.0, 30.0, 637.0, 219.0]), TextLine(polygon=[[55.0, 180.0], [88.0, 180.0], [88.0, 189.0], [55.0, 189.0]], confidence=0.6059697270393372, text='િત કર્યું છે. ગામના લોકોનો મુખ્ય વ્યવસાય ખેતી, ખેત', bbox=[55.0, 180.0, 88.0, 189.0]), TextLine(polygon=[[193.0, 226.0], [206.0, 226.0], [206.0, 234.0], [193.0, 234.0]], confidence=0.2923562824726105, text='મ', bbox=[193.0, 226.0, 206.0, 234.0])], languages=['gu'], image_bbox=[0.0, 0.0, 637.0, 249.0])]\n",
            "\n"
          ]
        },
        {
          "output_type": "stream",
          "name": "stderr",
          "text": [
            "Detecting bboxes: 100%|██████████| 1/1 [00:15<00:00, 15.87s/it]\n",
            "Recognizing Text: 100%|██████████| 1/1 [00:12<00:00, 12.66s/it]\n"
          ]
        },
        {
          "output_type": "stream",
          "name": "stdout",
          "text": [
            "\n",
            "🖼 Image: 23_guj.jpg\n",
            "📜  Prediction: [OCRResult(text_lines=[TextLine(polygon=[[21.0, 0.0], [284.0, 0.0], [283.0, 58.0], [20.0, 57.0]], confidence=0.9965288043022156, text='પ્રકૃતિ સાથે સંવાદ સાધવી અને\\n    તેનો આદર કરવો જીવનને', bbox=[20.0, 0.0, 284.0, 58.0]), TextLine(polygon=[[37.0, 62.0], [264.0, 60.0], [265.0, 87.0], [38.0, 88.0]], confidence=0.713936984539032, text='સંતોષ અને શાંતિ આપે છે.', bbox=[37.0, 60.0, 265.0, 88.0])], languages=['gu'], image_bbox=[0.0, 0.0, 295.0, 113.0])]\n",
            "\n"
          ]
        },
        {
          "output_type": "stream",
          "name": "stderr",
          "text": [
            "Detecting bboxes: 100%|██████████| 1/1 [00:11<00:00, 11.67s/it]\n",
            "Recognizing Text: 100%|██████████| 1/1 [00:15<00:00, 15.56s/it]\n"
          ]
        },
        {
          "output_type": "stream",
          "name": "stdout",
          "text": [
            "\n",
            "🖼 Image: 24_guj.jpg\n",
            "📜  Prediction: [OCRResult(text_lines=[TextLine(polygon=[[187.0, 23.0], [529.0, 25.0], [527.0, 73.0], [184.0, 71.0]], confidence=0.8682640194892883, text='એ બધી જ જગ્યાએથી', bbox=[184.0, 23.0, 529.0, 73.0]), TextLine(polygon=[[162.0, 82.0], [555.0, 82.0], [555.0, 130.0], [162.0, 130.0]], confidence=0.9967026710510254, text='દર થઇ જાઓ જ્યાં તમારી', bbox=[162.0, 82.0, 555.0, 130.0]), TextLine(polygon=[[161.0, 127.0], [539.0, 141.0], [518.0, 191.0], [140.0, 177.0]], confidence=0.9678447246551514, text='ે કિંમત ના થતી હોય ! !', bbox=[140.0, 127.0, 539.0, 191.0])], languages=['gu'], image_bbox=[0.0, 0.0, 702.0, 212.0])]\n",
            "\n"
          ]
        },
        {
          "output_type": "stream",
          "name": "stderr",
          "text": [
            "Detecting bboxes: 100%|██████████| 1/1 [00:11<00:00, 11.52s/it]\n",
            "Recognizing Text: 100%|██████████| 1/1 [00:15<00:00, 15.90s/it]\n"
          ]
        },
        {
          "output_type": "stream",
          "name": "stdout",
          "text": [
            "\n",
            "🖼 Image: 25_guj.jpg\n",
            "📜  Prediction: [OCRResult(text_lines=[TextLine(polygon=[[65.0, 36.0], [435.0, 30.0], [439.0, 77.0], [69.0, 83.0]], confidence=0.8886740207672119, text='બહુ તકલીફ થાય છે જયારે', bbox=[65.0, 30.0, 439.0, 83.0]), TextLine(polygon=[[9.0, 86.0], [490.0, 89.0], [488.0, 132.0], [7.0, 129.0]], confidence=0.9696265459060669, text=' રાત્રે સપનામાં લગ્ન થઇ જાય અને', bbox=[7.0, 86.0, 490.0, 132.0]), TextLine(polygon=[[43.0, 136.0], [462.0, 136.0], [462.0, 181.0], [43.0, 181.0]], confidence=0.9686877727508545, text='સવારે ક્યાય પત્ની ના મળે ! ! ', bbox=[43.0, 136.0, 462.0, 181.0])], languages=['gu'], image_bbox=[0.0, 0.0, 555.0, 245.0])]\n",
            "\n"
          ]
        },
        {
          "output_type": "stream",
          "name": "stderr",
          "text": [
            "Detecting bboxes: 100%|██████████| 1/1 [00:11<00:00, 11.59s/it]\n",
            "Recognizing Text: 100%|██████████| 1/1 [00:49<00:00, 49.47s/it]\n"
          ]
        },
        {
          "output_type": "stream",
          "name": "stdout",
          "text": [
            "\n",
            "🖼 Image: 2_guj.png\n",
            "📜  Prediction: [OCRResult(text_lines=[TextLine(polygon=[[106.0, 50.0], [1283.0, 53.0], [1282.0, 88.0], [105.0, 85.0]], confidence=0.9617994427680969, text='જાહેર વહીવટના અનેકવિધ આયામોમાં આધુનિક વ્યવસ્થાપન પદ્ધતિઓનું ક્રમશઃ પ્રયોજન એ રાજ્ય સરકારનું લક્ષ્ય', bbox=[105.0, 50.0, 1283.0, 88.0]), TextLine(polygon=[[15.0, 102.0], [1283.0, 102.0], [1283.0, 137.0], [15.0, 137.0]], confidence=0.996688961982727, text='રહ્યું છે. મહેસૂલ વિભાગે તે દિશામાં શ્રેણીબદ્ધ સોપાનો સર કર્યાં છે. વહીવટી કાર્યરીતિમાં સરળતા અને સ્પષ્ટતા તેમાં પ્રમુખ', bbox=[15.0, 102.0, 1283.0, 137.0]), TextLine(polygon=[[16.0, 151.0], [1285.0, 154.0], [1285.0, 190.0], [16.0, 188.0]], confidence=0.9438168406486511, text='બાબત રહી છે. કાયદાકીય જોગવાઈઓ, નીતિ-નિયમો, સૂચનાઓ, પૂર્વ દસ્તાંતો, સ્પષ્ટતાઓ અને અદાલતી ચૂકાદાઓમાં', bbox=[16.0, 151.0, 1285.0, 190.0]), TextLine(polygon=[[17.0, 204.0], [1284.0, 205.0], [1284.0, 240.0], [17.0, 239.0]], confidence=0.9454299807548523, text='ઉપલબ્ધ વિશેષ અર્થઘટનોના લીધે રાજ્યનો મહેસૂલી વહીવટ એ વિશદ્ જાણકારી, અભ્યાસ અને સતત સંદર્ભ, પરામર્શ', bbox=[17.0, 204.0, 1284.0, 240.0]), TextLine(polygon=[[17.0, 254.0], [278.0, 257.0], [276.0, 290.0], [14.0, 287.0]], confidence=0.5549414157867432, text='માગી લે તેવી બાબત છે.', bbox=[14.0, 254.0, 278.0, 290.0]), TextLine(polygon=[[105.0, 342.0], [1283.0, 343.0], [1283.0, 378.0], [105.0, 377.0]], confidence=0.9005130529403687, text='આથી, દરેક સ્તરના મહેસૂલી અધિકારીઓ માટે સત્તા વિનિયોગ અનુસાર કામગીરી માટે રાજય સરકારે', bbox=[105.0, 342.0, 1283.0, 378.0]), TextLine(polygon=[[17.0, 391.0], [1285.0, 391.0], [1285.0, 428.0], [17.0, 428.0]], confidence=0.9872378706932068, text='નિયમસંગ્રહો પણ પ્રસિદ્ધ કર્યા છે. આ શ્રૃંખલામાં પ્રાંત અધિકારી મેન્યુઅલ એપ્રિલ-૨૦૦૬માં પ્રસિદ્ધ કરાયેલું. હવે તે સંવર્ષિત', bbox=[17.0, 391.0, 1285.0, 428.0]), TextLine(polygon=[[13.0, 443.0], [282.0, 443.0], [282.0, 479.0], [13.0, 479.0]], confidence=0.473802775144577, text='સ્વરૂપે રજૂ કરાઈ રહ્યું છે.', bbox=[13.0, 443.0, 282.0, 479.0])], languages=['gu'], image_bbox=[0.0, 0.0, 1316.0, 495.0])]\n",
            "\n"
          ]
        },
        {
          "output_type": "stream",
          "name": "stderr",
          "text": [
            "Detecting bboxes: 100%|██████████| 1/1 [00:11<00:00, 11.52s/it]\n",
            "Recognizing Text: 100%|██████████| 1/1 [00:06<00:00,  6.80s/it]\n"
          ]
        },
        {
          "output_type": "stream",
          "name": "stdout",
          "text": [
            "\n",
            "🖼 Image: 3_guj.png\n",
            "📜  Prediction: [OCRResult(text_lines=[TextLine(polygon=[[0.0, 21.0], [1410.0, 21.0], [1410.0, 115.0], [0.0, 115.0]], confidence=0.9914593696594238, text='ગિરિશભાઇ ગણદેવીકર જવેલર્સ પ્રા.લી.', bbox=[0.0, 21.0, 1410.0, 115.0])], languages=['gu'], image_bbox=[0.0, 0.0, 1412.0, 130.0])]\n",
            "\n"
          ]
        },
        {
          "output_type": "stream",
          "name": "stderr",
          "text": [
            "Detecting bboxes: 100%|██████████| 1/1 [00:10<00:00, 10.11s/it]\n",
            "Recognizing Text: 100%|██████████| 1/1 [00:37<00:00, 37.85s/it]\n"
          ]
        },
        {
          "output_type": "stream",
          "name": "stdout",
          "text": [
            "\n",
            "🖼 Image: 4_guj.jpg\n",
            "📜  Prediction: [OCRResult(text_lines=[TextLine(polygon=[[133.0, 0.0], [574.0, 16.0], [570.0, 79.0], [129.0, 61.0]], confidence=0.943859338760376, text='કોઈ પણ બાબત નુ', bbox=[129.0, 0.0, 574.0, 79.0]), TextLine(polygon=[[69.0, 84.0], [632.0, 79.0], [633.0, 155.0], [70.0, 160.0]], confidence=0.9835800528526306, text='એટલુ બધુ એનાલીસીસ', bbox=[69.0, 79.0, 633.0, 160.0]), TextLine(polygon=[[132.0, 164.0], [573.0, 172.0], [571.0, 241.0], [130.0, 233.0]], confidence=0.9863917231559753, text='ના કરવુ કે મગજ નુ', bbox=[130.0, 164.0, 573.0, 241.0]), TextLine(polygon=[[99.0, 250.0], [609.0, 251.0], [609.0, 310.0], [99.0, 310.0]], confidence=0.9823716878890991, text='પેરાલીસીસ થઈ જાય.', bbox=[99.0, 250.0, 609.0, 310.0]), TextLine(polygon=[[179.0, 328.0], [522.0, 336.0], [520.0, 399.0], [177.0, 391.0]], confidence=0.9062740802764893, text='ઈશ્રવરે જીંદગી', bbox=[177.0, 328.0, 522.0, 399.0]), TextLine(polygon=[[92.0, 407.0], [619.0, 407.0], [619.0, 476.0], [92.0, 476.0]], confidence=0.8197264075279236, text='“માણિવી” માટે અંપી છે', bbox=[92.0, 407.0, 619.0, 476.0]), TextLine(polygon=[[123.0, 494.0], [585.0, 491.0], [586.0, 556.0], [124.0, 559.0]], confidence=0.9661876559257507, text='\"આણવા\" માટે નહી.', bbox=[123.0, 491.0, 586.0, 559.0])], languages=['gu'], image_bbox=[0.0, 0.0, 697.0, 573.0])]\n",
            "\n"
          ]
        },
        {
          "output_type": "stream",
          "name": "stderr",
          "text": [
            "Detecting bboxes: 100%|██████████| 1/1 [00:11<00:00, 11.45s/it]\n",
            "Recognizing Text: 100%|██████████| 1/1 [00:42<00:00, 42.43s/it]\n"
          ]
        },
        {
          "output_type": "stream",
          "name": "stdout",
          "text": [
            "\n",
            "🖼 Image: 5_guj.jpg\n",
            "📜  Prediction: [OCRResult(text_lines=[TextLine(polygon=[[11.0, 11.0], [385.0, 10.0], [385.0, 44.0], [12.0, 46.0]], confidence=0.9939189553260803, text='શિયાળામાં હૂંફ આપતું ઊનનું સ્વેટર.', bbox=[11.0, 10.0, 385.0, 46.0]), TextLine(polygon=[[9.0, 49.0], [403.0, 47.0], [403.0, 75.0], [10.0, 77.0]], confidence=0.9605580568313599, text='ઉનાળામાં ઠંડક આપતું એરકન્ડીશનર.', bbox=[9.0, 47.0, 403.0, 77.0]), TextLine(polygon=[[9.0, 79.0], [437.0, 81.0], [436.0, 111.0], [9.0, 109.0]], confidence=0.9942287802696228, text='ચોમાસામાં પલળવાથી બચાવતો રેઈનકોટ.', bbox=[9.0, 79.0, 437.0, 111.0]), TextLine(polygon=[[10.0, 114.0], [399.0, 118.0], [398.0, 152.0], [9.0, 147.0]], confidence=0.9911248683929443, text='હોંઠો પર આવીને હાલરડું બનેલું ગીત, ', bbox=[9.0, 114.0, 399.0, 152.0]), TextLine(polygon=[[9.0, 151.0], [436.0, 150.0], [436.0, 180.0], [9.0, 181.0]], confidence=0.9931873679161072, text='ઉનાળામાં થાક ને પસીનો ઉતારતો ખોળો. ', bbox=[9.0, 150.0, 436.0, 181.0]), TextLine(polygon=[[10.0, 186.0], [421.0, 186.0], [421.0, 215.0], [10.0, 214.0]], confidence=0.9973934888839722, text='સમી સાંજે માળામાં પ્રવેશતા પંખીઓનો ', bbox=[10.0, 186.0, 421.0, 215.0]), TextLine(polygon=[[11.0, 225.0], [99.0, 228.0], [97.0, 251.0], [9.0, 248.0]], confidence=0.3572970926761627, text='કલરવ.', bbox=[9.0, 225.0, 99.0, 251.0]), TextLine(polygon=[[149.0, 248.0], [280.0, 248.0], [280.0, 254.0], [149.0, 254.0]], confidence=0.2576223611831665, text='', bbox=[149.0, 248.0, 280.0, 254.0])], languages=['gu'], image_bbox=[0.0, 0.0, 437.0, 255.0])]\n",
            "\n"
          ]
        },
        {
          "output_type": "stream",
          "name": "stderr",
          "text": [
            "Detecting bboxes: 100%|██████████| 1/1 [00:11<00:00, 11.33s/it]\n",
            "Recognizing Text: 100%|██████████| 1/1 [00:17<00:00, 17.01s/it]\n"
          ]
        },
        {
          "output_type": "stream",
          "name": "stdout",
          "text": [
            "\n",
            "🖼 Image: 6_guj.jpg\n",
            "📜  Prediction: [OCRResult(text_lines=[TextLine(polygon=[[73.0, 40.0], [457.0, 40.0], [457.0, 101.0], [73.0, 101.0]], confidence=0.45885732769966125, text='શરી નાટકાં', bbox=[73.0, 40.0, 457.0, 101.0]), TextLine(polygon=[[74.0, 138.0], [459.0, 136.0], [459.0, 160.0], [75.0, 162.0]], confidence=0.9984346628189087, text='ભવાઇ એ ગુજરાતનું એક પરંપરાગત લોકનાટ્ય સ્વરૂપ છે.', bbox=[74.0, 136.0, 459.0, 162.0]), TextLine(polygon=[[74.0, 193.0], [459.0, 199.0], [457.0, 243.0], [72.0, 237.0]], confidence=0.6775826215744019, text='“હો રે છબીલા તારા”', bbox=[72.0, 193.0, 459.0, 243.0])], languages=['gu'], image_bbox=[0.0, 0.0, 490.0, 252.0])]\n",
            "\n"
          ]
        },
        {
          "output_type": "stream",
          "name": "stderr",
          "text": [
            "Detecting bboxes: 100%|██████████| 1/1 [00:11<00:00, 11.46s/it]\n",
            "Recognizing Text: 100%|██████████| 1/1 [00:10<00:00, 10.21s/it]\n"
          ]
        },
        {
          "output_type": "stream",
          "name": "stdout",
          "text": [
            "\n",
            "🖼 Image: 7_guj.jpg\n",
            "📜  Prediction: [OCRResult(text_lines=[TextLine(polygon=[[0.0, 19.0], [388.0, 13.0], [392.0, 52.0], [1.0, 58.0]], confidence=0.9750540852546692, text='નાયક, નાયિકા અને મશ્કરો', bbox=[0.0, 13.0, 392.0, 58.0]), TextLine(polygon=[[0.0, 111.0], [373.0, 89.0], [396.0, 161.0], [9.0, 183.0]], confidence=0.6002345085144043, text='સહલાઈથી.', bbox=[0.0, 89.0, 396.0, 183.0])], languages=['gu'], image_bbox=[0.0, 0.0, 444.0, 186.0])]\n",
            "\n"
          ]
        },
        {
          "output_type": "stream",
          "name": "stderr",
          "text": [
            "Detecting bboxes: 100%|██████████| 1/1 [00:10<00:00, 10.43s/it]\n",
            "Recognizing Text: 100%|██████████| 1/1 [00:11<00:00, 11.87s/it]\n"
          ]
        },
        {
          "output_type": "stream",
          "name": "stdout",
          "text": [
            "\n",
            "🖼 Image: 8_guj.png\n",
            "📜  Prediction: [OCRResult(text_lines=[TextLine(polygon=[[0.0, 0.0], [559.0, 0.0], [559.0, 35.0], [0.0, 35.0]], confidence=0.9381569623947144, text='આ  બહેનના  વારવાર  નકારાત્મક  હુકમાને', bbox=[0.0, 0.0, 559.0, 35.0]), TextLine(polygon=[[0.0, 51.0], [559.0, 51.0], [559.0, 96.0], [0.0, 96.0]], confidence=0.9730955958366394, text='ત્રણેય જાતના કણોનું બેકાબૂ ઉત્પાદન શરૂ', bbox=[0.0, 51.0, 559.0, 96.0])], languages=['gu'], image_bbox=[0.0, 0.0, 560.0, 100.0])]\n",
            "\n"
          ]
        },
        {
          "output_type": "stream",
          "name": "stderr",
          "text": [
            "Detecting bboxes: 100%|██████████| 1/1 [00:11<00:00, 11.59s/it]\n",
            "Recognizing Text: 100%|██████████| 1/1 [00:06<00:00,  6.51s/it]"
          ]
        },
        {
          "output_type": "stream",
          "name": "stdout",
          "text": [
            "\n",
            "🖼 Image: 9_guj.png\n",
            "📜  Prediction: [OCRResult(text_lines=[TextLine(polygon=[[0.0, 0.0], [555.0, 0.0], [555.0, 126.0], [0.0, 126.0]], confidence=0.9760981202125549, text='ચૂંટણી કમિશનરોની નિમણુંક મુદ્દે\\nહોળી  પછી  સુપ્રીમમાં  સુનાવણી', bbox=[0.0, 0.0, 555.0, 126.0])], languages=['gu'], image_bbox=[0.0, 0.0, 556.0, 127.0])]\n",
            "\n"
          ]
        },
        {
          "output_type": "stream",
          "name": "stderr",
          "text": [
            "\n"
          ]
        }
      ]
    },
    {
      "cell_type": "code",
      "source": [
        "print(\"\\nOCR Results:\\n\")\n",
        "for result in ocr_results:\n",
        "    print(f\"Image: {result['image']}\\nText: {result['text']}\\n{'-'*50}\")\n"
      ],
      "metadata": {
        "colab": {
          "base_uri": "https://localhost:8080/"
        },
        "id": "8Ibflkl7Q-Wg",
        "outputId": "0e50d84c-19df-4ae3-bfc2-3c908a57e27a"
      },
      "execution_count": 8,
      "outputs": [
        {
          "output_type": "stream",
          "name": "stdout",
          "text": [
            "\n",
            "OCR Results:\n",
            "\n",
            "Image: 10_guj.png\n",
            "Text: એસઈસીએ કોની કોની\n",
            "સામે કેસ કર્યો ?\n",
            "૧. ગૌતમ અદાણી| ૫. સિરિલ કેબનેસ\n",
            "ર. સાગર અદાણી | ૬. સૌરભ અગ્રવાલ\n",
            "૩. વિનીત જૈન\n",
            "૪. રણજીત ગુપ્તા   ૮. દીપક મલહોત્ર\n",
            "--------------------------------------------------\n",
            "Image: 11_guj.png\n",
            "Text: ગુજરાત બજેટની વાંચો મહત્વની જાહેરાત\n",
            "--------------------------------------------------\n",
            "Image: 12_guj.png\n",
            "Text: ટ્રમ્પ તંત્ર તેમના ટ્રેડિંગ પાર્ટનર સાથે\n",
            "તેઓ લાદે છે તેટલો જ ટેક્સ લાદવા માટે\n",
            "દિવસ  રાત  કવાયત  કરી  રહ્યું  છે.    ટ્રુમ્પે\n",
            "જણાવ્યું હતું કે દ્વિપક્ષીય મંત્રણામાં પીએમ\n",
            "મોદીને જણાવ્યું હતું કે અમે શું કરવાના\n",
            "--------------------------------------------------\n",
            "Image: 13_guj.png\n",
            "Text: રાજકારણી કાશ પટેલ: મોટેલ વિનાનો અમેરિકન પટેલ: સેનેટ\n",
            "હિયરિંગમાં જય શ્રી કૃષ્ણ કહીને માતા-પિતાને પગે લાગ્યા હતા\n",
            "--------------------------------------------------\n",
            "Image: 14_guj.png\n",
            "Text: વડાપ્રધાનની 'સિલેક્ટેડ' મુલાકાત: સ્ટેજ પર એકનાથ શિંદેને\n",
            "ટકોર કરી, પવન કલ્યાણ સાથે હસતાં જોવા મળ્યા જ્યારે\n",
            "નાયડ્ડને કાન ધરી સાંભળ્યા\n",
            "--------------------------------------------------\n",
            "Image: 15_guj.png\n",
            "Text: ટ્રૂમ્પે  ૨૦૧૮૮માં  ભારતમાંથી  સ્ટીલ  પર   ૨૫  અને\n",
            "એલ્યુમિનિયમની આયાત પર ૧૦ ટકા ટેરિફ નાખ્યો હતો\n",
            "--------------------------------------------------\n",
            "Image: 16_guj.png\n",
            "Text: ઇવનિંગ ન્યૂઝ બુલેટિન મોત પહેલાંની એ અંતિમ ભાવુક વાત: વીડિયો\n",
            "બનાવી યુવક ડેમમાં ફૂદ્યો, ગોંડલમાં તોતિંગ બિંબ વચ્ચે ફસાઈ જિંદગી,\n",
            "બજેટમાં મહિલાઓ માટે નવી યોજના\n",
            "--------------------------------------------------\n",
            "Image: 17_guj.png\n",
            "Text: જામકંડોરણા નજીક બાલાપર ગામે વાડી વિસ્તારમાં\n",
            "મોબાઈલ ફોનમાં વીડિયો જોવા બાબતે\n",
            "માથાકૂટ થતા રાજસ્થાનના યુવકની હત્યા\n",
            "--------------------------------------------------\n",
            "Image: 18_guj.png\n",
            "Text: ૧. નિયમન\n",
            "ગણોતધારાની કલમ— 53 તથા નિયમ— 3.5\n",
            "જિલ્લા કલેકટરશ્રી (નમુના મુજબ)\n",
            "ર. અરજી કોને કરવી\n",
            "૩. અરજી કોણે કરવી\n",
            "જમીન વેચાણ કરનારે\n",
            "૪. નિકાલ માટેના સત્તાધિકારી\n",
            "જિલ્લા કલેકટરમ્રી\n",
            "::\n",
            "--------------------------------------------------\n",
            "Image: 19_guj.jpg\n",
            "Text: અંગ્રેજી કેમ લખાય છે ? કારણ કે શ્રુતિ ફોન્ટ યુનિકોડ ફોન્ટ\n",
            "છે જેનામાં અંગ્રેજી અને ગુજરાતી બેઉં ભાશાના અક્ષરો છે.\n",
            "એટલે વીન્ડોઝ કે લીનક્ષમાં ગુજરાતી લખવું હોય તો\n",
            "લેન્ગવેજ બારમાં ભાશા બદલવી પડે તો જ ગુજરાતી\n",
            "લખાય. આ વેબ પેજમાં યુનિકોડ ફ્રોન્ટ શું છે અને તે વતી\n",
            "--------------------------------------------------\n",
            "Image: 1_guj.png\n",
            "Text: હેર જ\n",
            "શોરૂમનું કામકાજ બંધ રહેશે.\n",
            "તા.૧૬ મંગળવાર થી રાબેતા મુજબ કામકાજ ચાલુ રહેશે.\n",
            "--------------------------------------------------\n",
            "Image: 20_guj.jpg\n",
            "Text: માં કંપાઝીટરોને નડતી મુ\n",
            "રેકલીઓનો અંગત અનુભ\n",
            "વ તેમને હતો અને તેથી તે\n",
            "ઓ છાપાકળાને ઉચ્ચી સ્વિ\n",
            "તિમાં લઇ જવાને મવત્ત થ\n",
            "યા હતા. “ગુજરાતી” છાપા\n",
            "--------------------------------------------------\n",
            "Image: 21_guj.jpg\n",
            "Text: પ્રેમ કાંઈ થોડો વ્યવહાર છે\n",
            "કે તું કરે,\n",
            "તો જ\n",
            "--------------------------------------------------\n",
            "Image: 22_guj.jpg\n",
            "Text: જિમતી\n",
            "તો ઘણુ બધુ હોય છે, જીવા છે, જીવા છે, જીવાન\n",
            "જીવાને જીવાને મા\n",
            "િત કર્યું છે. ગામના લોકોનો મુખ્ય વ્યવસાય ખેતી, ખેત\n",
            "મ\n",
            "--------------------------------------------------\n",
            "Image: 23_guj.jpg\n",
            "Text: પ્રકૃતિ સાથે સંવાદ સાધવી અને\n",
            "    તેનો આદર કરવો જીવનને\n",
            "સંતોષ અને શાંતિ આપે છે.\n",
            "--------------------------------------------------\n",
            "Image: 24_guj.jpg\n",
            "Text: એ બધી જ જગ્યાએથી\n",
            "દર થઇ જાઓ જ્યાં તમારી\n",
            "ે કિંમત ના થતી હોય ! !\n",
            "--------------------------------------------------\n",
            "Image: 25_guj.jpg\n",
            "Text: બહુ તકલીફ થાય છે જયારે\n",
            "રાત્રે સપનામાં લગ્ન થઇ જાય અને\n",
            "સવારે ક્યાય પત્ની ના મળે ! !\n",
            "--------------------------------------------------\n",
            "Image: 2_guj.png\n",
            "Text: જાહેર વહીવટના અનેકવિધ આયામોમાં આધુનિક વ્યવસ્થાપન પદ્ધતિઓનું ક્રમશઃ પ્રયોજન એ રાજ્ય સરકારનું લક્ષ્ય\n",
            "રહ્યું છે. મહેસૂલ વિભાગે તે દિશામાં શ્રેણીબદ્ધ સોપાનો સર કર્યાં છે. વહીવટી કાર્યરીતિમાં સરળતા અને સ્પષ્ટતા તેમાં પ્રમુખ\n",
            "બાબત રહી છે. કાયદાકીય જોગવાઈઓ, નીતિ-નિયમો, સૂચનાઓ, પૂર્વ દસ્તાંતો, સ્પષ્ટતાઓ અને અદાલતી ચૂકાદાઓમાં\n",
            "ઉપલબ્ધ વિશેષ અર્થઘટનોના લીધે રાજ્યનો મહેસૂલી વહીવટ એ વિશદ્ જાણકારી, અભ્યાસ અને સતત સંદર્ભ, પરામર્શ\n",
            "માગી લે તેવી બાબત છે.\n",
            "આથી, દરેક સ્તરના મહેસૂલી અધિકારીઓ માટે સત્તા વિનિયોગ અનુસાર કામગીરી માટે રાજય સરકારે\n",
            "નિયમસંગ્રહો પણ પ્રસિદ્ધ કર્યા છે. આ શ્રૃંખલામાં પ્રાંત અધિકારી મેન્યુઅલ એપ્રિલ-૨૦૦૬માં પ્રસિદ્ધ કરાયેલું. હવે તે સંવર્ષિત\n",
            "સ્વરૂપે રજૂ કરાઈ રહ્યું છે.\n",
            "--------------------------------------------------\n",
            "Image: 3_guj.png\n",
            "Text: ગિરિશભાઇ ગણદેવીકર જવેલર્સ પ્રા.લી.\n",
            "--------------------------------------------------\n",
            "Image: 4_guj.jpg\n",
            "Text: કોઈ પણ બાબત નુ\n",
            "એટલુ બધુ એનાલીસીસ\n",
            "ના કરવુ કે મગજ નુ\n",
            "પેરાલીસીસ થઈ જાય.\n",
            "ઈશ્રવરે જીંદગી\n",
            "“માણિવી” માટે અંપી છે\n",
            "\"આણવા\" માટે નહી.\n",
            "--------------------------------------------------\n",
            "Image: 5_guj.jpg\n",
            "Text: શિયાળામાં હૂંફ આપતું ઊનનું સ્વેટર.\n",
            "ઉનાળામાં ઠંડક આપતું એરકન્ડીશનર.\n",
            "ચોમાસામાં પલળવાથી બચાવતો રેઈનકોટ.\n",
            "હોંઠો પર આવીને હાલરડું બનેલું ગીત,\n",
            "ઉનાળામાં થાક ને પસીનો ઉતારતો ખોળો.\n",
            "સમી સાંજે માળામાં પ્રવેશતા પંખીઓનો\n",
            "કલરવ.\n",
            "\n",
            "--------------------------------------------------\n",
            "Image: 6_guj.jpg\n",
            "Text: શરી નાટકાં\n",
            "ભવાઇ એ ગુજરાતનું એક પરંપરાગત લોકનાટ્ય સ્વરૂપ છે.\n",
            "“હો રે છબીલા તારા”\n",
            "--------------------------------------------------\n",
            "Image: 7_guj.jpg\n",
            "Text: નાયક, નાયિકા અને મશ્કરો\n",
            "સહલાઈથી.\n",
            "--------------------------------------------------\n",
            "Image: 8_guj.png\n",
            "Text: આ  બહેનના  વારવાર  નકારાત્મક  હુકમાને\n",
            "ત્રણેય જાતના કણોનું બેકાબૂ ઉત્પાદન શરૂ\n",
            "--------------------------------------------------\n",
            "Image: 9_guj.png\n",
            "Text: ચૂંટણી કમિશનરોની નિમણુંક મુદ્દે\n",
            "હોળી  પછી  સુપ્રીમમાં  સુનાવણી\n",
            "--------------------------------------------------\n"
          ]
        }
      ]
    },
    {
      "cell_type": "code",
      "source": [
        "with open(output_file, \"w\", encoding=\"utf-8\") as f:\n",
        "    json.dump(ocr_results, f, indent=4, ensure_ascii=False)\n",
        "\n",
        "print(f\"OCR results saved in {output_file}\")"
      ],
      "metadata": {
        "colab": {
          "base_uri": "https://localhost:8080/"
        },
        "id": "TpxDdAMzMq4p",
        "outputId": "fc11196e-5413-4926-8f02-fc8171ae2a42"
      },
      "execution_count": 9,
      "outputs": [
        {
          "output_type": "stream",
          "name": "stdout",
          "text": [
            "OCR results saved in gujarati_ocr_text_results.json\n"
          ]
        }
      ]
    },
    {
      "cell_type": "code",
      "source": [],
      "metadata": {
        "id": "YArQGZ5sMq2J"
      },
      "execution_count": null,
      "outputs": []
    },
    {
      "cell_type": "code",
      "source": [],
      "metadata": {
        "id": "L6egVJz8Mqza"
      },
      "execution_count": null,
      "outputs": []
    },
    {
      "cell_type": "code",
      "source": [],
      "metadata": {
        "id": "-HcSBGCjMqw2"
      },
      "execution_count": null,
      "outputs": []
    },
    {
      "cell_type": "code",
      "source": [],
      "metadata": {
        "id": "ilwewF3mMquG"
      },
      "execution_count": null,
      "outputs": []
    },
    {
      "cell_type": "code",
      "source": [],
      "metadata": {
        "id": "UxXAf3RDMqro"
      },
      "execution_count": null,
      "outputs": []
    },
    {
      "cell_type": "code",
      "source": [],
      "metadata": {
        "id": "qXCiUZv0MqpV"
      },
      "execution_count": null,
      "outputs": []
    }
  ]
}